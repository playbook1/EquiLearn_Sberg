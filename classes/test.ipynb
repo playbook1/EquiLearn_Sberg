{
 "cells": [
  {
   "cell_type": "code",
   "execution_count": 1,
   "metadata": {},
   "outputs": [],
   "source": [
    "from Bimatrix import PayoffMatrix, Bimatrix\n",
    "import torch\n",
    "import fractions"
   ]
  },
  {
   "cell_type": "code",
   "execution_count": 2,
   "metadata": {},
   "outputs": [],
   "source": [
    "payoff = PayoffMatrix(None,10,5)"
   ]
  },
  {
   "cell_type": "code",
   "execution_count": 3,
   "metadata": {},
   "outputs": [
    {
     "data": {
      "text/plain": [
       "tensor([[0.3567, 0.6481, 0.5692, 0.8437, 0.0193],\n",
       "        [0.8287, 0.8941, 0.7258, 0.1050, 0.8544],\n",
       "        [0.6574, 0.6411, 0.8094, 0.0917, 0.5125],\n",
       "        [0.3945, 0.2629, 0.2246, 0.8111, 0.4025],\n",
       "        [0.5137, 0.7813, 0.6260, 0.5172, 0.5497],\n",
       "        [0.5893, 0.4843, 0.2257, 0.6175, 0.9537],\n",
       "        [0.0815, 0.4810, 0.9550, 0.6347, 0.6619],\n",
       "        [0.7282, 0.4148, 0.6941, 0.7367, 0.2527],\n",
       "        [0.9516, 0.7117, 0.4548, 0.0059, 0.8623],\n",
       "        [0.7282, 0.5018, 0.0614, 0.3676, 0.4441]], dtype=torch.float64)"
      ]
     },
     "execution_count": 3,
     "metadata": {},
     "output_type": "execute_result"
    }
   ],
   "source": [
    "payoff.__str__()\n"
   ]
  },
  {
   "cell_type": "code",
   "execution_count": 4,
   "metadata": {},
   "outputs": [],
   "source": [
    "payoff = PayoffMatrix(None, 2, 2)"
   ]
  },
  {
   "cell_type": "code",
   "execution_count": 5,
   "metadata": {},
   "outputs": [
    {
     "data": {
      "text/plain": [
       "tensor([[0., 0.],\n",
       "        [0., 0.],\n",
       "        [0., 0.]], dtype=torch.float64)"
      ]
     },
     "execution_count": 5,
     "metadata": {},
     "output_type": "execute_result"
    }
   ],
   "source": [
    "torch.concat((payoff.negmatrix, torch.Tensor([[0,0]])))"
   ]
  },
  {
   "cell_type": "code",
   "execution_count": 6,
   "metadata": {},
   "outputs": [],
   "source": [
    "game = Bimatrix(None, 5,5)"
   ]
  },
  {
   "cell_type": "code",
   "execution_count": 7,
   "metadata": {},
   "outputs": [
    {
     "name": "stdout",
     "output_type": "stream",
     "text": [
      "# m,n= \n",
      "5 5\n",
      "# A= \n",
      " tensor([[0.1126, 0.5581, 0.2404, 0.7318, 0.2083],\n",
      "        [0.0310, 0.1893, 0.4316, 0.4773, 0.1555],\n",
      "        [0.5492, 0.9047, 0.5648, 0.1582, 0.0883],\n",
      "        [0.5777, 0.2975, 0.4932, 0.0145, 0.7713],\n",
      "        [0.0762, 0.3738, 0.7390, 0.6566, 0.1528]], dtype=torch.float64)\n",
      "# B= tensor([[0.0961, 0.2167, 0.4386, 0.1467, 0.0959],\n",
      "        [0.4909, 0.6475, 0.2674, 0.0245, 0.1421],\n",
      "        [0.6234, 0.2625, 0.9979, 0.1306, 0.0469],\n",
      "        [0.1011, 0.7563, 0.1581, 0.1801, 0.0925],\n",
      "        [0.2929, 0.8376, 0.0704, 0.6827, 0.3444]], dtype=torch.float64)\n"
     ]
    }
   ],
   "source": [
    "print(game)"
   ]
  },
  {
   "cell_type": "code",
   "execution_count": 8,
   "metadata": {},
   "outputs": [
    {
     "name": "stdout",
     "output_type": "stream",
     "text": [
      "# m,n= \n",
      "5 5\n",
      "# A= \n",
      " tensor([[0.1126, 0.5581, 0.2404, 0.7318, 0.2083],\n",
      "        [0.0310, 0.1893, 0.4316, 0.4773, 0.1555],\n",
      "        [0.5492, 0.9047, 0.5648, 0.1582, 0.0883],\n",
      "        [0.5777, 0.2975, 0.4932, 0.0145, 0.7713],\n",
      "        [0.0762, 0.3738, 0.7390, 0.6566, 0.1528]], dtype=torch.float64)\n",
      "# B= tensor([[0.0961, 0.2167, 0.4386, 0.1467, 0.0959],\n",
      "        [0.4909, 0.6475, 0.2674, 0.0245, 0.1421],\n",
      "        [0.6234, 0.2625, 0.9979, 0.1306, 0.0469],\n",
      "        [0.1011, 0.7563, 0.1581, 0.1801, 0.0925],\n",
      "        [0.2929, 0.8376, 0.0704, 0.6827, 0.3444]], dtype=torch.float64)\n"
     ]
    }
   ],
   "source": [
    "print(game)"
   ]
  },
  {
   "cell_type": "code",
   "execution_count": 9,
   "metadata": {},
   "outputs": [
    {
     "name": "stdout",
     "output_type": "stream",
     "text": [
      "None\n"
     ]
    }
   ],
   "source": [
    "print(game.LH(\"\"))"
   ]
  },
  {
   "cell_type": "code",
   "execution_count": 10,
   "metadata": {},
   "outputs": [
    {
     "data": {
      "text/plain": [
       "1"
      ]
     },
     "execution_count": 10,
     "metadata": {},
     "output_type": "execute_result"
    }
   ],
   "source": [
    "\n"
   ]
  }
 ],
 "metadata": {
  "kernelspec": {
   "display_name": ".venv",
   "language": "python",
   "name": "python3"
  },
  "language_info": {
   "codemirror_mode": {
    "name": "ipython",
    "version": 3
   },
   "file_extension": ".py",
   "mimetype": "text/x-python",
   "name": "python",
   "nbconvert_exporter": "python",
   "pygments_lexer": "ipython3",
   "version": "3.9.13"
  }
 },
 "nbformat": 4,
 "nbformat_minor": 2
}
