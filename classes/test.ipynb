{
 "cells": [
  {
   "cell_type": "code",
   "execution_count": 1,
   "metadata": {},
   "outputs": [],
   "source": [
    "from GameEnvironment import ModelGameEnvironment\n",
    "import torch\n",
    "from ActorCritic import ActorCritic, Actor, Critic"
   ]
  },
  {
   "cell_type": "code",
   "execution_count": 2,
   "metadata": {},
   "outputs": [],
   "source": [
    "game = ModelGameEnvironment(.5, 2, .99, 10)"
   ]
  },
  {
   "cell_type": "code",
   "execution_count": 3,
   "metadata": {},
   "outputs": [
    {
     "data": {
      "text/plain": [
       "(tensor([50., 50.]), None, False)"
      ]
     },
     "execution_count": 3,
     "metadata": {},
     "output_type": "execute_result"
    }
   ],
   "source": [
    "game.reset()\n"
   ]
  },
  {
   "cell_type": "code",
   "execution_count": 4,
   "metadata": {},
   "outputs": [
    {
     "name": "stdout",
     "output_type": "stream",
     "text": [
      "(tensor([10., 10.]), tensor([-195., -195.]), False)\n",
      "quantity history tensor([[10.,  0.,  0.,  0.,  0.,  0.,  0.,  0.,  0.,  0.],\n",
      "        [10.,  0.,  0.,  0.,  0.,  0.,  0.,  0.,  0.,  0.]])\n",
      "profit history tensor([[-195.,    0.,    0.,    0.,    0.,    0.,    0.,    0.,    0.,    0.],\n",
      "        [-195.,    0.,    0.,    0.,    0.,    0.,    0.,    0.,    0.,    0.]])\n"
     ]
    }
   ],
   "source": [
    "print(game.step(torch.Tensor([10,10]) ))\n",
    "print(f\"quantity history {game.quantity}\")\n",
    "print(f\"profit history {game.profit}\")"
   ]
  },
  {
   "cell_type": "code",
   "execution_count": 5,
   "metadata": {},
   "outputs": [
    {
     "name": "stdout",
     "output_type": "stream",
     "text": [
      "Episode 0 complete\n",
      "tensor(-1.1477e+11)\n",
      "Episode 100 complete\n",
      "tensor(-27.0803)\n",
      "Episode 200 complete\n",
      "tensor(-25.5474)\n",
      "Episode 300 complete\n",
      "tensor(-25.3987)\n",
      "Episode 400 complete\n",
      "tensor(-25.5567)\n",
      "Episode 500 complete\n",
      "tensor(-23.7390)\n",
      "Episode 600 complete\n",
      "tensor(-11.0857)\n",
      "Episode 700 complete\n",
      "tensor(-10.6153)\n",
      "Episode 800 complete\n",
      "tensor(-9.8363)\n",
      "Episode 900 complete\n",
      "tensor(-8.8265)\n"
     ]
    }
   ],
   "source": [
    "env = ModelGameEnvironment(.5, 2, .99, 10)\n",
    "\n",
    "# Initialize actor and critic\n",
    "input_dim = 2\n",
    "\n",
    "actor = Actor(input_dim)\n",
    "critic = Critic(input_dim)\n",
    "\n",
    "# Initialize actor-critic algorithm\n",
    "agent = ActorCritic(actor, critic, .99)\n",
    "\n",
    "# Training loop\n",
    "num_episodes = 1000\n",
    "for episode in range(num_episodes):\n",
    "    state, _, done = env.reset()\n",
    "\n",
    "    \n",
    "    while not done:\n",
    "        action_profile = torch.Tensor(2)\n",
    "        log_probs = []\n",
    "\n",
    "\n",
    "        for _ in range(2):\n",
    "            action, log_prob = agent.select_action(state)\n",
    "            action_profile[_] = action\n",
    "            log_probs.append(log_prob)\n",
    "        \n",
    "        \n",
    "        # Compute reward based on the action profile\n",
    "        next_state, reward_tensor, done = env.step(action_profile)\n",
    "        reward = torch.sum(reward_tensor).item()\n",
    "        \n",
    "\n",
    "\n",
    "        #for i in range(2):\n",
    "        agent.update(state,  reward, log_probs[0], next_state)\n",
    "        \n",
    "\n",
    "\n",
    "    if episode % 100 == 0:\n",
    "        print(f\"Episode {episode} complete\")\n",
    "        print(torch.sum(env.profit))"
   ]
  }
 ],
 "metadata": {
  "kernelspec": {
   "display_name": ".venv",
   "language": "python",
   "name": "python3"
  },
  "language_info": {
   "codemirror_mode": {
    "name": "ipython",
    "version": 3
   },
   "file_extension": ".py",
   "mimetype": "text/x-python",
   "name": "python",
   "nbconvert_exporter": "python",
   "pygments_lexer": "ipython3",
   "version": "3.9.13"
  }
 },
 "nbformat": 4,
 "nbformat_minor": 2
}
