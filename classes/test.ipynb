{
 "cells": [
  {
   "cell_type": "code",
   "execution_count": 26,
   "metadata": {},
   "outputs": [],
   "source": [
    "from GameEnvironment import ModelGameEnvironment\n",
    "import torch\n",
    "from ActorCritic import ActorCritic, Actor, Critic\n",
    "import pandas as pd"
   ]
  },
  {
   "cell_type": "code",
   "execution_count": 2,
   "metadata": {},
   "outputs": [],
   "source": [
    "game = ModelGameEnvironment(.5, 2, .99, 10)"
   ]
  },
  {
   "cell_type": "code",
   "execution_count": 3,
   "metadata": {},
   "outputs": [
    {
     "data": {
      "text/plain": [
       "(tensor([50., 50.]), None, False)"
      ]
     },
     "execution_count": 3,
     "metadata": {},
     "output_type": "execute_result"
    }
   ],
   "source": [
    "game.reset()\n"
   ]
  },
  {
   "cell_type": "code",
   "execution_count": 4,
   "metadata": {},
   "outputs": [
    {
     "name": "stdout",
     "output_type": "stream",
     "text": [
      "(tensor([10., 10.]), tensor([-195., -195.]), False)\n",
      "quantity history tensor([[10.,  0.,  0.,  0.,  0.,  0.,  0.,  0.,  0.,  0.],\n",
      "        [10.,  0.,  0.,  0.,  0.,  0.,  0.,  0.,  0.,  0.]])\n",
      "profit history tensor([[-195.,    0.,    0.,    0.,    0.,    0.,    0.,    0.,    0.,    0.],\n",
      "        [-195.,    0.,    0.,    0.,    0.,    0.,    0.,    0.,    0.,    0.]])\n"
     ]
    }
   ],
   "source": [
    "print(game.step(torch.Tensor([10,10]) ))\n",
    "print(f\"quantity history {game.quantity}\")\n",
    "print(f\"profit history {game.profit}\")"
   ]
  },
  {
   "cell_type": "code",
   "execution_count": 52,
   "metadata": {},
   "outputs": [
    {
     "name": "stderr",
     "output_type": "stream",
     "text": [
      "/Users/pacoaristi/Desktop/Github ferdos/EquiLearn_Sberg/classes/ActorCritic.py:58: UserWarning: To copy construct from a tensor, it is recommended to use sourceTensor.clone().detach() or sourceTensor.clone().detach().requires_grad_(True), rather than torch.tensor(sourceTensor).\n",
      "  reward = torch.tensor(reward, dtype=torch.float32, device=self.device)\n"
     ]
    },
    {
     "data": {
      "text/html": [
       "<div>\n",
       "<style scoped>\n",
       "    .dataframe tbody tr th:only-of-type {\n",
       "        vertical-align: middle;\n",
       "    }\n",
       "\n",
       "    .dataframe tbody tr th {\n",
       "        vertical-align: top;\n",
       "    }\n",
       "\n",
       "    .dataframe thead th {\n",
       "        text-align: right;\n",
       "    }\n",
       "</style>\n",
       "<table border=\"1\" class=\"dataframe\">\n",
       "  <thead>\n",
       "    <tr style=\"text-align: right;\">\n",
       "      <th></th>\n",
       "      <th>agent 1</th>\n",
       "      <th>agent 2</th>\n",
       "    </tr>\n",
       "  </thead>\n",
       "  <tbody>\n",
       "    <tr>\n",
       "      <th>0</th>\n",
       "      <td>-26.488716</td>\n",
       "      <td>-65.427383</td>\n",
       "    </tr>\n",
       "    <tr>\n",
       "      <th>1</th>\n",
       "      <td>-29.347111</td>\n",
       "      <td>-346.775482</td>\n",
       "    </tr>\n",
       "    <tr>\n",
       "      <th>2</th>\n",
       "      <td>-152.621719</td>\n",
       "      <td>-243.684906</td>\n",
       "    </tr>\n",
       "    <tr>\n",
       "      <th>3</th>\n",
       "      <td>-163.545822</td>\n",
       "      <td>75.104477</td>\n",
       "    </tr>\n",
       "    <tr>\n",
       "      <th>4</th>\n",
       "      <td>-190.647614</td>\n",
       "      <td>-305.717865</td>\n",
       "    </tr>\n",
       "    <tr>\n",
       "      <th>...</th>\n",
       "      <td>...</td>\n",
       "      <td>...</td>\n",
       "    </tr>\n",
       "    <tr>\n",
       "      <th>95</th>\n",
       "      <td>-1532.857300</td>\n",
       "      <td>557.684387</td>\n",
       "    </tr>\n",
       "    <tr>\n",
       "      <th>96</th>\n",
       "      <td>-1536.022583</td>\n",
       "      <td>560.138245</td>\n",
       "    </tr>\n",
       "    <tr>\n",
       "      <th>97</th>\n",
       "      <td>-1507.469971</td>\n",
       "      <td>556.711182</td>\n",
       "    </tr>\n",
       "    <tr>\n",
       "      <th>98</th>\n",
       "      <td>-1516.585693</td>\n",
       "      <td>560.861755</td>\n",
       "    </tr>\n",
       "    <tr>\n",
       "      <th>99</th>\n",
       "      <td>-1517.836426</td>\n",
       "      <td>565.375122</td>\n",
       "    </tr>\n",
       "  </tbody>\n",
       "</table>\n",
       "<p>100 rows × 2 columns</p>\n",
       "</div>"
      ],
      "text/plain": [
       "        agent 1     agent 2\n",
       "0    -26.488716  -65.427383\n",
       "1    -29.347111 -346.775482\n",
       "2   -152.621719 -243.684906\n",
       "3   -163.545822   75.104477\n",
       "4   -190.647614 -305.717865\n",
       "..          ...         ...\n",
       "95 -1532.857300  557.684387\n",
       "96 -1536.022583  560.138245\n",
       "97 -1507.469971  556.711182\n",
       "98 -1516.585693  560.861755\n",
       "99 -1517.836426  565.375122\n",
       "\n",
       "[100 rows x 2 columns]"
      ]
     },
     "execution_count": 52,
     "metadata": {},
     "output_type": "execute_result"
    }
   ],
   "source": [
    "##################################\n",
    "# Independent Learning Algorithm #\n",
    "##################################\n",
    "\n",
    "env = ModelGameEnvironment(.5, 2, .99, 10)\n",
    "\n",
    "# Initialize actor and critic\n",
    "input_dim = 2\n",
    "\n",
    "\n",
    "# Initialize actor-critic algorithm\n",
    "agent1 = ActorCritic(Actor(input_dim), \n",
    "                    Critic(input_dim), .90)\n",
    "\n",
    "\n",
    "agent2 = ActorCritic(Actor(input_dim), \n",
    "                    Critic(input_dim), .90)\n",
    "\n",
    "reward_memory = dict()\n",
    "\n",
    "# Training loop\n",
    "num_episodes = 100\n",
    "for episode in range(num_episodes):\n",
    "    total_reward_agent1 = 0\n",
    "    total_reward_agent2 = 0\n",
    "    state, _, done = env.reset()\n",
    "\n",
    "    \n",
    "    while not done:\n",
    "        action_profile = torch.Tensor(2)\n",
    "        log_probs = []\n",
    "\n",
    "\n",
    "        \n",
    "        action1, log_prob1 = agent1.sample_action(state)\n",
    "        action_profile[0] = action1\n",
    "\n",
    "\n",
    "        action2, log_prob2 = agent2.sample_action(state)\n",
    "        action_profile[1] = action2\n",
    "        log_probs.append([log_prob1,log_prob2])        \n",
    "        \n",
    "        # Compute reward based on the action profile\n",
    "        next_state, reward_tensor, done = env.step(action_profile)\n",
    "        #print(f\"next state: {next_state}, reward_tensor: {reward_tensor}, done: {done}\")\n",
    "        reward = torch.sum(reward_tensor).item()\n",
    "\n",
    "        #for i in range(2):\n",
    "        agent1.update(state,  reward_tensor[0], log_probs[0][0], next_state)\n",
    "        total_reward_agent1 += reward_tensor[0]\n",
    "        agent2.update(state,  reward_tensor[1], log_probs[0][1], next_state)        \n",
    "        total_reward_agent2 += reward_tensor[1]\n",
    "\n",
    "    #if episode % 10 == 0:\n",
    "        \n",
    "    #print(f\"Episode {episode} complete\")\n",
    "    #print(total_reward_agent1,total_reward_agent2)\n",
    "    reward_memory[f\"{episode}\"] = {\"agent 1\": total_reward_agent1.item(), \"agent 2\": total_reward_agent2.item()}\n",
    "\n",
    "pd.DataFrame(reward_memory).T"
   ]
  },
  {
   "cell_type": "code",
   "execution_count": 53,
   "metadata": {},
   "outputs": [
    {
     "data": {
      "text/plain": [
       "<Axes: >"
      ]
     },
     "execution_count": 53,
     "metadata": {},
     "output_type": "execute_result"
    },
    {
     "data": {
      "image/png": "[encoded data removed]",
      "text/plain": [
       "<Figure size 640x480 with 1 Axes>"
      ]
     },
     "metadata": {},
     "output_type": "display_data"
    }
   ],
   "source": [
    "pd.DataFrame(reward_memory).T.plot()\n"
   ]
  },
  {
   "cell_type": "code",
   "execution_count": null,
   "metadata": {},
   "outputs": [],
   "source": []
  }
 ],
 "metadata": {
  "kernelspec": {
   "display_name": ".venv",
   "language": "python",
   "name": "python3"
  },
  "language_info": {
   "codemirror_mode": {
    "name": "ipython",
    "version": 3
   },
   "file_extension": ".py",
   "mimetype": "text/x-python",
   "name": "python",
   "nbconvert_exporter": "python",
   "pygments_lexer": "ipython3",
   "version": "3.9.13"
  }
 },
 "nbformat": 4,
 "nbformat_minor": 2
}
