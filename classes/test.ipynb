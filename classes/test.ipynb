{
 "cells": [
  {
   "cell_type": "code",
   "execution_count": 1,
   "metadata": {},
   "outputs": [],
   "source": [
    "from Bimatrix import PayoffMatrix, Bimatrix, processArguments\n",
    "import torch\n",
    "import fractions"
   ]
  },
  {
   "cell_type": "code",
   "execution_count": 2,
   "metadata": {},
   "outputs": [],
   "source": [
    "payoff = PayoffMatrix(None,10,5)"
   ]
  },
  {
   "cell_type": "code",
   "execution_count": 3,
   "metadata": {},
   "outputs": [
    {
     "data": {
      "text/plain": [
       "tensor([[75.6944,  8.7106, 55.9041, 30.3979, 17.5002],\n",
       "        [49.5165, 31.2749,  7.2198, 66.2829,  7.1693],\n",
       "        [ 3.6857,  1.4830, 12.8070, 91.8261, 36.0214],\n",
       "        [97.5284, 71.5620, 43.7392,  3.9759, 24.3781],\n",
       "        [31.0885, 70.8593, 45.4988, 86.2681, 14.7214],\n",
       "        [31.5800,  5.6070, 68.3446,  7.5921, 21.3308],\n",
       "        [90.8613, 71.1251, 53.3883, 92.9316, 37.0985],\n",
       "        [28.0054, 28.5637, 16.9229, 41.5639, 16.4013],\n",
       "        [72.2697, 57.6293, 61.0833,  2.4133, 96.2516],\n",
       "        [15.4162, 79.3512,  3.4074, 86.8983, 74.7353]], dtype=torch.float64)"
      ]
     },
     "execution_count": 3,
     "metadata": {},
     "output_type": "execute_result"
    }
   ],
   "source": [
    "payoff.__str__()\n"
   ]
  },
  {
   "cell_type": "code",
   "execution_count": 4,
   "metadata": {},
   "outputs": [],
   "source": [
    "payoff = PayoffMatrix(None, 2, 2)"
   ]
  },
  {
   "cell_type": "code",
   "execution_count": 5,
   "metadata": {},
   "outputs": [
    {
     "data": {
      "text/plain": [
       "tensor([[0., 0.],\n",
       "        [0., 0.],\n",
       "        [0., 0.]], dtype=torch.float64)"
      ]
     },
     "execution_count": 5,
     "metadata": {},
     "output_type": "execute_result"
    }
   ],
   "source": [
    "torch.concat((payoff.negmatrix, torch.Tensor([[0,0]])))"
   ]
  },
  {
   "cell_type": "code",
   "execution_count": 6,
   "metadata": {},
   "outputs": [],
   "source": [
    "game = Bimatrix(None, 5,5)"
   ]
  },
  {
   "cell_type": "code",
   "execution_count": 7,
   "metadata": {},
   "outputs": [
    {
     "name": "stdout",
     "output_type": "stream",
     "text": [
      "# m,n= \n",
      "5 5\n",
      "# A= \n",
      " tensor([[73.8402, 35.9579, 40.2775, 63.8543, 92.6314],\n",
      "        [83.9031, 52.0634, 59.0331, 27.1275,  5.0095],\n",
      "        [24.9081, 69.4155, 65.2541, 32.0303, 17.9675],\n",
      "        [31.7022, 32.3345, 83.2285, 35.7701, 23.0545],\n",
      "        [64.5279, 13.5209,  1.7752, 44.4636, 14.8444]], dtype=torch.float64)\n",
      "# B= tensor([[11.5347, 58.0567, 21.0150, 72.5047, 54.1683],\n",
      "        [20.6766, 24.2303, 57.7492, 99.7781, 46.7264],\n",
      "        [77.2456, 87.1176, 70.3154, 71.8340, 32.6977],\n",
      "        [11.0870, 51.6795, 39.7390, 99.1663, 54.7723],\n",
      "        [76.1790, 79.0456, 73.1087,  5.8350, 89.3526]], dtype=torch.float64)\n"
     ]
    }
   ],
   "source": [
    "print(game)"
   ]
  },
  {
   "cell_type": "code",
   "execution_count": 8,
   "metadata": {},
   "outputs": [
    {
     "name": "stdout",
     "output_type": "stream",
     "text": [
      "# m,n= \n",
      "5 5\n",
      "# A= \n",
      " tensor([[73.8402, 35.9579, 40.2775, 63.8543, 92.6314],\n",
      "        [83.9031, 52.0634, 59.0331, 27.1275,  5.0095],\n",
      "        [24.9081, 69.4155, 65.2541, 32.0303, 17.9675],\n",
      "        [31.7022, 32.3345, 83.2285, 35.7701, 23.0545],\n",
      "        [64.5279, 13.5209,  1.7752, 44.4636, 14.8444]], dtype=torch.float64)\n",
      "# B= tensor([[11.5347, 58.0567, 21.0150, 72.5047, 54.1683],\n",
      "        [20.6766, 24.2303, 57.7492, 99.7781, 46.7264],\n",
      "        [77.2456, 87.1176, 70.3154, 71.8340, 32.6977],\n",
      "        [11.0870, 51.6795, 39.7390, 99.1663, 54.7723],\n",
      "        [76.1790, 79.0456, 73.1087,  5.8350, 89.3526]], dtype=torch.float64)\n"
     ]
    }
   ],
   "source": [
    "print(game)"
   ]
  },
  {
   "cell_type": "code",
   "execution_count": 9,
   "metadata": {},
   "outputs": [
    {
     "name": "stdout",
     "output_type": "stream",
     "text": [
      "After filltableau:\n",
      "Determinant: -1\n",
      "var  z0 z1 z2 z3 z4 z5 z6 z7 z8 z9 z10 z11 z12 RHS\n",
      "scfa  1  1  1  1  1  1  1  1  1  1   1   1   1   1\n",
      "                                                  \n",
      "w1    .  .  .  .  .  .  .  .  .  .   .  -1   .   .\n",
      "w2    1  .  .  .  .  .  .  .  .  .   .  -1   .   .\n",
      "w3    1  .  .  .  .  .  .  .  .  .   .  -1   .   .\n",
      "w4    1  .  .  .  .  .  .  .  .  .   .  -1   .   .\n",
      "w5    1  .  .  .  .  .  .  .  .  .   .  -1   .   .\n",
      "w6    1  .  .  .  .  .  .  .  .  .   .   .  -1   .\n",
      "w7    1  .  .  .  .  .  .  .  .  .   .   .  -1   .\n",
      "w8    1  .  .  .  .  .  .  .  .  .   .   .  -1   .\n",
      "w9    1  .  .  .  .  .  .  .  .  .   .   .  -1   .\n",
      "w10   1  .  .  .  .  .  .  .  .  .   .   .  -1   .\n",
      "w11   1  1  1  1  1  1  .  .  .  .   .   .   .  -1\n",
      "w12   1  .  .  .  .  .  1  1  1  1   1   .   .  -1\n",
      "-----------------end of tableau-----------------\n",
      "leaving: w12  entering: z0\n",
      "leaving: w10  entering: z12\n",
      "leaving: w11  entering: z10\n",
      "leaving: w1   entering: z11\n",
      "leaving: w5   entering: z1\n",
      "Final tableau:\n",
      "Determinant: 1\n",
      "var  w12 w5 z2 z3 z4 z5 z6 z7 z8 z9 w11 w1 w10 RHS\n",
      "scfa   1  1  1  1  1  1  1  1  1  1   1  1   1   1\n",
      "                                                  \n",
      "z11    .  .  .  .  .  .  .  .  .  .   .  1   .   .\n",
      "w2     . -1  .  .  .  .  .  .  .  .   .  .   .   .\n",
      "w3     . -1  .  .  .  .  .  .  .  .   .  .   .   .\n",
      "w4     . -1  .  .  .  .  .  .  .  .   .  .   .   .\n",
      "z1     .  1  1  1  1  1  .  .  .  .  -1 -1   .   1\n",
      "w6     .  .  .  .  .  .  .  .  .  .   .  .  -1   .\n",
      "w7     .  .  .  .  .  .  .  .  .  .   .  .  -1   .\n",
      "w8     .  .  .  .  .  .  .  .  .  .   .  .  -1   .\n",
      "w9     .  .  .  .  .  .  .  .  .  .   .  .  -1   .\n",
      "z12    . -1  .  .  .  .  .  .  .  .   .  1   1   .\n",
      "z10   -1  1  .  .  .  .  1  1  1  1   . -1   .   1\n",
      "z0     . -1  .  .  .  .  .  .  .  .   .  1   .   .\n",
      "-----------------end of tableau-----------------\n",
      "basis= z0 z1 w2 w3 w4    w6 w7 w8 w9 z10 z11 z12\n",
      "    z=  0  1  0  0  0  0  0  0  0  0   1   0   0\n",
      "    w=     0  0  0  0  0  0  0  0  0   0   0   0\n",
      "label 1 found eq (1,0,0,0,0),(0,0,0,0,1)\n",
      "    supports: [0][4]\n",
      "(1,0,0,0,0),(0,0,0,0,1)\n",
      "    supports: [0][4] found by labels [1]\n",
      "{(Fraction(1, 1), Fraction(0, 1), Fraction(0, 1), Fraction(0, 1), Fraction(0, 1), Fraction(0, 1), Fraction(0, 1), Fraction(0, 1), Fraction(0, 1), Fraction(1, 1)): [1]}\n"
     ]
    }
   ],
   "source": [
    "print(game.LemkeHowson  (\"1\"))"
   ]
  },
  {
   "cell_type": "code",
   "execution_count": 10,
   "metadata": {},
   "outputs": [
    {
     "data": {
      "text/plain": [
       "Fraction(6, 5)"
      ]
     },
     "execution_count": 10,
     "metadata": {},
     "output_type": "execute_result"
    }
   ],
   "source": [
    "fractions.Fraction(\"1.2\")"
   ]
  }
 ],
 "metadata": {
  "kernelspec": {
   "display_name": ".venv",
   "language": "python",
   "name": "python3"
  },
  "language_info": {
   "codemirror_mode": {
    "name": "ipython",
    "version": 3
   },
   "file_extension": ".py",
   "mimetype": "text/x-python",
   "name": "python",
   "nbconvert_exporter": "python",
   "pygments_lexer": "ipython3",
   "version": "3.9.13"
  }
 },
 "nbformat": 4,
 "nbformat_minor": 2
}
