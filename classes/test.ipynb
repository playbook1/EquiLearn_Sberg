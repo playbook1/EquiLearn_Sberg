{
 "cells": [
  {
   "cell_type": "code",
   "execution_count": 1,
   "metadata": {},
   "outputs": [],
   "source": [
    "from Bimatrix import PayoffMatrix, Bimatrix, processArguments\n",
    "import torch\n",
    "import fractions"
   ]
  },
  {
   "cell_type": "code",
   "execution_count": 2,
   "metadata": {},
   "outputs": [],
   "source": [
    "payoff = PayoffMatrix(None,10,5)"
   ]
  },
  {
   "cell_type": "code",
   "execution_count": 3,
   "metadata": {},
   "outputs": [
    {
     "data": {
      "text/plain": [
       "tensor([[37.2275,  0.4307, 32.7115, 19.3120, 57.2170],\n",
       "        [88.3238, 40.2288, 62.9738, 88.7352, 45.2705],\n",
       "        [74.2997, 54.6790,  0.1541, 33.3198, 20.2593],\n",
       "        [ 0.2538, 77.5777, 48.2908, 57.4598, 50.5202],\n",
       "        [52.6620, 30.1810, 53.2693, 68.9827, 32.2855],\n",
       "        [34.9280, 76.9346, 38.8301, 50.6637,  4.8628],\n",
       "        [48.2200,  8.2309, 40.1322, 68.0226, 34.7707],\n",
       "        [24.5498,  3.8404, 65.4737, 65.4588, 42.8959],\n",
       "        [40.2370, 52.3630, 62.4971,  5.1400, 79.5775],\n",
       "        [43.9009, 65.5976,  0.3441, 35.9327,  8.7863]], dtype=torch.float64)"
      ]
     },
     "execution_count": 3,
     "metadata": {},
     "output_type": "execute_result"
    }
   ],
   "source": [
    "payoff.__str__()\n"
   ]
  },
  {
   "cell_type": "code",
   "execution_count": 4,
   "metadata": {},
   "outputs": [],
   "source": [
    "payoff = PayoffMatrix(None, 2, 2)"
   ]
  },
  {
   "cell_type": "code",
   "execution_count": 5,
   "metadata": {},
   "outputs": [
    {
     "data": {
      "text/plain": [
       "tensor([[0., 0.],\n",
       "        [0., 0.],\n",
       "        [0., 0.]], dtype=torch.float64)"
      ]
     },
     "execution_count": 5,
     "metadata": {},
     "output_type": "execute_result"
    }
   ],
   "source": [
    "torch.concat((payoff.negmatrix, torch.Tensor([[0,0]])))"
   ]
  },
  {
   "cell_type": "code",
   "execution_count": 6,
   "metadata": {},
   "outputs": [],
   "source": [
    "game = Bimatrix(None, 5,5)"
   ]
  },
  {
   "cell_type": "code",
   "execution_count": 7,
   "metadata": {},
   "outputs": [
    {
     "name": "stdout",
     "output_type": "stream",
     "text": [
      "# m,n= \n",
      "5 5\n",
      "# A= \n",
      " tensor([[19.6506, 57.1207, 12.3970, 13.0856, 75.0671],\n",
      "        [12.2465, 49.1033, 38.7688, 93.5781, 17.6382],\n",
      "        [55.3086, 20.4362,  5.3255, 90.7580, 39.0415],\n",
      "        [97.3700, 71.9183, 79.4871, 10.7944, 11.0530],\n",
      "        [48.3489,  3.2753, 72.0476, 40.8152, 25.8745]], dtype=torch.float64)\n",
      "# B= tensor([[10.7578, 49.2832, 95.4756, 29.2930,  6.9899],\n",
      "        [ 9.3459,  1.3043,  7.8746, 38.6530, 34.5150],\n",
      "        [91.1131, 90.9082, 70.4932, 52.0813, 36.1970],\n",
      "        [65.8465, 23.1314, 23.3531, 20.1406, 33.1066],\n",
      "        [71.5607, 34.9038,  2.6634, 57.8797, 92.0479]], dtype=torch.float64)\n"
     ]
    }
   ],
   "source": [
    "print(game)"
   ]
  },
  {
   "cell_type": "code",
   "execution_count": 8,
   "metadata": {},
   "outputs": [
    {
     "name": "stdout",
     "output_type": "stream",
     "text": [
      "# m,n= \n",
      "5 5\n",
      "# A= \n",
      " tensor([[19.6506, 57.1207, 12.3970, 13.0856, 75.0671],\n",
      "        [12.2465, 49.1033, 38.7688, 93.5781, 17.6382],\n",
      "        [55.3086, 20.4362,  5.3255, 90.7580, 39.0415],\n",
      "        [97.3700, 71.9183, 79.4871, 10.7944, 11.0530],\n",
      "        [48.3489,  3.2753, 72.0476, 40.8152, 25.8745]], dtype=torch.float64)\n",
      "# B= tensor([[10.7578, 49.2832, 95.4756, 29.2930,  6.9899],\n",
      "        [ 9.3459,  1.3043,  7.8746, 38.6530, 34.5150],\n",
      "        [91.1131, 90.9082, 70.4932, 52.0813, 36.1970],\n",
      "        [65.8465, 23.1314, 23.3531, 20.1406, 33.1066],\n",
      "        [71.5607, 34.9038,  2.6634, 57.8797, 92.0479]], dtype=torch.float64)\n"
     ]
    }
   ],
   "source": [
    "print(game)"
   ]
  },
  {
   "cell_type": "code",
   "execution_count": 9,
   "metadata": {},
   "outputs": [
    {
     "name": "stdout",
     "output_type": "stream",
     "text": [
      "n= 12\n",
      "M=                                                                                                                                   \n",
      "tensor(0.) tensor(0.) tensor(0.) tensor(0.) tensor(0.) tensor(0.) tensor(0.) tensor(0.) tensor(0.) tensor(0.) tensor(-1.)  tensor(0.)\n",
      "tensor(0.) tensor(0.) tensor(0.) tensor(0.) tensor(0.) tensor(0.) tensor(0.) tensor(0.) tensor(0.) tensor(0.) tensor(-1.)  tensor(0.)\n",
      "tensor(0.) tensor(0.) tensor(0.) tensor(0.) tensor(0.) tensor(0.) tensor(0.) tensor(0.) tensor(0.) tensor(0.) tensor(-1.)  tensor(0.)\n",
      "tensor(0.) tensor(0.) tensor(0.) tensor(0.) tensor(0.) tensor(0.) tensor(0.) tensor(0.) tensor(0.) tensor(0.) tensor(-1.)  tensor(0.)\n",
      "tensor(0.) tensor(0.) tensor(0.) tensor(0.) tensor(0.) tensor(0.) tensor(0.) tensor(0.) tensor(0.) tensor(0.) tensor(-1.)  tensor(0.)\n",
      "tensor(0.) tensor(0.) tensor(0.) tensor(0.) tensor(0.) tensor(0.) tensor(0.) tensor(0.) tensor(0.) tensor(0.)  tensor(0.) tensor(-1.)\n",
      "tensor(0.) tensor(0.) tensor(0.) tensor(0.) tensor(0.) tensor(0.) tensor(0.) tensor(0.) tensor(0.) tensor(0.)  tensor(0.) tensor(-1.)\n",
      "tensor(0.) tensor(0.) tensor(0.) tensor(0.) tensor(0.) tensor(0.) tensor(0.) tensor(0.) tensor(0.) tensor(0.)  tensor(0.) tensor(-1.)\n",
      "tensor(0.) tensor(0.) tensor(0.) tensor(0.) tensor(0.) tensor(0.) tensor(0.) tensor(0.) tensor(0.) tensor(0.)  tensor(0.) tensor(-1.)\n",
      "tensor(0.) tensor(0.) tensor(0.) tensor(0.) tensor(0.) tensor(0.) tensor(0.) tensor(0.) tensor(0.) tensor(0.)  tensor(0.) tensor(-1.)\n",
      "tensor(1.) tensor(1.) tensor(1.) tensor(1.) tensor(1.) tensor(0.) tensor(0.) tensor(0.) tensor(0.) tensor(0.)  tensor(0.)  tensor(0.)\n",
      "tensor(0.) tensor(0.) tensor(0.) tensor(0.) tensor(0.) tensor(1.) tensor(1.) tensor(1.) tensor(1.) tensor(1.)  tensor(0.)  tensor(0.)\n",
      "q=                                                                                                                                   \n",
      "tensor(0.) tensor(0.) tensor(0.) tensor(0.) tensor(0.) tensor(0.) tensor(0.) tensor(0.) tensor(0.) tensor(0.) tensor(-1.) tensor(-1.)\n",
      "d=                                                                                                                                   \n",
      "tensor(0.) tensor(1.) tensor(1.) tensor(1.) tensor(1.) tensor(1.) tensor(1.) tensor(1.) tensor(1.) tensor(1.)  tensor(1.)  tensor(1.)\n",
      "After filltableau:\n",
      "Determinant: -1\n",
      "var  z0 z1 z2 z3 z4 z5 z6 z7 z8 z9 z10 z11 z12 RHS\n",
      "scfa  1  1  1  1  1  1  1  1  1  1   1   1   1   1\n",
      "                                                  \n",
      "w1    .  .  .  .  .  .  .  .  .  .   .  -1   .   .\n",
      "w2    1  .  .  .  .  .  .  .  .  .   .  -1   .   .\n",
      "w3    1  .  .  .  .  .  .  .  .  .   .  -1   .   .\n",
      "w4    1  .  .  .  .  .  .  .  .  .   .  -1   .   .\n",
      "w5    1  .  .  .  .  .  .  .  .  .   .  -1   .   .\n",
      "w6    1  .  .  .  .  .  .  .  .  .   .   .  -1   .\n",
      "w7    1  .  .  .  .  .  .  .  .  .   .   .  -1   .\n",
      "w8    1  .  .  .  .  .  .  .  .  .   .   .  -1   .\n",
      "w9    1  .  .  .  .  .  .  .  .  .   .   .  -1   .\n",
      "w10   1  .  .  .  .  .  .  .  .  .   .   .  -1   .\n",
      "w11   1  1  1  1  1  1  .  .  .  .   .   .   .  -1\n",
      "w12   1  .  .  .  .  .  1  1  1  1   1   .   .  -1\n",
      "-----------------end of tableau-----------------\n",
      "leaving: w12  entering: z0\n",
      "leaving: w10  entering: z12\n",
      "leaving: w11  entering: z10\n",
      "leaving: w1   entering: z11\n",
      "leaving: w5   entering: z1\n",
      "Final tableau:\n",
      "Determinant: 1\n",
      "var  w12 w5 z2 z3 z4 z5 z6 z7 z8 z9 w11 w1 w10 RHS\n",
      "scfa   1  1  1  1  1  1  1  1  1  1   1  1   1   1\n",
      "                                                  \n",
      "z11    .  .  .  .  .  .  .  .  .  .   .  1   .   .\n",
      "w2     . -1  .  .  .  .  .  .  .  .   .  .   .   .\n",
      "w3     . -1  .  .  .  .  .  .  .  .   .  .   .   .\n",
      "w4     . -1  .  .  .  .  .  .  .  .   .  .   .   .\n",
      "z1     .  1  1  1  1  1  .  .  .  .  -1 -1   .   1\n",
      "w6     .  .  .  .  .  .  .  .  .  .   .  .  -1   .\n",
      "w7     .  .  .  .  .  .  .  .  .  .   .  .  -1   .\n",
      "w8     .  .  .  .  .  .  .  .  .  .   .  .  -1   .\n",
      "w9     .  .  .  .  .  .  .  .  .  .   .  .  -1   .\n",
      "z12    . -1  .  .  .  .  .  .  .  .   .  1   1   .\n",
      "z10   -1  1  .  .  .  .  1  1  1  1   . -1   .   1\n",
      "z0     . -1  .  .  .  .  .  .  .  .   .  1   .   .\n",
      "-----------------end of tableau-----------------\n",
      "basis= z0 z1 w2 w3 w4    w6 w7 w8 w9 z10 z11 z12\n",
      "    z=  0  1  0  0  0  0  0  0  0  0   1   0   0\n",
      "    w=     0  0  0  0  0  0  0  0  0   0   0   0\n",
      "label 1 found eq (1,0,0,0,0),(0,0,0,0,1)\n",
      "    supports: [0][4]\n",
      "(1,0,0,0,0),(0,0,0,0,1)\n",
      "    supports: [0][4] found by labels [1]\n",
      "{(Fraction(1, 1), Fraction(0, 1), Fraction(0, 1), Fraction(0, 1), Fraction(0, 1), Fraction(0, 1), Fraction(0, 1), Fraction(0, 1), Fraction(0, 1), Fraction(1, 1)): [1]}\n"
     ]
    }
   ],
   "source": [
    "print(game.LemkeHowson  (\"1\"))"
   ]
  },
  {
   "cell_type": "code",
   "execution_count": 10,
   "metadata": {},
   "outputs": [
    {
     "data": {
      "text/plain": [
       "Fraction(6, 5)"
      ]
     },
     "execution_count": 10,
     "metadata": {},
     "output_type": "execute_result"
    }
   ],
   "source": [
    "fractions.Fraction(\"1.2\")"
   ]
  }
 ],
 "metadata": {
  "kernelspec": {
   "display_name": ".venv",
   "language": "python",
   "name": "python3"
  },
  "language_info": {
   "codemirror_mode": {
    "name": "ipython",
    "version": 3
   },
   "file_extension": ".py",
   "mimetype": "text/x-python",
   "name": "python",
   "nbconvert_exporter": "python",
   "pygments_lexer": "ipython3",
   "version": "3.9.13"
  }
 },
 "nbformat": 4,
 "nbformat_minor": 2
}
