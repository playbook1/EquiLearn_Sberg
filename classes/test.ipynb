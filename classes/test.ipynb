{
 "cells": [
  {
   "cell_type": "code",
   "execution_count": 15,
   "metadata": {},
   "outputs": [],
   "source": [
    "from GameEnvironment import ModelGameEnvironment\n",
    "import torch\n",
    "from ActorCritic import ActorCritic, Actor, Critic\n",
    "import pandas as pd"
   ]
  },
  {
   "cell_type": "code",
   "execution_count": 16,
   "metadata": {},
   "outputs": [],
   "source": [
    "game = ModelGameEnvironment(.5, 2, .99, 10)"
   ]
  },
  {
   "cell_type": "code",
   "execution_count": 17,
   "metadata": {},
   "outputs": [
    {
     "data": {
      "text/plain": [
       "(tensor([50., 50.]), None, False)"
      ]
     },
     "execution_count": 17,
     "metadata": {},
     "output_type": "execute_result"
    }
   ],
   "source": [
    "game.reset()\n"
   ]
  },
  {
   "cell_type": "code",
   "execution_count": 18,
   "metadata": {},
   "outputs": [
    {
     "name": "stdout",
     "output_type": "stream",
     "text": [
      "(tensor([10., 10.]), tensor([950., 950.]), False)\n",
      "quantity history 100\n",
      "profit history tensor([[950.,   0.,   0.,   0.,   0.,   0.,   0.,   0.,   0.,   0.],\n",
      "        [950.,   0.,   0.,   0.,   0.,   0.,   0.,   0.,   0.,   0.]])\n"
     ]
    }
   ],
   "source": [
    "print(game.step(torch.Tensor([10,10]) ))\n",
    "print(f\"quantity history {game.demand}\")\n",
    "print(f\"profit history {game.profit}\")"
   ]
  },
  {
   "cell_type": "code",
   "execution_count": 19,
   "metadata": {},
   "outputs": [
    {
     "name": "stderr",
     "output_type": "stream",
     "text": [
      "/Users/pacoaristi/Desktop/Github ferdos/EquiLearn_Sberg/classes/ActorCritic.py:58: UserWarning: To copy construct from a tensor, it is recommended to use sourceTensor.clone().detach() or sourceTensor.clone().detach().requires_grad_(True), rather than torch.tensor(sourceTensor).\n",
      "  reward = torch.tensor(reward, dtype=torch.float32, device=self.device)\n"
     ]
    },
    {
     "data": {
      "text/html": [
       "<div>\n",
       "<style scoped>\n",
       "    .dataframe tbody tr th:only-of-type {\n",
       "        vertical-align: middle;\n",
       "    }\n",
       "\n",
       "    .dataframe tbody tr th {\n",
       "        vertical-align: top;\n",
       "    }\n",
       "\n",
       "    .dataframe thead th {\n",
       "        text-align: right;\n",
       "    }\n",
       "</style>\n",
       "<table border=\"1\" class=\"dataframe\">\n",
       "  <thead>\n",
       "    <tr style=\"text-align: right;\">\n",
       "      <th></th>\n",
       "      <th>agent 1</th>\n",
       "      <th>agent 2</th>\n",
       "    </tr>\n",
       "  </thead>\n",
       "  <tbody>\n",
       "    <tr>\n",
       "      <th>0</th>\n",
       "      <td>-31252.806641</td>\n",
       "      <td>4656.839844</td>\n",
       "    </tr>\n",
       "    <tr>\n",
       "      <th>1</th>\n",
       "      <td>-12205.019531</td>\n",
       "      <td>-11404.078125</td>\n",
       "    </tr>\n",
       "    <tr>\n",
       "      <th>2</th>\n",
       "      <td>-38918.156250</td>\n",
       "      <td>-11619.839844</td>\n",
       "    </tr>\n",
       "    <tr>\n",
       "      <th>3</th>\n",
       "      <td>-46529.203125</td>\n",
       "      <td>-9157.976562</td>\n",
       "    </tr>\n",
       "    <tr>\n",
       "      <th>4</th>\n",
       "      <td>-48688.449219</td>\n",
       "      <td>-3263.164551</td>\n",
       "    </tr>\n",
       "    <tr>\n",
       "      <th>...</th>\n",
       "      <td>...</td>\n",
       "      <td>...</td>\n",
       "    </tr>\n",
       "    <tr>\n",
       "      <th>95</th>\n",
       "      <td>-43115.828125</td>\n",
       "      <td>-2649.133545</td>\n",
       "    </tr>\n",
       "    <tr>\n",
       "      <th>96</th>\n",
       "      <td>-43094.761719</td>\n",
       "      <td>-2647.906250</td>\n",
       "    </tr>\n",
       "    <tr>\n",
       "      <th>97</th>\n",
       "      <td>-43055.078125</td>\n",
       "      <td>-2647.278320</td>\n",
       "    </tr>\n",
       "    <tr>\n",
       "      <th>98</th>\n",
       "      <td>-43048.210938</td>\n",
       "      <td>-2646.538330</td>\n",
       "    </tr>\n",
       "    <tr>\n",
       "      <th>99</th>\n",
       "      <td>-43020.937500</td>\n",
       "      <td>-2645.937500</td>\n",
       "    </tr>\n",
       "  </tbody>\n",
       "</table>\n",
       "<p>100 rows × 2 columns</p>\n",
       "</div>"
      ],
      "text/plain": [
       "         agent 1       agent 2\n",
       "0  -31252.806641   4656.839844\n",
       "1  -12205.019531 -11404.078125\n",
       "2  -38918.156250 -11619.839844\n",
       "3  -46529.203125  -9157.976562\n",
       "4  -48688.449219  -3263.164551\n",
       "..           ...           ...\n",
       "95 -43115.828125  -2649.133545\n",
       "96 -43094.761719  -2647.906250\n",
       "97 -43055.078125  -2647.278320\n",
       "98 -43048.210938  -2646.538330\n",
       "99 -43020.937500  -2645.937500\n",
       "\n",
       "[100 rows x 2 columns]"
      ]
     },
     "execution_count": 19,
     "metadata": {},
     "output_type": "execute_result"
    }
   ],
   "source": [
    "##################################\n",
    "# Independent Learning Algorithm #\n",
    "##################################\n",
    "\n",
    "env = ModelGameEnvironment(.5, 2, .99, 10)\n",
    "\n",
    "# Initialize actor and critic\n",
    "input_dim = 2\n",
    "\n",
    "\n",
    "# Initialize actor-critic algorithm\n",
    "agent1 = ActorCritic(Actor(input_dim), \n",
    "                    Critic(input_dim), .95)\n",
    "\n",
    "\n",
    "agent2 = ActorCritic(Actor(input_dim), \n",
    "                    Critic(input_dim), .95)\n",
    "\n",
    "reward_memory = dict()\n",
    "\n",
    "# Training loop\n",
    "num_episodes = 100\n",
    "for episode in range(num_episodes):\n",
    "    total_reward_agent1 = 0\n",
    "    total_reward_agent2 = 0\n",
    "    state, _, done = env.reset()\n",
    "\n",
    "    \n",
    "    while not done:\n",
    "        action_profile = torch.Tensor(2)\n",
    "        log_probs = []\n",
    "\n",
    "\n",
    "        \n",
    "        action1, log_prob1 = agent1.sample_action(state)\n",
    "        action_profile[0] = action1\n",
    "\n",
    "\n",
    "        action2, log_prob2 = agent2.sample_action(state)\n",
    "        action_profile[1] = action2\n",
    "        log_probs.append([log_prob1,log_prob2])        \n",
    "        \n",
    "        # Compute reward based on the action profile\n",
    "        next_state, reward_tensor, done = env.step(action_profile)\n",
    "        #print(f\"next state: {next_state}, reward_tensor: {reward_tensor}, done: {done}\")\n",
    "        reward = torch.sum(reward_tensor).item()\n",
    "\n",
    "        #for i in range(2):\n",
    "        agent1.update(state,  reward_tensor[0], log_probs[0][0], next_state)\n",
    "        total_reward_agent1 += reward_tensor[0]\n",
    "        agent2.update(state,  reward_tensor[1], log_probs[0][1], next_state)        \n",
    "        total_reward_agent2 += reward_tensor[1]\n",
    "\n",
    "    #if episode % 10 == 0:\n",
    "        \n",
    "    #print(f\"Episode {episode} complete\")\n",
    "    #print(total_reward_agent1,total_reward_agent2)\n",
    "    reward_memory[f\"{episode}\"] = {\"agent 1\": total_reward_agent1.item(), \"agent 2\": total_reward_agent2.item()}\n",
    "\n",
    "pd.DataFrame(reward_memory).T"
   ]
  },
  {
   "cell_type": "code",
   "execution_count": 20,
   "metadata": {},
   "outputs": [
    {
     "data": {
      "text/plain": [
       "<Axes: >"
      ]
     },
     "execution_count": 20,
     "metadata": {},
     "output_type": "execute_result"
    },
    {
     "data": {
      "image/png": "[encoded data removed]",
      "text/plain": [
       "<Figure size 640x480 with 1 Axes>"
      ]
     },
     "metadata": {},
     "output_type": "display_data"
    }
   ],
   "source": [
    "pd.DataFrame(reward_memory).T.plot()\n"
   ]
  },
  {
   "cell_type": "code",
   "execution_count": 21,
   "metadata": {},
   "outputs": [
    {
     "data": {
      "text/plain": [
       "tensor([[-32.8182, -32.7824, -32.7754, -32.7668, -32.7361, -32.7939, -32.7752,\n",
       "         -32.7854, -32.7725, -32.7700],\n",
       "        [ -3.0545,  -3.0530,  -3.0525,  -3.0537,  -3.0537,  -3.0521,  -3.0527,\n",
       "          -3.0535,  -3.0527,  -3.0525]])"
      ]
     },
     "execution_count": 21,
     "metadata": {},
     "output_type": "execute_result"
    }
   ],
   "source": [
    "env.price"
   ]
  },
  {
   "cell_type": "code",
   "execution_count": null,
   "metadata": {},
   "outputs": [],
   "source": []
  }
 ],
 "metadata": {
  "kernelspec": {
   "display_name": ".venv",
   "language": "python",
   "name": "python3"
  },
  "language_info": {
   "codemirror_mode": {
    "name": "ipython",
    "version": 3
   },
   "file_extension": ".py",
   "mimetype": "text/x-python",
   "name": "python",
   "nbconvert_exporter": "python",
   "pygments_lexer": "ipython3",
   "version": "3.9.13"
  }
 },
 "nbformat": 4,
 "nbformat_minor": 2
}
