{
 "cells": [
  {
   "cell_type": "code",
   "execution_count": 11,
   "metadata": {},
   "outputs": [],
   "source": [
    "from DemandInertiaGame import ModelGameEnvironment\n",
    "import torch\n",
    "from ActorCritic import ActorCritic, Actor, Critic\n",
    "import pandas as pd"
   ]
  },
  {
   "cell_type": "code",
   "execution_count": 12,
   "metadata": {},
   "outputs": [],
   "source": [
    "game = ModelGameEnvironment(2, 400, (57,71) , 10)"
   ]
  },
  {
   "cell_type": "code",
   "execution_count": 29,
   "metadata": {},
   "outputs": [
    {
     "data": {
      "text/plain": [
       "tensor([  0.,   0., 200., 200.])"
      ]
     },
     "execution_count": 29,
     "metadata": {},
     "output_type": "execute_result"
    }
   ],
   "source": [
    "game.reset()[0]    \n"
   ]
  },
  {
   "cell_type": "code",
   "execution_count": 30,
   "metadata": {},
   "outputs": [
    {
     "name": "stdout",
     "output_type": "stream",
     "text": [
      "(tensor([ 20.,  10., 200., 200.]), tensor([ -6660., -11590.]), False)\n",
      "quantity history tensor([[200., 195.,   0.,   0.,   0.,   0.,   0.,   0.,   0.,   0.],\n",
      "        [200., 205.,   0.,   0.,   0.,   0.,   0.,   0.,   0.,   0.]])\n",
      "profit history tensor([[ -6660.,      0.,      0.,      0.,      0.,      0.,      0.,      0.,\n",
      "              0.,      0.],\n",
      "        [-11590.,      0.,      0.,      0.,      0.,      0.,      0.,      0.,\n",
      "              0.,      0.]])\n"
     ]
    }
   ],
   "source": [
    "print(game.step(torch.Tensor([20,10]) ))\n",
    "print(f\"quantity history {game.demand_potential}\")\n",
    "print(f\"profit history {game.profit}\")"
   ]
  },
  {
   "cell_type": "code",
   "execution_count": 49,
   "metadata": {},
   "outputs": [
    {
     "ename": "ValueError",
     "evalue": "Expected parameter loc (Tensor of shape ()) of distribution Normal(loc: nan, scale: nan) to satisfy the constraint Real(), but found invalid values:\nnan",
     "output_type": "error",
     "traceback": [
      "\u001b[0;31m---------------------------------------------------------------------------\u001b[0m",
      "\u001b[0;31mValueError\u001b[0m                                Traceback (most recent call last)",
      "Cell \u001b[0;32mIn[49], line 39\u001b[0m\n\u001b[1;32m     35\u001b[0m action1, log_prob1 \u001b[38;5;241m=\u001b[39m agent1\u001b[38;5;241m.\u001b[39msample_action(state)\n\u001b[1;32m     36\u001b[0m action_profile[\u001b[38;5;241m0\u001b[39m] \u001b[38;5;241m=\u001b[39m action1\n\u001b[0;32m---> 39\u001b[0m action2, log_prob2 \u001b[38;5;241m=\u001b[39m \u001b[43magent2\u001b[49m\u001b[38;5;241;43m.\u001b[39;49m\u001b[43msample_action\u001b[49m\u001b[43m(\u001b[49m\u001b[43mstate\u001b[49m\u001b[43m)\u001b[49m\n\u001b[1;32m     40\u001b[0m action_profile[\u001b[38;5;241m1\u001b[39m] \u001b[38;5;241m=\u001b[39m action2\n\u001b[1;32m     41\u001b[0m log_probs\u001b[38;5;241m.\u001b[39mappend([log_prob1,log_prob2])        \n",
      "File \u001b[0;32m~/Desktop/Github ferdos/EquiLearn_Sberg/classes/ActorCritic.py:51\u001b[0m, in \u001b[0;36mActorCritic.sample_action\u001b[0;34m(self, state)\u001b[0m\n\u001b[1;32m     48\u001b[0m mean, f \u001b[38;5;241m=\u001b[39m \u001b[38;5;28mself\u001b[39m\u001b[38;5;241m.\u001b[39mactor(state)\n\u001b[1;32m     49\u001b[0m std \u001b[38;5;241m=\u001b[39m torch\u001b[38;5;241m.\u001b[39mexp(f)\n\u001b[0;32m---> 51\u001b[0m dist \u001b[38;5;241m=\u001b[39m \u001b[43mNormal\u001b[49m\u001b[43m(\u001b[49m\u001b[43mmean\u001b[49m\u001b[43m,\u001b[49m\u001b[43mstd\u001b[49m\u001b[43m)\u001b[49m\n\u001b[1;32m     52\u001b[0m action \u001b[38;5;241m=\u001b[39m dist\u001b[38;5;241m.\u001b[39msample()\n\u001b[1;32m     53\u001b[0m \u001b[38;5;28;01mreturn\u001b[39;00m action, dist\u001b[38;5;241m.\u001b[39mlog_prob(action)\n",
      "File \u001b[0;32m~/Desktop/Github ferdos/EquiLearn_Sberg/.venv/lib/python3.9/site-packages/torch/distributions/normal.py:56\u001b[0m, in \u001b[0;36mNormal.__init__\u001b[0;34m(self, loc, scale, validate_args)\u001b[0m\n\u001b[1;32m     54\u001b[0m \u001b[38;5;28;01melse\u001b[39;00m:\n\u001b[1;32m     55\u001b[0m     batch_shape \u001b[38;5;241m=\u001b[39m \u001b[38;5;28mself\u001b[39m\u001b[38;5;241m.\u001b[39mloc\u001b[38;5;241m.\u001b[39msize()\n\u001b[0;32m---> 56\u001b[0m \u001b[38;5;28;43msuper\u001b[39;49m\u001b[43m(\u001b[49m\u001b[43m)\u001b[49m\u001b[38;5;241;43m.\u001b[39;49m\u001b[38;5;21;43m__init__\u001b[39;49m\u001b[43m(\u001b[49m\u001b[43mbatch_shape\u001b[49m\u001b[43m,\u001b[49m\u001b[43m \u001b[49m\u001b[43mvalidate_args\u001b[49m\u001b[38;5;241;43m=\u001b[39;49m\u001b[43mvalidate_args\u001b[49m\u001b[43m)\u001b[49m\n",
      "File \u001b[0;32m~/Desktop/Github ferdos/EquiLearn_Sberg/.venv/lib/python3.9/site-packages/torch/distributions/distribution.py:68\u001b[0m, in \u001b[0;36mDistribution.__init__\u001b[0;34m(self, batch_shape, event_shape, validate_args)\u001b[0m\n\u001b[1;32m     66\u001b[0m         valid \u001b[38;5;241m=\u001b[39m constraint\u001b[38;5;241m.\u001b[39mcheck(value)\n\u001b[1;32m     67\u001b[0m         \u001b[38;5;28;01mif\u001b[39;00m \u001b[38;5;129;01mnot\u001b[39;00m valid\u001b[38;5;241m.\u001b[39mall():\n\u001b[0;32m---> 68\u001b[0m             \u001b[38;5;28;01mraise\u001b[39;00m \u001b[38;5;167;01mValueError\u001b[39;00m(\n\u001b[1;32m     69\u001b[0m                 \u001b[38;5;124mf\u001b[39m\u001b[38;5;124m\"\u001b[39m\u001b[38;5;124mExpected parameter \u001b[39m\u001b[38;5;132;01m{\u001b[39;00mparam\u001b[38;5;132;01m}\u001b[39;00m\u001b[38;5;124m \u001b[39m\u001b[38;5;124m\"\u001b[39m\n\u001b[1;32m     70\u001b[0m                 \u001b[38;5;124mf\u001b[39m\u001b[38;5;124m\"\u001b[39m\u001b[38;5;124m(\u001b[39m\u001b[38;5;132;01m{\u001b[39;00m\u001b[38;5;28mtype\u001b[39m(value)\u001b[38;5;241m.\u001b[39m\u001b[38;5;18m__name__\u001b[39m\u001b[38;5;132;01m}\u001b[39;00m\u001b[38;5;124m of shape \u001b[39m\u001b[38;5;132;01m{\u001b[39;00m\u001b[38;5;28mtuple\u001b[39m(value\u001b[38;5;241m.\u001b[39mshape)\u001b[38;5;132;01m}\u001b[39;00m\u001b[38;5;124m) \u001b[39m\u001b[38;5;124m\"\u001b[39m\n\u001b[1;32m     71\u001b[0m                 \u001b[38;5;124mf\u001b[39m\u001b[38;5;124m\"\u001b[39m\u001b[38;5;124mof distribution \u001b[39m\u001b[38;5;132;01m{\u001b[39;00m\u001b[38;5;28mrepr\u001b[39m(\u001b[38;5;28mself\u001b[39m)\u001b[38;5;132;01m}\u001b[39;00m\u001b[38;5;124m \u001b[39m\u001b[38;5;124m\"\u001b[39m\n\u001b[1;32m     72\u001b[0m                 \u001b[38;5;124mf\u001b[39m\u001b[38;5;124m\"\u001b[39m\u001b[38;5;124mto satisfy the constraint \u001b[39m\u001b[38;5;132;01m{\u001b[39;00m\u001b[38;5;28mrepr\u001b[39m(constraint)\u001b[38;5;132;01m}\u001b[39;00m\u001b[38;5;124m, \u001b[39m\u001b[38;5;124m\"\u001b[39m\n\u001b[1;32m     73\u001b[0m                 \u001b[38;5;124mf\u001b[39m\u001b[38;5;124m\"\u001b[39m\u001b[38;5;124mbut found invalid values:\u001b[39m\u001b[38;5;130;01m\\n\u001b[39;00m\u001b[38;5;132;01m{\u001b[39;00mvalue\u001b[38;5;132;01m}\u001b[39;00m\u001b[38;5;124m\"\u001b[39m\n\u001b[1;32m     74\u001b[0m             )\n\u001b[1;32m     75\u001b[0m \u001b[38;5;28msuper\u001b[39m()\u001b[38;5;241m.\u001b[39m\u001b[38;5;21m__init__\u001b[39m()\n",
      "\u001b[0;31mValueError\u001b[0m: Expected parameter loc (Tensor of shape ()) of distribution Normal(loc: nan, scale: nan) to satisfy the constraint Real(), but found invalid values:\nnan"
     ]
    }
   ],
   "source": [
    "##################################\n",
    "# Independent Learning Algorithm #\n",
    "##################################\n",
    "\n",
    "env = ModelGameEnvironment(2, 400, (57,71) , 25)\n",
    "\n",
    "# Initialize actor and critic\n",
    "input_dim = 4\n",
    "\n",
    "\n",
    "# Initialize actor-critic algorithm\n",
    "agent1 = ActorCritic(Actor(input_dim), \n",
    "                    Critic(input_dim), .95)\n",
    "\n",
    "\n",
    "agent2 = ActorCritic(Actor(input_dim), \n",
    "                    Critic(input_dim), .95)\n",
    "\n",
    "reward_memory = dict()\n",
    "\n",
    "# Training loop\n",
    "num_episodes = 1000\n",
    "for episode in range(num_episodes):\n",
    "    total_reward_agent1 = 0\n",
    "    total_reward_agent2 = 0\n",
    "    state, _, done = env.reset()\n",
    "\n",
    "    \n",
    "    while not done:\n",
    "        action_profile = torch.Tensor(2)\n",
    "        log_probs = []\n",
    "\n",
    "\n",
    "        \n",
    "        action1, log_prob1 = agent1.sample_action(state)\n",
    "        action_profile[0] = action1\n",
    "\n",
    "\n",
    "        action2, log_prob2 = agent2.sample_action(state)\n",
    "        action_profile[1] = action2\n",
    "        log_probs.append([log_prob1,log_prob2])        \n",
    "        \n",
    "        # Compute reward based on the action profile\n",
    "        next_state, reward_tensor, done = env.step(action_profile)\n",
    "        #print(f\"next state: {next_state}, reward_tensor: {reward_tensor}, done: {done}\")\n",
    "        reward = torch.sum(reward_tensor).item()\n",
    "\n",
    "        #for i in range(2):\n",
    "        agent1.update(state,  reward_tensor[0], log_probs[0][0], next_state)\n",
    "        total_reward_agent1 += reward_tensor[0]\n",
    "        agent2.update(state,  reward_tensor[1], log_probs[0][1], next_state)        \n",
    "        total_reward_agent2 += reward_tensor[1]\n",
    "\n",
    "    if episode % 10 == 0:\n",
    "        \n",
    "        #print(f\"Episode {episode} complete\")\n",
    "        #print(total_reward_agent1,total_reward_agent2)\n",
    "        reward_memory[f\"{episode}\"] = {\"agent 1\": total_reward_agent1.item(), \"agent 2\": total_reward_agent2.item()}\n",
    "\n"
   ]
  },
  {
   "cell_type": "code",
   "execution_count": 51,
   "metadata": {},
   "outputs": [
    {
     "data": {
      "text/html": [
       "<div>\n",
       "<style scoped>\n",
       "    .dataframe tbody tr th:only-of-type {\n",
       "        vertical-align: middle;\n",
       "    }\n",
       "\n",
       "    .dataframe tbody tr th {\n",
       "        vertical-align: top;\n",
       "    }\n",
       "\n",
       "    .dataframe thead th {\n",
       "        text-align: right;\n",
       "    }\n",
       "</style>\n",
       "<table border=\"1\" class=\"dataframe\">\n",
       "  <thead>\n",
       "    <tr style=\"text-align: right;\">\n",
       "      <th></th>\n",
       "      <th>agent 1</th>\n",
       "      <th>agent 2</th>\n",
       "    </tr>\n",
       "  </thead>\n",
       "  <tbody>\n",
       "    <tr>\n",
       "      <th>0</th>\n",
       "      <td>-5.380340e+08</td>\n",
       "      <td>-4.136386e+07</td>\n",
       "    </tr>\n",
       "    <tr>\n",
       "      <th>10</th>\n",
       "      <td>-1.749201e+05</td>\n",
       "      <td>-9.308478e+05</td>\n",
       "    </tr>\n",
       "    <tr>\n",
       "      <th>20</th>\n",
       "      <td>-1.797360e+05</td>\n",
       "      <td>-9.358074e+05</td>\n",
       "    </tr>\n",
       "    <tr>\n",
       "      <th>30</th>\n",
       "      <td>1.948790e+05</td>\n",
       "      <td>-2.066141e+05</td>\n",
       "    </tr>\n",
       "    <tr>\n",
       "      <th>40</th>\n",
       "      <td>2.755083e+05</td>\n",
       "      <td>-4.864068e+05</td>\n",
       "    </tr>\n",
       "    <tr>\n",
       "      <th>50</th>\n",
       "      <td>2.757602e+05</td>\n",
       "      <td>-4.887079e+05</td>\n",
       "    </tr>\n",
       "    <tr>\n",
       "      <th>60</th>\n",
       "      <td>2.759717e+05</td>\n",
       "      <td>-4.884391e+05</td>\n",
       "    </tr>\n",
       "    <tr>\n",
       "      <th>70</th>\n",
       "      <td>2.756476e+05</td>\n",
       "      <td>-4.887661e+05</td>\n",
       "    </tr>\n",
       "    <tr>\n",
       "      <th>80</th>\n",
       "      <td>2.758504e+05</td>\n",
       "      <td>-4.885565e+05</td>\n",
       "    </tr>\n",
       "    <tr>\n",
       "      <th>90</th>\n",
       "      <td>2.756769e+05</td>\n",
       "      <td>-4.887647e+05</td>\n",
       "    </tr>\n",
       "    <tr>\n",
       "      <th>100</th>\n",
       "      <td>2.756562e+05</td>\n",
       "      <td>-4.888354e+05</td>\n",
       "    </tr>\n",
       "    <tr>\n",
       "      <th>110</th>\n",
       "      <td>2.757346e+05</td>\n",
       "      <td>-4.887316e+05</td>\n",
       "    </tr>\n",
       "    <tr>\n",
       "      <th>120</th>\n",
       "      <td>2.757685e+05</td>\n",
       "      <td>-4.886908e+05</td>\n",
       "    </tr>\n",
       "    <tr>\n",
       "      <th>130</th>\n",
       "      <td>2.758596e+05</td>\n",
       "      <td>-4.885561e+05</td>\n",
       "    </tr>\n",
       "    <tr>\n",
       "      <th>140</th>\n",
       "      <td>2.757339e+05</td>\n",
       "      <td>-4.886972e+05</td>\n",
       "    </tr>\n",
       "    <tr>\n",
       "      <th>150</th>\n",
       "      <td>2.758499e+05</td>\n",
       "      <td>-4.885566e+05</td>\n",
       "    </tr>\n",
       "    <tr>\n",
       "      <th>160</th>\n",
       "      <td>2.759820e+05</td>\n",
       "      <td>-4.883968e+05</td>\n",
       "    </tr>\n",
       "    <tr>\n",
       "      <th>170</th>\n",
       "      <td>2.761193e+05</td>\n",
       "      <td>-4.882261e+05</td>\n",
       "    </tr>\n",
       "    <tr>\n",
       "      <th>180</th>\n",
       "      <td>2.762082e+05</td>\n",
       "      <td>-4.881027e+05</td>\n",
       "    </tr>\n",
       "    <tr>\n",
       "      <th>190</th>\n",
       "      <td>2.764449e+05</td>\n",
       "      <td>-4.877903e+05</td>\n",
       "    </tr>\n",
       "    <tr>\n",
       "      <th>200</th>\n",
       "      <td>2.765728e+05</td>\n",
       "      <td>-4.876168e+05</td>\n",
       "    </tr>\n",
       "    <tr>\n",
       "      <th>210</th>\n",
       "      <td>2.768091e+05</td>\n",
       "      <td>-4.873102e+05</td>\n",
       "    </tr>\n",
       "  </tbody>\n",
       "</table>\n",
       "</div>"
      ],
      "text/plain": [
       "          agent 1       agent 2\n",
       "0   -5.380340e+08 -4.136386e+07\n",
       "10  -1.749201e+05 -9.308478e+05\n",
       "20  -1.797360e+05 -9.358074e+05\n",
       "30   1.948790e+05 -2.066141e+05\n",
       "40   2.755083e+05 -4.864068e+05\n",
       "50   2.757602e+05 -4.887079e+05\n",
       "60   2.759717e+05 -4.884391e+05\n",
       "70   2.756476e+05 -4.887661e+05\n",
       "80   2.758504e+05 -4.885565e+05\n",
       "90   2.756769e+05 -4.887647e+05\n",
       "100  2.756562e+05 -4.888354e+05\n",
       "110  2.757346e+05 -4.887316e+05\n",
       "120  2.757685e+05 -4.886908e+05\n",
       "130  2.758596e+05 -4.885561e+05\n",
       "140  2.757339e+05 -4.886972e+05\n",
       "150  2.758499e+05 -4.885566e+05\n",
       "160  2.759820e+05 -4.883968e+05\n",
       "170  2.761193e+05 -4.882261e+05\n",
       "180  2.762082e+05 -4.881027e+05\n",
       "190  2.764449e+05 -4.877903e+05\n",
       "200  2.765728e+05 -4.876168e+05\n",
       "210  2.768091e+05 -4.873102e+05"
      ]
     },
     "execution_count": 51,
     "metadata": {},
     "output_type": "execute_result"
    }
   ],
   "source": [
    "pd.DataFrame(reward_memory).T"
   ]
  },
  {
   "cell_type": "code",
   "execution_count": 52,
   "metadata": {},
   "outputs": [
    {
     "data": {
      "text/plain": [
       "276809.1"
      ]
     },
     "execution_count": 52,
     "metadata": {},
     "output_type": "execute_result"
    }
   ],
   "source": [
    "2.768091e+05"
   ]
  },
  {
   "cell_type": "code",
   "execution_count": 50,
   "metadata": {},
   "outputs": [
    {
     "data": {
      "text/plain": [
       "<Axes: title={'center': 'Accumulated Profits'}>"
      ]
     },
     "execution_count": 50,
     "metadata": {},
     "output_type": "execute_result"
    },
    {
     "data": {
      "image/png": "[encoded data removed]",
      "text/plain": [
       "<Figure size 640x480 with 1 Axes>"
      ]
     },
     "metadata": {},
     "output_type": "display_data"
    }
   ],
   "source": [
    "pd.DataFrame(reward_memory).T.plot(title = \"Accumulated Profits\")\n"
   ]
  },
  {
   "cell_type": "code",
   "execution_count": 41,
   "metadata": {},
   "outputs": [
    {
     "data": {
      "text/plain": [
       "<Axes: title={'center': 'Prices last game'}>"
      ]
     },
     "execution_count": 41,
     "metadata": {},
     "output_type": "execute_result"
    },
    {
     "data": {
      "image/png": "[encoded data removed]",
      "text/plain": [
       "<Figure size 640x480 with 1 Axes>"
      ]
     },
     "metadata": {},
     "output_type": "display_data"
    }
   ],
   "source": [
    "pd.DataFrame(env.prices).T.plot(title = \"Prices last game\")"
   ]
  },
  {
   "cell_type": "code",
   "execution_count": 8,
   "metadata": {},
   "outputs": [
    {
     "data": {
      "text/plain": [
       "<Axes: title={'center': 'Profits last game'}>"
      ]
     },
     "execution_count": 8,
     "metadata": {},
     "output_type": "execute_result"
    },
    {
     "data": {
      "image/png": "[encoded data removed]",
      "text/plain": [
       "<Figure size 640x480 with 1 Axes>"
      ]
     },
     "metadata": {},
     "output_type": "display_data"
    }
   ],
   "source": [
    "pd.DataFrame(env.profit).T.plot(title = \"Profits last game\")"
   ]
  }
 ],
 "metadata": {
  "kernelspec": {
   "display_name": ".venv",
   "language": "python",
   "name": "python3"
  },
  "language_info": {
   "codemirror_mode": {
    "name": "ipython",
    "version": 3
   },
   "file_extension": ".py",
   "mimetype": "text/x-python",
   "name": "python",
   "nbconvert_exporter": "python",
   "pygments_lexer": "ipython3",
   "version": "3.9.20"
  }
 },
 "nbformat": 4,
 "nbformat_minor": 2
}
