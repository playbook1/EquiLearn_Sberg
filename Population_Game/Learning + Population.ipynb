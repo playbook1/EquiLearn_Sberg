{
 "cells": [
  {
   "cell_type": "code",
   "execution_count": 1,
   "id": "ffac79d8",
   "metadata": {},
   "outputs": [],
   "source": [
    "from learningAgent import LearningAlgorithm\n",
    "from environment import Model\n",
    "from Qtable import QTable\n",
    "from policyTable import PolicyTable\n",
    "import numpy as np\n",
    "import matplotlib.pyplot as plt\n",
    "import pandas as pd\n",
    "from policyTable import PolicyTable\n",
    "from play import Tournament\n",
    "import re\n",
    "import bimatrix\n",
    "from fractions import Fraction"
   ]
  },
  {
   "cell_type": "code",
   "execution_count": 2,
   "id": "3cbdc6fd",
   "metadata": {},
   "outputs": [],
   "source": [
    "np.random.seed(0)"
   ]
  },
  {
   "cell_type": "code",
   "execution_count": 3,
   "id": "f47a0d82",
   "metadata": {},
   "outputs": [],
   "source": [
    "# Parameters for the game:\n",
    "total_demand = 400\n",
    "initial_demands = [total_demand/2, total_demand/2]\n",
    "discount_factor = 1\n",
    "low_cost = 57\n",
    "high_cost = 71 \n",
    "total_stages = 10"
   ]
  },
  {
   "cell_type": "code",
   "execution_count": 4,
   "id": "58173708",
   "metadata": {},
   "outputs": [],
   "source": [
    "# Parameters for the adversary:\n",
    "number_actions = 60\n",
    "number_demands = total_demand + 1"
   ]
  },
  {
   "cell_type": "code",
   "execution_count": 5,
   "id": "b48ea041",
   "metadata": {},
   "outputs": [],
   "source": [
    "high_cost_player = PolicyTable(number_demands,number_actions,high_cost,total_stages)\n",
    "high_cost_player = high_cost_player.random_reset()\n",
    "high_cost_probabilities = [1]\n",
    "high_cost_players = [high_cost_player]\n",
    "low_cost_players = []"
   ]
  },
  {
   "cell_type": "code",
   "execution_count": 6,
   "id": "67c0c760",
   "metadata": {},
   "outputs": [],
   "source": [
    "def training(total_demand, discount_factor, costs, total_stages, adversary_probabilities, adversaries, number_episodes):\n",
    "    \n",
    "        game = Model(total_demand, costs, total_stages, adversaries, adversary_probabilities)\n",
    "        constant = int(number_episodes/49)\n",
    "        Qtable = QTable(total_demand + 1, number_actions, total_stages , learning_rate = [constant,constant])\n",
    "        algorithm = LearningAlgorithm(game, Qtable, number_episodes, discount_factor)\n",
    "        \n",
    "        episode_counter = 0\n",
    "        number_rounds = 1\n",
    "        number_episodes_per_round = int(number_episodes / number_rounds)       \n",
    "        for round_ in range(number_rounds): \n",
    "            algorithm.epsilon_greedy_learning(number_episodes_per_round, episode_counter, number_episodes)      \n",
    "            episode_counter += number_episodes_per_round\n",
    "            \n",
    "        agent = Qtable.to_policy_table(costs[0])\n",
    "        payoff = 0\n",
    "        if costs[0] < costs[1]:\n",
    "            for index, adversary in enumerate(adversaries):\n",
    "                _, _, payoff_against_adversary, _ = new_equilibrium([agent], [adversary], discount_factor, costs, total_stages, [200,200])\n",
    "                payoff += (payoff_against_adversary * adversary_probabilities[index])\n",
    "        else:\n",
    "            for index, adversary in enumerate(adversaries):\n",
    "                _, _, _, payoff_against_adversary = new_equilibrium([adversary], [agent], discount_factor, [costs[1],costs[0]], total_stages, [200,200])\n",
    "                payoff += (payoff_against_adversary * adversary_probabilities[index])    \n",
    "        return Qtable.to_policy_table(costs[0]), payoff"
   ]
  },
  {
   "cell_type": "code",
   "execution_count": 7,
   "id": "0522b9af",
   "metadata": {},
   "outputs": [],
   "source": [
    "def new_equilibrium(low_cost_players, high_cost_players, discount_factor, costs, total_stages, initial_demands):\n",
    "    \n",
    "    tournament = Tournament(low_cost_players, high_cost_players, discount_factor, costs, total_stages, initial_demands)\n",
    "    A,B = tournament.run_tournament()\n",
    "    number_rows = len(A) # Low cost players\n",
    "    number_columns = len(A[0]) # High cost players\n",
    "    \n",
    "    with open('game.txt', 'w') as f:\n",
    "        f.write(str(number_rows) + \" \" + str(number_columns))\n",
    "        f.write('\\n')\n",
    "        f.write('\\n')\n",
    "        for row in A:\n",
    "            for column in row:\n",
    "                f.write(np.array2string(np.array(int(column))) + \" \")\n",
    "            f.write('\\n')\n",
    "        f.write('\\n')\n",
    "        for row in B:\n",
    "            for column in row:\n",
    "                f.write(np.array2string(np.array(int(column))) + \" \")\n",
    "            f.write('\\n')\n",
    "        f.write('\\n')\n",
    "    game = bimatrix.bimatrix(\"game.txt\")\n",
    "    equilibrium = game.tracing(100)\n",
    "    low_cost_probs, high_cost_probs, low_cost_support, high_cost_support = recover_probs(equilibrium)\n",
    "    low_cost_probabilities = return_distribution(len(low_cost_players), low_cost_probs, low_cost_support)\n",
    "    high_cost_probabilities = return_distribution(len(high_cost_players), high_cost_probs, high_cost_support)\n",
    "    low_cost_payoff = np.matmul(low_cost_probabilities, np.matmul(A,np.transpose(high_cost_probabilities)))\n",
    "    high_cost_payoff = np.matmul(low_cost_probabilities, np.matmul(B,np.transpose(high_cost_probabilities)))\n",
    "    return low_cost_probabilities, high_cost_probabilities, low_cost_payoff, high_cost_payoff\n",
    "    "
   ]
  },
  {
   "cell_type": "code",
   "execution_count": 8,
   "id": "0fdf2766",
   "metadata": {},
   "outputs": [],
   "source": [
    "def recover_probs(test):\n",
    "    low_cost_probs, high_cost_probs, rest = test.split(\")\")\n",
    "    low_cost_probs = low_cost_probs.split(\"(\")[1] \n",
    "    _, high_cost_probs = high_cost_probs.split(\"(\")\n",
    "    high_cost_probs = [float(Fraction(s)) for s in high_cost_probs.split(',')]\n",
    "    low_cost_probs = [float(Fraction(s)) for s in low_cost_probs.split(',')]\n",
    "    _, low_cost_support, high_cost_support = rest.split('[')\n",
    "    high_cost_support, _ = high_cost_support.split(']')\n",
    "    high_cost_support = [int(s) for s in high_cost_support.split(',')]\n",
    "    low_cost_support, _ = low_cost_support.split(']')\n",
    "    low_cost_support = [int(s) for s in low_cost_support.split(',')]\n",
    "    return low_cost_probs, high_cost_probs, low_cost_support, high_cost_support"
   ]
  },
  {
   "cell_type": "code",
   "execution_count": 9,
   "id": "e1116476",
   "metadata": {},
   "outputs": [],
   "source": [
    "def return_distribution(number_players, cost_probs, cost_support):\n",
    "    player_probabilities = [0]* number_players\n",
    "    for index, support in enumerate(cost_support):\n",
    "        player_probabilities[support] = cost_probs[support]\n",
    "    return player_probabilities"
   ]
  },
  {
   "cell_type": "code",
   "execution_count": 10,
   "id": "5ca6017a",
   "metadata": {},
   "outputs": [],
   "source": [
    "low_cost_payoff = 0\n",
    "high_cost_payoff = 0"
   ]
  },
  {
   "cell_type": "code",
   "execution_count": 11,
   "id": "3cdc6a13",
   "metadata": {},
   "outputs": [],
   "source": [
    "number_rounds = 20\n",
    "number_episodes = 1_000_000\n",
    "equilibria = list()"
   ]
  },
  {
   "cell_type": "code",
   "execution_count": 12,
   "id": "656a9d0f",
   "metadata": {},
   "outputs": [
    {
     "name": "stdout",
     "output_type": "stream",
     "text": [
      "Round 1  of  20\n",
      "[1.0] [1.0] 5761.2 2910.4\n",
      "[1.0] [0, 1.0] 5127.2 3106.4\n",
      "Round 2  of  20\n",
      "[0.5692307692307692, 0.4307692307692308] [0.3643141153081511, 0.635685884691849] 5358.3120660651475 2820.37691695978\n",
      "[0, 1.0] [0, 0, 1.0] 5551.1 2763.3\n",
      "Round 3  of  20\n",
      "[0, 0.5216095380029806, 0.4783904619970194] [0, 0.3786279683377309, 0.6213720316622692] 5668.2507661938835 2560.5528072148454\n",
      "[0, 0, 1.0] [0, 0, 0, 1.0] 5749.0 2911.5\n",
      "Round 4  of  20\n",
      "[0, 0, 0.013333333333333334, 0.9866666666666667] [0, 0.0037174721189591076, 0, 0.9962825278810409] 5748.251524163568 2396.657714993804\n",
      "[0, 0, 0, 1.0] [0, 0, 0, 0, 1.0] 5921.3 2402.6\n",
      "Round 5  of  20\n",
      "[0, 0, 0, 0.5756097560975609, 0.424390243902439] [0.3304093567251462, 0, 0, 0, 0.6695906432748538] 5644.577539580659 2446.7181614605624\n",
      "[0.26131774249542244, 0.08401985750777549, 0, 0.30739902935196833, 0.3472633706448337] [0.24553713114555714, 0.10355559132358065, 0.36174132854506796, 0, 0, 0.28916594898579423] 5249.832999311692 2625.017328384652\n",
      "Round 6  of  20\n",
      "[0.44886721819382325, 0, 0, 0.08350736614412008, 0.4676254156620567] [0.18266853366458055, 0, 0.33178116079673214, 0, 0, 0, 0.4855503055386873] 5419.093774213833 2775.002185570361\n",
      "Round 7  of  20\n",
      "[0.4098459633362942, 0.04607384973892793, 0.05049224495026766, 0.05161637728940256, 0.4419715646851077] [0.1691128030476113, 0.060857845169719114, 0.35639056262035423, 0, 0, 0, 0.388931102423821, 0.024707686738494324] 5375.424634964207 2755.476105728321\n",
      "Round 8  of  20\n",
      "Round 9  of  20\n",
      "[0.28008189955335805, 0.1632759727037953, 0.13765489579313703, 0.0433639865797638, 0.3184684590824959, 0.05715478628744992] [0.19950668542865177, 0.0783244752784187, 0.3587137929228666, 0, 0, 0.11525899455655128, 0.23259229125474695, 0.015603760558764723] 5325.012198341748 2681.1305339498977\n",
      "Round 10  of  20\n",
      "Round 11  of  20\n",
      "[0, 0, 0, 0, 0.8490364025695931, 0.15096359743040685, 0] [0, 0, 0, 0, 0, 0, 0.9655455291222313, 0.034454470877768664] 5719.488001626636 2919.6254175061877\n",
      "Round 12  of  20\n",
      "[0, 0, 0, 0, 0, 0, 0, 1.0] [0, 0, 0, 0, 0, 0, 0, 1.0] 6028.0 2678.0\n",
      "[0, 0, 0.47482661616569255, 0, 0.026646875744374254, 0, 0, 0.4985265080899332] [0, 0, 0, 0, 0, 0.3477035317526115, 0.09567235947604046, 0, 0.556624108771348] 5431.433421488646 2653.223449174673\n",
      "Round 13  of  20\n",
      "[0, 0, 0, 0, 0.3745498199279712, 0, 0, 0.6254501800720288] [0, 0, 0, 0, 0, 0, 0.24036697247706423, 0, 0, 0.7596330275229358] 5819.31803319493 2780.5331643115965\n",
      "Round 14  of  20\n",
      "[0, 0, 0.007844892616456264, 0, 0, 0, 0, 0.630706896336494, 0.3614482110470497] [0, 0, 0, 0, 0, 0, 0, 0.25398913198306455, 0.2387569364678642, 0.5072539315490713] 5700.434398507177 2848.2278540312727\n",
      "Round 15  of  20\n",
      "[0, 0, 0.035413707477849804, 0, 0.1323660961433098, 0, 0, 0.3919855470906747, 0, 0.4402346492881657] [0, 0, 0, 0, 0, 0.22825013444380796, 0, 0.2067759111704243, 0.3476583420943011, 0.21731561229146668] 5575.686921350623 2773.3721548974154\n",
      "Round 16  of  20\n",
      "Round 17  of  20\n",
      "[0, 0, 0.2564004334983662, 0, 0, 0, 0, 0.07877862169742474, 0.20140423326301074, 0, 0.46341671154119835] [0, 0, 0.43683545776087657, 0, 0, 0.015566003855047871, 0.1901731933883154, 0, 0, 0.3574253449957602] 5655.837016546555 2673.6097832192263\n",
      "[0, 0, 0, 0, 0, 0, 0, 0.26584034927432604, 0.15039891811602762, 0.10998470183398848, 0.47377603077565783] [0, 0, 0.15778355703477487, 0, 0, 0, 0, 0.08048742170498396, 0, 0.4910151895255442, 0.270713831734697] 5701.168203443406 2717.3644322802847\n",
      "Round 18  of  20\n",
      "Round 19  of  20\n",
      "Round 20  of  20\n",
      "[0, 0, 0, 0, 0, 0, 0, 0.3177983237998957, 0.0901458473202381, 0, 0.45726969660967504, 0.13478613227019115] [0, 0, 0.17467358258422966, 0, 0, 0, 0.44918253445135103, 0, 0.1944584832799101, 0.18168539968450917, 0] 5770.3522580544195 2665.42082697231\n"
     ]
    }
   ],
   "source": [
    "for round_ in range(number_rounds):\n",
    "    print(\"Round\",round_ + 1, \" of \", number_rounds)\n",
    "    update = False\n",
    "    \n",
    "    low_cost_player, payoff = training(total_demand, discount_factor, [low_cost, high_cost], total_stages, high_cost_probabilities, high_cost_players, number_episodes)\n",
    "    if payoff > low_cost_payoff:\n",
    "        update = True\n",
    "        low_cost_players.append(low_cost_player)\n",
    "        low_cost_probabilities, high_cost_probabilities, low_cost_payoff, high_cost_payoff = new_equilibrium(low_cost_players, high_cost_players, discount_factor, [low_cost, high_cost], total_stages, initial_demands)\n",
    "        equilibria.append([low_cost_probabilities, high_cost_probabilities, low_cost_payoff, high_cost_payoff])\n",
    "        print(low_cost_probabilities, high_cost_probabilities, low_cost_payoff, high_cost_payoff)\n",
    "    \n",
    "    high_cost_player, payoff = training(total_demand, discount_factor, [high_cost, low_cost], total_stages, low_cost_probabilities, low_cost_players, number_episodes)\n",
    "    if payoff > high_cost_payoff:\n",
    "        update = True\n",
    "        high_cost_players.append(high_cost_player)\n",
    "        low_cost_probabilities, high_cost_probabilities, low_cost_payoff, high_cost_payoff = new_equilibrium(low_cost_players, high_cost_players, discount_factor, [low_cost, high_cost], total_stages, initial_demands)\n",
    "        equilibria.append([low_cost_probabilities, high_cost_probabilities, low_cost_payoff, high_cost_payoff])\n",
    "        print(low_cost_probabilities, high_cost_probabilities, low_cost_payoff, high_cost_payoff)\n",
    "    \n",
    "    if update:\n",
    "        number_episodes = 1_000_000\n",
    "    else:\n",
    "        number_episodes += 1_000_000\n",
    "        "
   ]
  }
 ],
 "metadata": {
  "kernelspec": {
   "display_name": "Python 3 (ipykernel)",
   "language": "python",
   "name": "python3"
  },
  "language_info": {
   "codemirror_mode": {
    "name": "ipython",
    "version": 3
   },
   "file_extension": ".py",
   "mimetype": "text/x-python",
   "name": "python",
   "nbconvert_exporter": "python",
   "pygments_lexer": "ipython3",
   "version": "3.9.13"
  }
 },
 "nbformat": 4,
 "nbformat_minor": 5
}
