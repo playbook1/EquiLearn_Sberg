{
 "cells": [
  {
   "cell_type": "code",
   "execution_count": 1,
   "metadata": {},
   "outputs": [],
   "source": [
    "from learningAgent import LearningAlgorithm\n",
    "from environment import Model\n",
    "from Qtable import QTable\n",
    "from policyTable import PolicyTable\n",
    "import numpy as np\n",
    "import matplotlib.pyplot as plt\n",
    "import pandas as pd\n",
    "from policyTable import PolicyTable\n",
    "from play import Tournament\n",
    "import re\n",
    "import bimatrix\n",
    "from fractions import Fraction"
   ]
  },
  {
   "cell_type": "code",
   "execution_count": 2,
   "metadata": {},
   "outputs": [],
   "source": [
    "np.random.seed(0)"
   ]
  },
  {
   "cell_type": "code",
   "execution_count": 3,
   "metadata": {},
   "outputs": [],
   "source": [
    "# Parameters for the game:\n",
    "total_demand = 400\n",
    "initial_demands = [total_demand/2, total_demand/2]\n",
    "discount_factor = 1\n",
    "low_cost = 57\n",
    "high_cost = 71 \n",
    "total_stages = 10"
   ]
  },
  {
   "cell_type": "code",
   "execution_count": 4,
   "metadata": {},
   "outputs": [],
   "source": [
    "# Parameters for the adversary:\n",
    "number_actions = 60\n",
    "number_demands = total_demand + 1"
   ]
  },
  {
   "cell_type": "code",
   "execution_count": 5,
   "metadata": {},
   "outputs": [],
   "source": [
    "high_cost_player = PolicyTable(number_demands,number_actions,high_cost,total_stages)\n",
    "high_cost_player = high_cost_player.random_reset()\n",
    "high_cost_probabilities = [1]\n",
    "high_cost_players = [high_cost_player]\n",
    "low_cost_players = []"
   ]
  },
  {
   "cell_type": "code",
   "execution_count": 6,
   "metadata": {},
   "outputs": [],
   "source": [
    "def training(total_demand, discount_factor, costs, total_stages, adversary_probabilities, adversaries, number_episodes):\n",
    "    \n",
    "        game = Model(total_demand, costs, total_stages, adversaries, adversary_probabilities)\n",
    "        constant = int(number_episodes/49)\n",
    "        Qtable = QTable(total_demand + 1, number_actions, total_stages , learning_rate = [constant,constant])\n",
    "        algorithm = LearningAlgorithm(game, Qtable, number_episodes, discount_factor)\n",
    "        \n",
    "        episode_counter = 0\n",
    "        number_rounds = 1\n",
    "        number_episodes_per_round = int(number_episodes / number_rounds)       \n",
    "        for round_ in range(number_rounds): \n",
    "            algorithm.epsilon_greedy_learning(number_episodes_per_round, episode_counter, number_episodes)      \n",
    "            episode_counter += number_episodes_per_round\n",
    "        agent = Qtable.to_policy_table(costs[0])\n",
    "        payoff = 0\n",
    "        if costs[0] < costs[1]:\n",
    "            for index, adversary in enumerate(adversaries):\n",
    "                _, _, payoff_against_adversary, _ = new_equilibrium([agent], [adversary], discount_factor, costs, total_stages, [200,200])\n",
    "                payoff += (payoff_against_adversary * adversary_probabilities[index])\n",
    "        else:\n",
    "            for index, adversary in enumerate(adversaries):\n",
    "                _, _, _, payoff_against_adversary = new_equilibrium([adversary], [agent], discount_factor, [costs[1],costs[0]], total_stages, [200,200])\n",
    "                payoff += (payoff_against_adversary * adversary_probabilities[index])    \n",
    "        return Qtable.to_policy_table(costs[0]), payoff"
   ]
  },
  {
   "cell_type": "code",
   "execution_count": 7,
   "metadata": {},
   "outputs": [],
   "source": [
    "def new_equilibrium(low_cost_players, high_cost_players, discount_factor, costs, total_stages, initial_demands):\n",
    "    tournament = Tournament(low_cost_players, high_cost_players, discount_factor, costs, total_stages, initial_demands)\n",
    "    \n",
    "    A,B = tournament.run_tournament()\n",
    "    number_rows = len(A) # Low cost players\n",
    "    number_columns = len(A[0]) # High cost players\n",
    "    \n",
    "    with open('game.txt', 'w') as f:\n",
    "        f.write(str(number_rows) + \" \" + str(number_columns))\n",
    "        f.write('\\n')\n",
    "        f.write('\\n')\n",
    "        for row in A:\n",
    "            for column in row:\n",
    "                f.write(np.array2string(np.array(int(column))) + \" \")\n",
    "            f.write('\\n')\n",
    "        f.write('\\n')\n",
    "        for row in B:\n",
    "            for column in row:\n",
    "                f.write(np.array2string(np.array(int(column))) + \" \")\n",
    "            f.write('\\n')\n",
    "        f.write('\\n')\n",
    "    game = bimatrix.bimatrix(\"game.txt\")\n",
    "    equilibrium = game.tracing(100)\n",
    "    low_cost_probs, high_cost_probs, low_cost_support, high_cost_support = recover_probs(equilibrium)\n",
    "    low_cost_probabilities = return_distribution(len(low_cost_players), low_cost_probs, low_cost_support)\n",
    "    high_cost_probabilities = return_distribution(len(high_cost_players), high_cost_probs, high_cost_support)\n",
    "    low_cost_payoff = np.matmul(low_cost_probabilities, np.matmul(A,np.transpose(high_cost_probabilities)))\n",
    "    high_cost_payoff = np.matmul(low_cost_probabilities, np.matmul(B,np.transpose(high_cost_probabilities)))\n",
    "    return low_cost_probabilities, high_cost_probabilities, low_cost_payoff, high_cost_payoff\n",
    "    "
   ]
  },
  {
   "cell_type": "code",
   "execution_count": 8,
   "metadata": {},
   "outputs": [],
   "source": [
    "def recover_probs(test):\n",
    "    low_cost_probs, high_cost_probs, rest = test.split(\")\")\n",
    "    low_cost_probs = low_cost_probs.split(\"(\")[1] \n",
    "    _, high_cost_probs = high_cost_probs.split(\"(\")\n",
    "    high_cost_probs = [float(Fraction(s)) for s in high_cost_probs.split(',')]\n",
    "    low_cost_probs = [float(Fraction(s)) for s in low_cost_probs.split(',')]\n",
    "    _, low_cost_support, high_cost_support = rest.split('[')\n",
    "    high_cost_support, _ = high_cost_support.split(']')\n",
    "    high_cost_support = [int(s) for s in high_cost_support.split(',')]\n",
    "    low_cost_support, _ = low_cost_support.split(']')\n",
    "    low_cost_support = [int(s) for s in low_cost_support.split(',')]\n",
    "    return low_cost_probs, high_cost_probs, low_cost_support, high_cost_support"
   ]
  },
  {
   "cell_type": "code",
   "execution_count": 9,
   "metadata": {},
   "outputs": [],
   "source": [
    "def return_distribution(number_players, cost_probs, cost_support):\n",
    "    player_probabilities = [0]* number_players\n",
    "    for index, support in enumerate(cost_support):\n",
    "        player_probabilities[support] = cost_probs[support]\n",
    "    return player_probabilities"
   ]
  },
  {
   "cell_type": "code",
   "execution_count": 10,
   "metadata": {},
   "outputs": [],
   "source": [
    "low_cost_payoff = 0\n",
    "high_cost_payoff = 0"
   ]
  },
  {
   "cell_type": "code",
   "execution_count": 11,
   "metadata": {},
   "outputs": [],
   "source": [
    "number_rounds = 10\n",
    "number_episodes = 100_000\n",
    "equilibria = list()"
   ]
  },
  {
   "cell_type": "code",
   "execution_count": 12,
   "metadata": {},
   "outputs": [
    {
     "name": "stdout",
     "output_type": "stream",
     "text": [
      "Round 1  of  10\n",
      "[1.0] [1.0] 4801.3 1940.8\n",
      "[1.0] [0, 1.0] 4203.2 2345.7\n"
     ]
    },
    {
     "data": {
      "image/png": "[encoded data removed]",
      "text/plain": [
       "<Figure size 640x480 with 1 Axes>"
      ]
     },
     "metadata": {},
     "output_type": "display_data"
    },
    {
     "name": "stdout",
     "output_type": "stream",
     "text": [
      "Round 2  of  10\n",
      "[0, 1.0] [0, 1.0] 5062.2 2388.1\n",
      "[0, 1.0] [0, 0, 1.0] 5198.3 2623.0\n"
     ]
    },
    {
     "data": {
      "image/png": "[encoded data removed]",
      "text/plain": [
       "<Figure size 640x480 with 1 Axes>"
      ]
     },
     "metadata": {},
     "output_type": "display_data"
    },
    {
     "name": "stdout",
     "output_type": "stream",
     "text": [
      "Round 3  of  10\n"
     ]
    }
   ],
   "source": [
    "for round_ in range(number_rounds):\n",
    "    print(\"Round\",round_ + 1, \" of \", number_rounds)\n",
    "    update = False\n",
    "    \n",
    "    low_cost_player, payoff = training(total_demand, discount_factor, [low_cost, high_cost], total_stages, high_cost_probabilities, high_cost_players, number_episodes)\n",
    "    if payoff > low_cost_payoff:\n",
    "        update = True\n",
    "        low_cost_players.append(low_cost_player)\n",
    "        low_cost_probabilities, high_cost_probabilities, low_cost_payoff, high_cost_payoff = new_equilibrium(low_cost_players, high_cost_players, discount_factor, [low_cost, high_cost], total_stages, initial_demands)\n",
    "        equilibria.append([low_cost_probabilities, high_cost_probabilities, low_cost_payoff, high_cost_payoff])\n",
    "        print(low_cost_probabilities, high_cost_probabilities, low_cost_payoff, high_cost_payoff)\n",
    "    \n",
    "    high_cost_player, payoff = training(total_demand, discount_factor, [high_cost, low_cost], total_stages, low_cost_probabilities, low_cost_players, number_episodes)\n",
    "    if payoff > high_cost_payoff:\n",
    "        update = True\n",
    "        high_cost_players.append(high_cost_player)\n",
    "        low_cost_probabilities, high_cost_probabilities, low_cost_payoff, high_cost_payoff = new_equilibrium(low_cost_players, high_cost_players, discount_factor, [low_cost, high_cost], total_stages, initial_demands)\n",
    "        equilibria.append([low_cost_probabilities, high_cost_probabilities, low_cost_payoff, high_cost_payoff])\n",
    "        print(low_cost_probabilities, high_cost_probabilities, low_cost_payoff, high_cost_payoff)\n",
    "    \n",
    "    # Graph the trajectory of the high cost players against the low cost players in the equilibrium.\n",
    "    if update:\n",
    "        tournament = Tournament(low_cost_players, high_cost_players, discount_factor, [low_cost, high_cost], total_stages, initial_demands)\n",
    "        for low_index, low_cost_player in enumerate(low_cost_players):\n",
    "            for high_index, high_cost_player in enumerate(high_cost_players):\n",
    "                if low_cost_probabilities[low_index] > 0 and high_cost_probabilities[high_index] > 0:\n",
    "                    low_demands, high_demands = np.transpose(tournament.return_trajectory(low_cost_player, high_cost_player))\n",
    "                    plt.plot(high_demands)\n",
    "            plt.show()\n",
    "            \n",
    "    if update:\n",
    "        number_episodes = 100_000\n",
    "    else:\n",
    "        number_episodes += 100_000\n"
   ]
  },
  {
   "cell_type": "code",
   "execution_count": null,
   "metadata": {},
   "outputs": [],
   "source": [
    "for index, low_cost_player in enumerate(low_cost_players):\n",
    "    policy_table = PolicyTable(total_demand + 1, number_actions, low_cost, total_stages)\n",
    "    policy_table.define(low_cost_player)\n",
    "    policy_table.save(\"Low Cost \" + str(index))\n",
    "for index, high_cost_player in enumerate(high_cost_players):\n",
    "    policy_table = PolicyTable(total_demand + 1, number_actions, low_cost, total_stages)\n",
    "    policy_table.define(high_cost_player)\n",
    "    policy_table.save(\"High Cost \" + str(index))"
   ]
  }
 ],
 "metadata": {
  "kernelspec": {
   "display_name": "Python 3",
   "language": "python",
   "name": "python3"
  },
  "language_info": {
   "codemirror_mode": {
    "name": "ipython",
    "version": 3
   },
   "file_extension": ".py",
   "mimetype": "text/x-python",
   "name": "python",
   "nbconvert_exporter": "python",
   "pygments_lexer": "ipython3",
   "version": "3.9.13"
  }
 },
 "nbformat": 4,
 "nbformat_minor": 5
}
