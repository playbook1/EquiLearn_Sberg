{
 "cells": [
  {
   "cell_type": "code",
   "execution_count": 1,
   "id": "ffac79d8",
   "metadata": {},
   "outputs": [],
   "source": [
    "from learningAgent import LearningAlgorithm\n",
    "from environment import Model\n",
    "from Qtable import QTable\n",
    "from policyTable import PolicyTable\n",
    "from test import Test\n",
    "import numpy as np\n",
    "import matplotlib.pyplot as plt\n",
    "import pandas as pd\n",
    "from policyTable import PolicyTable\n",
    "from play import Tournament\n",
    "import re\n",
    "import bimatrix\n",
    "from fractions import Fraction"
   ]
  },
  {
   "cell_type": "code",
   "execution_count": 2,
   "id": "3cbdc6fd",
   "metadata": {},
   "outputs": [],
   "source": [
    "# np.random.seed(0)"
   ]
  },
  {
   "cell_type": "code",
   "execution_count": 3,
   "id": "f47a0d82",
   "metadata": {},
   "outputs": [],
   "source": [
    "# Parameters for the game:\n",
    "total_demand = 400\n",
    "initial_demands = [total_demand/2, total_demand/2]\n",
    "discount_factor = 1\n",
    "low_cost = 57\n",
    "high_cost = 71 \n",
    "total_stages = 25"
   ]
  },
  {
   "cell_type": "code",
   "execution_count": 4,
   "id": "58173708",
   "metadata": {},
   "outputs": [],
   "source": [
    "# Parameters for the adversary:\n",
    "number_actions = 60\n",
    "number_demands = total_demand + 1"
   ]
  },
  {
   "cell_type": "code",
   "execution_count": 5,
   "id": "b48ea041",
   "metadata": {},
   "outputs": [],
   "source": [
    "high_cost_player = PolicyTable(number_demands,number_actions,high_cost,total_stages)\n",
    "high_cost_player = high_cost_player.random_reset()\n",
    "high_cost_probabilities = [1]\n",
    "high_cost_players = [high_cost_player]\n",
    "low_cost_players = []"
   ]
  },
  {
   "cell_type": "code",
   "execution_count": 6,
   "id": "67c0c760",
   "metadata": {},
   "outputs": [],
   "source": [
    "def training(total_demand, discount_factor, costs, total_stages, adversary_probabilities, adversaries, number_episodes):\n",
    "    \n",
    "        game = Model(total_demand, costs, total_stages, adversaries, adversary_probabilities)\n",
    "        constant = int(number_episodes/49)\n",
    "        Qtable = QTable(total_demand + 1, number_actions, total_stages , learning_rate = [constant,constant])\n",
    "        algorithm = LearningAlgorithm(game, Qtable, number_episodes, discount_factor)\n",
    "        \n",
    "        episode_counter = 0\n",
    "        number_rounds = 10\n",
    "        number_episodes_per_round = int(number_episodes / number_rounds)       \n",
    "        for round_ in range(number_rounds): \n",
    "            algorithm.epsilon_greedy_learning(number_episodes_per_round, episode_counter, number_episodes)      \n",
    "            episode_counter += number_episodes_per_round\n",
    "        result = Test(game, Qtable, discount_factor, adversary_probabilities, adversaries)\n",
    "        payoff, _, _, _, _ = result.total_payoff()\n",
    "        return Qtable.to_policy_table(costs[0]), payoff"
   ]
  },
  {
   "cell_type": "code",
   "execution_count": 7,
   "id": "0522b9af",
   "metadata": {},
   "outputs": [],
   "source": [
    "def new_equilibrium(low_cost_players, high_cost_players, discount_factor, costs, total_stages, initial_demands):\n",
    "    \n",
    "    tournament = Tournament(low_cost_players, high_cost_players, discount_factor, costs, total_stages, initial_demands)\n",
    "    A,B = tournament.run_tournament()\n",
    "    number_rows = len(A)\n",
    "    number_columns = len(A[0])\n",
    "    \n",
    "    with open('game.txt', 'w') as f:\n",
    "        f.write(str(number_rows) + \" \" + str(number_columns))\n",
    "        f.write('\\n')\n",
    "        f.write('\\n')\n",
    "        for row in A:\n",
    "            for column in row:\n",
    "                f.write(np.array2string(np.array(int(column))) + \" \")\n",
    "            f.write('\\n')\n",
    "        f.write('\\n')\n",
    "        for row in B:\n",
    "            for column in row:\n",
    "                f.write(np.array2string(np.array(int(column))) + \" \")\n",
    "            f.write('\\n')\n",
    "        f.write('\\n')\n",
    "    game = bimatrix.bimatrix(\"game.txt\")\n",
    "    equilibrium = game.tracing(100)\n",
    "    low_cost_probs, high_cost_probs, low_cost_support, high_cost_support = recover_probs(equilibrium)\n",
    "    low_cost_probabilities = return_distribution(len(low_cost_players), low_cost_probs, low_cost_support)\n",
    "    high_cost_probabilities = return_distribution(len(high_cost_players), high_cost_probs, high_cost_support)\n",
    "    low_cost_payoff = np.matmul(high_cost_probabilities, np.matmul(B,np.transpose(low_cost_probabilities)))\n",
    "    high_cost_payoff = np.matmul(high_cost_probabilities, np.matmul(A,np.transpose(low_cost_probabilities)))\n",
    "    return low_cost_probabilities, high_cost_probabilities, low_cost_payoff, high_cost_payoff\n",
    "    "
   ]
  },
  {
   "cell_type": "code",
   "execution_count": 8,
   "id": "0fdf2766",
   "metadata": {},
   "outputs": [],
   "source": [
    "def recover_probs(test):\n",
    "    high_cost_probs, low_cost_probs, rest = test.split(\")\")\n",
    "    _, high_cost_probs = high_cost_probs.split(\"(\")\n",
    "    high_cost_probs = [float(Fraction(s)) for s in high_cost_probs.split(',')]\n",
    "    low_cost_probs = low_cost_probs.split(\"(\")[1]\n",
    "    low_cost_probs = [float(Fraction(s)) for s in low_cost_probs.split(',')]\n",
    "    _, high_cost_support, low_cost_support = rest.split('[')\n",
    "    low_cost_support, _ = low_cost_support.split(']')\n",
    "    low_cost_support = [int(s) for s in low_cost_support.split(',')]\n",
    "    high_cost_support, _ = high_cost_support.split(']')\n",
    "    high_cost_support = [int(s) for s in high_cost_support.split(',')]\n",
    "    return low_cost_probs, high_cost_probs, low_cost_support, high_cost_support"
   ]
  },
  {
   "cell_type": "code",
   "execution_count": 9,
   "id": "e1116476",
   "metadata": {},
   "outputs": [],
   "source": [
    "def return_distribution(number_players, cost_probs, cost_support):\n",
    "    player_probabilities = [0]* number_players\n",
    "    for index, support in enumerate(cost_support):\n",
    "        player_probabilities[support] = cost_probs[support]\n",
    "    return player_probabilities"
   ]
  },
  {
   "cell_type": "code",
   "execution_count": 10,
   "id": "5ca6017a",
   "metadata": {},
   "outputs": [],
   "source": [
    "low_cost_payoff = 0\n",
    "high_cost_payoff = 0"
   ]
  },
  {
   "cell_type": "code",
   "execution_count": 11,
   "id": "3cdc6a13",
   "metadata": {},
   "outputs": [],
   "source": [
    "number_rounds = 50\n",
    "number_episodes = 500_000\n",
    "equilibria = list()"
   ]
  },
  {
   "cell_type": "code",
   "execution_count": 12,
   "id": "656a9d0f",
   "metadata": {},
   "outputs": [
    {
     "name": "stdout",
     "output_type": "stream",
     "text": [
      "Round 1  of  50\n",
      "Train low cost:\n"
     ]
    },
    {
     "ename": "KeyboardInterrupt",
     "evalue": "",
     "output_type": "error",
     "traceback": [
      "\u001b[0;31m---------------------------------------------------------------------------\u001b[0m",
      "\u001b[0;31mKeyboardInterrupt\u001b[0m                         Traceback (most recent call last)",
      "\u001b[0;32m/var/folders/qp/vv6_63sd0n954kctm_7hhrhh0000gn/T/ipykernel_74139/1346202575.py\u001b[0m in \u001b[0;36m<module>\u001b[0;34m\u001b[0m\n\u001b[1;32m      3\u001b[0m \u001b[0;34m\u001b[0m\u001b[0m\n\u001b[1;32m      4\u001b[0m     \u001b[0mprint\u001b[0m\u001b[0;34m(\u001b[0m\u001b[0;34m\"Train low cost:\"\u001b[0m\u001b[0;34m)\u001b[0m\u001b[0;34m\u001b[0m\u001b[0;34m\u001b[0m\u001b[0m\n\u001b[0;32m----> 5\u001b[0;31m     \u001b[0mlow_cost_player\u001b[0m\u001b[0;34m,\u001b[0m \u001b[0mpayoff\u001b[0m \u001b[0;34m=\u001b[0m \u001b[0mtraining\u001b[0m\u001b[0;34m(\u001b[0m\u001b[0mtotal_demand\u001b[0m\u001b[0;34m,\u001b[0m \u001b[0mdiscount_factor\u001b[0m\u001b[0;34m,\u001b[0m \u001b[0;34m[\u001b[0m\u001b[0mlow_cost\u001b[0m\u001b[0;34m,\u001b[0m \u001b[0mhigh_cost\u001b[0m\u001b[0;34m]\u001b[0m\u001b[0;34m,\u001b[0m \u001b[0mtotal_stages\u001b[0m\u001b[0;34m,\u001b[0m \u001b[0mhigh_cost_probabilities\u001b[0m\u001b[0;34m,\u001b[0m \u001b[0mhigh_cost_players\u001b[0m\u001b[0;34m,\u001b[0m \u001b[0mnumber_episodes\u001b[0m\u001b[0;34m)\u001b[0m\u001b[0;34m\u001b[0m\u001b[0;34m\u001b[0m\u001b[0m\n\u001b[0m\u001b[1;32m      6\u001b[0m     \u001b[0;32mif\u001b[0m \u001b[0mpayoff\u001b[0m \u001b[0;34m>\u001b[0m \u001b[0mlow_cost_payoff\u001b[0m\u001b[0;34m:\u001b[0m\u001b[0;34m\u001b[0m\u001b[0;34m\u001b[0m\u001b[0m\n\u001b[1;32m      7\u001b[0m         \u001b[0mlow_cost_players\u001b[0m\u001b[0;34m.\u001b[0m\u001b[0mappend\u001b[0m\u001b[0;34m(\u001b[0m\u001b[0mlow_cost_player\u001b[0m\u001b[0;34m)\u001b[0m\u001b[0;34m\u001b[0m\u001b[0;34m\u001b[0m\u001b[0m\n",
      "\u001b[0;32m/var/folders/qp/vv6_63sd0n954kctm_7hhrhh0000gn/T/ipykernel_74139/3759278906.py\u001b[0m in \u001b[0;36mtraining\u001b[0;34m(total_demand, discount_factor, costs, total_stages, adversary_probabilities, adversaries, number_episodes)\u001b[0m\n\u001b[1;32m     10\u001b[0m         \u001b[0mnumber_episodes_per_round\u001b[0m \u001b[0;34m=\u001b[0m \u001b[0mint\u001b[0m\u001b[0;34m(\u001b[0m\u001b[0mnumber_episodes\u001b[0m \u001b[0;34m/\u001b[0m \u001b[0mnumber_rounds\u001b[0m\u001b[0;34m)\u001b[0m\u001b[0;34m\u001b[0m\u001b[0;34m\u001b[0m\u001b[0m\n\u001b[1;32m     11\u001b[0m         \u001b[0;32mfor\u001b[0m \u001b[0mround_\u001b[0m \u001b[0;32min\u001b[0m \u001b[0mrange\u001b[0m\u001b[0;34m(\u001b[0m\u001b[0mnumber_rounds\u001b[0m\u001b[0;34m)\u001b[0m\u001b[0;34m:\u001b[0m\u001b[0;34m\u001b[0m\u001b[0;34m\u001b[0m\u001b[0m\n\u001b[0;32m---> 12\u001b[0;31m             \u001b[0malgorithm\u001b[0m\u001b[0;34m.\u001b[0m\u001b[0mepsilon_greedy_learning\u001b[0m\u001b[0;34m(\u001b[0m\u001b[0mnumber_episodes_per_round\u001b[0m\u001b[0;34m,\u001b[0m \u001b[0mepisode_counter\u001b[0m\u001b[0;34m,\u001b[0m \u001b[0mnumber_episodes\u001b[0m\u001b[0;34m)\u001b[0m\u001b[0;34m\u001b[0m\u001b[0;34m\u001b[0m\u001b[0m\n\u001b[0m\u001b[1;32m     13\u001b[0m             \u001b[0mepisode_counter\u001b[0m \u001b[0;34m+=\u001b[0m \u001b[0mnumber_episodes_per_round\u001b[0m\u001b[0;34m\u001b[0m\u001b[0;34m\u001b[0m\u001b[0m\n\u001b[1;32m     14\u001b[0m         \u001b[0mresult\u001b[0m \u001b[0;34m=\u001b[0m \u001b[0mTest\u001b[0m\u001b[0;34m(\u001b[0m\u001b[0mgame\u001b[0m\u001b[0;34m,\u001b[0m \u001b[0mQtable\u001b[0m\u001b[0;34m,\u001b[0m \u001b[0mdiscount_factor\u001b[0m\u001b[0;34m,\u001b[0m \u001b[0madversary_probabilities\u001b[0m\u001b[0;34m,\u001b[0m \u001b[0madversaries\u001b[0m\u001b[0;34m)\u001b[0m\u001b[0;34m\u001b[0m\u001b[0;34m\u001b[0m\u001b[0m\n",
      "\u001b[0;32m~/Documents/GitHub/EquiLearn/Population_Game/learningAgent.py\u001b[0m in \u001b[0;36mepsilon_greedy_learning\u001b[0;34m(self, number_episodes, number_previous_episodes, total_number_episodes)\u001b[0m\n\u001b[1;32m     78\u001b[0m                     \u001b[0moptimal_next_value\u001b[0m \u001b[0;34m=\u001b[0m \u001b[0;36m0\u001b[0m\u001b[0;34m\u001b[0m\u001b[0;34m\u001b[0m\u001b[0m\n\u001b[1;32m     79\u001b[0m                 \u001b[0;32melse\u001b[0m\u001b[0;34m:\u001b[0m\u001b[0;34m\u001b[0m\u001b[0;34m\u001b[0m\u001b[0m\n\u001b[0;32m---> 80\u001b[0;31m                     \u001b[0moptimal_next_value\u001b[0m \u001b[0;34m=\u001b[0m \u001b[0mmax\u001b[0m\u001b[0;34m(\u001b[0m\u001b[0mself\u001b[0m\u001b[0;34m.\u001b[0m\u001b[0mQtable\u001b[0m\u001b[0;34m[\u001b[0m\u001b[0mint\u001b[0m\u001b[0;34m(\u001b[0m\u001b[0mstate\u001b[0m\u001b[0;34m[\u001b[0m\u001b[0;36m1\u001b[0m\u001b[0;34m]\u001b[0m\u001b[0;34m)\u001b[0m\u001b[0;34m,\u001b[0m\u001b[0;34m:\u001b[0m\u001b[0;34m,\u001b[0m \u001b[0maction_index\u001b[0m\u001b[0;34m,\u001b[0m \u001b[0mstate\u001b[0m\u001b[0;34m[\u001b[0m\u001b[0;36m0\u001b[0m\u001b[0;34m]\u001b[0m\u001b[0;34m]\u001b[0m\u001b[0;34m)\u001b[0m\u001b[0;34m\u001b[0m\u001b[0;34m\u001b[0m\u001b[0m\n\u001b[0m\u001b[1;32m     81\u001b[0m \u001b[0;34m\u001b[0m\u001b[0m\n\u001b[1;32m     82\u001b[0m                 \u001b[0mcurrent_q_value\u001b[0m \u001b[0;34m=\u001b[0m \u001b[0mself\u001b[0m\u001b[0;34m.\u001b[0m\u001b[0mQtable\u001b[0m\u001b[0;34m[\u001b[0m\u001b[0mdemand_index\u001b[0m\u001b[0;34m,\u001b[0m \u001b[0maction_index\u001b[0m\u001b[0;34m,\u001b[0m \u001b[0magent_previous_action\u001b[0m\u001b[0;34m,\u001b[0m \u001b[0mstage\u001b[0m\u001b[0;34m]\u001b[0m\u001b[0;34m\u001b[0m\u001b[0;34m\u001b[0m\u001b[0m\n",
      "\u001b[0;31mKeyboardInterrupt\u001b[0m: "
     ]
    }
   ],
   "source": [
    "for round_ in range(number_rounds):\n",
    "    print(\"Round\",round_ + 1, \" of \", number_rounds)\n",
    "    \n",
    "    print(\"Train low cost:\")\n",
    "    low_cost_player, payoff = training(total_demand, discount_factor, [low_cost, high_cost], total_stages, high_cost_probabilities, high_cost_players, number_episodes)\n",
    "    if payoff > low_cost_payoff:\n",
    "        low_cost_players.append(low_cost_player)\n",
    "        low_cost_probabilities, high_cost_probabilities, low_cost_payoff, high_cost_payoff = new_equilibrium(low_cost_players, high_cost_players, discount_factor, [low_cost, high_cost], total_stages, initial_demands)\n",
    "        equilibria.append([low_cost_probabilities, high_cost_probabilities, low_cost_payoff, high_cost_payoff])\n",
    "    \n",
    "    print(\"Train high cost:\")\n",
    "    new_high_cost_player, payoff = training(total_demand, discount_factor, [high_cost, low_cost], total_stages, low_cost_probabilities, low_cost_players, number_episodes)\n",
    "    if payoff > high_cost_payoff:\n",
    "        high_cost_players.append(new_high_cost_player)\n",
    "        low_cost_probabilities, high_cost_probabilities, low_cost_payoff, high_cost_payoff = new_equilibrium(low_cost_players, high_cost_players, discount_factor, [low_cost, high_cost], total_stages, initial_demands)\n",
    "        equilibria.append([low_cost_probabilities, high_cost_probabilities, low_cost_payoff, high_cost_payoff])\n",
    "        "
   ]
  },
  {
   "cell_type": "code",
   "execution_count": null,
   "id": "d4a1ad7e",
   "metadata": {},
   "outputs": [],
   "source": [
    "eqilibrium_low_probs = [equilibrium[0] for equilibrium in equilibria]"
   ]
  },
  {
   "cell_type": "code",
   "execution_count": null,
   "id": "9007e30b",
   "metadata": {},
   "outputs": [],
   "source": [
    "for probs in eqilibrium_low_probs:\n",
    "    print(probs)"
   ]
  },
  {
   "cell_type": "code",
   "execution_count": null,
   "id": "0ce3676a",
   "metadata": {},
   "outputs": [],
   "source": []
  }
 ],
 "metadata": {
  "kernelspec": {
   "display_name": "Python 3 (ipykernel)",
   "language": "python",
   "name": "python3"
  },
  "language_info": {
   "codemirror_mode": {
    "name": "ipython",
    "version": 3
   },
   "file_extension": ".py",
   "mimetype": "text/x-python",
   "name": "python",
   "nbconvert_exporter": "python",
   "pygments_lexer": "ipython3",
   "version": "3.9.13"
  }
 },
 "nbformat": 4,
 "nbformat_minor": 5
}
