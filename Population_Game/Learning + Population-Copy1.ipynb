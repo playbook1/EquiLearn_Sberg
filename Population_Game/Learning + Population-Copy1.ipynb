{
 "cells": [
  {
   "cell_type": "code",
   "execution_count": 1,
   "id": "ffac79d8",
   "metadata": {},
   "outputs": [],
   "source": [
    "from learningAgent import LearningAlgorithm\n",
    "from environment import Model\n",
    "from Qtable import QTable\n",
    "from policyTable import PolicyTable\n",
    "from test import Test\n",
    "import numpy as np\n",
    "import matplotlib.pyplot as plt\n",
    "import pandas as pd\n",
    "from policyTable import PolicyTable\n",
    "from play import Tournament\n",
    "import re\n",
    "import bimatrix\n",
    "from fractions import Fraction"
   ]
  },
  {
   "cell_type": "code",
   "execution_count": 2,
   "id": "3cbdc6fd",
   "metadata": {},
   "outputs": [],
   "source": [
    "# np.random.seed(0)"
   ]
  },
  {
   "cell_type": "code",
   "execution_count": 3,
   "id": "f47a0d82",
   "metadata": {},
   "outputs": [],
   "source": [
    "# Parameters for the game:\n",
    "total_demand = 400\n",
    "initial_demands = [total_demand/2, total_demand/2]\n",
    "discount_factor = 1\n",
    "low_cost = 57\n",
    "high_cost = 71 \n",
    "total_stages = 25"
   ]
  },
  {
   "cell_type": "code",
   "execution_count": 4,
   "id": "58173708",
   "metadata": {},
   "outputs": [],
   "source": [
    "# Parameters for the adversary:\n",
    "number_actions = 60\n",
    "number_demands = total_demand + 1"
   ]
  },
  {
   "cell_type": "code",
   "execution_count": 5,
   "id": "b48ea041",
   "metadata": {},
   "outputs": [],
   "source": [
    "high_cost_player = PolicyTable(number_demands,number_actions,high_cost,total_stages)\n",
    "high_cost_player = high_cost_player.random_reset()\n",
    "high_cost_probabilities = [1]\n",
    "high_cost_players = [high_cost_player]\n",
    "low_cost_players = []\n",
    "number_episodes = 500"
   ]
  },
  {
   "cell_type": "code",
   "execution_count": 6,
   "id": "67c0c760",
   "metadata": {},
   "outputs": [],
   "source": [
    "def training(total_demand, discount_factor, costs, total_stages, adversary_probabilities, adversaries, number_episodes):\n",
    "    \n",
    "        game = Model(total_demand, costs, total_stages, adversaries, adversary_probabilities)\n",
    "        constant = int(number_episodes/49)\n",
    "        Qtable = QTable(total_demand + 1, number_actions, total_stages , learning_rate = [constant,constant])\n",
    "        algorithm = LearningAlgorithm(game, Qtable, number_episodes, discount_factor)\n",
    "        \n",
    "        episode_counter = 0\n",
    "        number_rounds = 10\n",
    "        number_episodes_per_round = int(number_episodes / number_rounds)       \n",
    "        for round_ in range(number_rounds): \n",
    "#             print('Round ', round_, ' of ', number_rounds)\n",
    "            algorithm.epsilon_greedy_learning(number_episodes_per_round, episode_counter, number_episodes)      \n",
    "            episode_counter += number_episodes_per_round\n",
    "        return Qtable.to_policy_table(costs[0])"
   ]
  },
  {
   "cell_type": "code",
   "execution_count": 7,
   "id": "0522b9af",
   "metadata": {},
   "outputs": [],
   "source": [
    "def new_equilibrium(low_cost_players, high_cost_players, discount_factor, costs, total_stages, initial_demands):\n",
    "    \n",
    "    tournament = Tournament(low_cost_players, high_cost_players, discount_factor, costs, total_stages, initial_demands)\n",
    "    A,B = tournament.run_tournament()\n",
    "    number_rows = len(A)\n",
    "    number_columns = len(A[0])\n",
    "    \n",
    "    with open('game.txt', 'w') as f:\n",
    "        f.write(str(number_rows) + \" \" + str(number_columns))\n",
    "        f.write('\\n')\n",
    "        f.write('\\n')\n",
    "        for row in A:\n",
    "            for column in row:\n",
    "                f.write(np.array2string(np.array(int(column))) + \" \")\n",
    "            f.write('\\n')\n",
    "        f.write('\\n')\n",
    "        for row in B:\n",
    "            for column in row:\n",
    "                f.write(np.array2string(np.array(int(column))) + \" \")\n",
    "            f.write('\\n')\n",
    "        f.write('\\n')\n",
    "    game = bimatrix.bimatrix(\"game.txt\")\n",
    "    equilibrium = game.tracing(100)\n",
    "    return recover_probs(equilibrium)\n",
    "    "
   ]
  },
  {
   "cell_type": "code",
   "execution_count": 8,
   "id": "0fdf2766",
   "metadata": {},
   "outputs": [],
   "source": [
    "def recover_probs(test):\n",
    "    high_cost_probs, low_cost_probs, rest = test.split(\")\")\n",
    "    _, high_cost_probs = high_cost_probs.split(\"(\")\n",
    "    high_cost_probs = [float(Fraction(s)) for s in high_cost_probs.split(',')]\n",
    "    low_cost_probs = low_cost_probs.split(\"(\")[1]\n",
    "    low_cost_probs = [float(Fraction(s)) for s in low_cost_probs.split(',')]\n",
    "    _, high_cost_support, low_cost_support = rest.split('[')\n",
    "    low_cost_support, _ = low_cost_support.split(']')\n",
    "    low_cost_support = [int(s) for s in low_cost_support.split(',')]\n",
    "    high_cost_support, _ = high_cost_support.split(']')\n",
    "    high_cost_support = [int(s) for s in high_cost_support.split(',')]\n",
    "    return low_cost_probs, high_cost_probs, low_cost_support, high_cost_support"
   ]
  },
  {
   "cell_type": "code",
   "execution_count": 9,
   "id": "e1116476",
   "metadata": {},
   "outputs": [],
   "source": [
    "def return_distribution(number_players, cost_probs, cost_support):\n",
    "    player_probabilities = [0]* number_players\n",
    "    for index, support in enumerate(cost_support):\n",
    "        player_probabilities[support] = cost_probs[support]\n",
    "    return player_probabilities"
   ]
  },
  {
   "cell_type": "code",
   "execution_count": null,
   "id": "656a9d0f",
   "metadata": {},
   "outputs": [
    {
     "name": "stdout",
     "output_type": "stream",
     "text": [
      "0\n",
      "100 times found  (1),(1)\n",
      "    supports: [0][0]\n",
      "\n",
      "100 times found  (1,0),(1)\n",
      "    supports: [0][0]\n",
      "1\n",
      "100 times found  (1,0),(1,0)\n",
      "    supports: [0][0]\n",
      "\n",
      "100 times found  (1,0,0),(1,0)\n",
      "    supports: [0][0]\n",
      "2\n",
      "100 times found  (1,0,0),(1,0,0)\n",
      "    supports: [0][0]\n",
      "\n",
      "100 times found  (7/647,0,0,640/647),(203/204,1/204,0)\n",
      "    supports: [0, 3][0, 1]\n",
      "3\n",
      "100 times found  (7/647,0,0,640/647),(203/204,1/204,0,0)\n",
      "    supports: [0, 3][0, 1]\n",
      "\n",
      "100 times found  (7/647,0,0,640/647,0),(203/204,1/204,0,0)\n",
      "    supports: [0, 3][0, 1]\n",
      "4\n"
     ]
    }
   ],
   "source": [
    "for round_ in range(100):\n",
    "    print(round_)\n",
    "    low_cost_player = training(total_demand, discount_factor, [low_cost, high_cost], total_stages, high_cost_probabilities, high_cost_players, number_episodes)\n",
    "    low_cost_players.append(low_cost_player)\n",
    "    low_cost_probs, _, low_cost_support, _ = new_equilibrium(low_cost_players, high_cost_players, discount_factor, [low_cost, high_cost], total_stages, initial_demands)\n",
    "    low_cost_probabilities = return_distribution(len(low_cost_players), low_cost_probs, low_cost_support)\n",
    "    print()\n",
    "    new_high_cost_player = training(total_demand, discount_factor, [high_cost, low_cost], total_stages, low_cost_probabilities, low_cost_players, number_episodes)\n",
    "    high_cost_players.append(new_high_cost_player)\n",
    "    _, high_cost_probs, _, high_cost_support = new_equilibrium(low_cost_players, high_cost_players, discount_factor, [low_cost, high_cost], total_stages, initial_demands)\n",
    "    high_cost_probabilities = return_distribution(len(high_cost_players), high_cost_probs, high_cost_support)"
   ]
  },
  {
   "cell_type": "code",
   "execution_count": null,
   "id": "fe79bc98",
   "metadata": {},
   "outputs": [],
   "source": []
  }
 ],
 "metadata": {
  "kernelspec": {
   "display_name": "Python 3 (ipykernel)",
   "language": "python",
   "name": "python3"
  },
  "language_info": {
   "codemirror_mode": {
    "name": "ipython",
    "version": 3
   },
   "file_extension": ".py",
   "mimetype": "text/x-python",
   "name": "python",
   "nbconvert_exporter": "python",
   "pygments_lexer": "ipython3",
   "version": "3.9.13"
  }
 },
 "nbformat": 4,
 "nbformat_minor": 5
}
