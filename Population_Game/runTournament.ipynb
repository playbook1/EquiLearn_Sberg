{
 "cells": [
  {
   "cell_type": "code",
   "execution_count": 1,
   "metadata": {},
   "outputs": [],
   "source": [
    "from policyTable import PolicyTable\n",
    "from play import Tournament\n",
    "import numpy as np\n",
    "import re"
   ]
  },
  {
   "cell_type": "code",
   "execution_count": 2,
   "metadata": {},
   "outputs": [],
   "source": [
    "np.random.seed(0)"
   ]
  },
  {
   "cell_type": "code",
   "execution_count": 3,
   "metadata": {},
   "outputs": [],
   "source": [
    "# Parameters for the game:\n",
    "total_demand = 400\n",
    "low_cost = 57\n",
    "high_cost = 71 \n",
    "discount_factor = 1\n",
    "costs = [low_cost,high_cost]\n",
    "total_stages = 25\n",
    "initial_demands = [total_demand/2, total_demand/2]"
   ]
  },
  {
   "cell_type": "code",
   "execution_count": 4,
   "metadata": {},
   "outputs": [],
   "source": [
    "# Parameters for the adversary:\n",
    "number_actions = 50\n",
    "number_demands = total_demand + 1"
   ]
  },
  {
   "cell_type": "code",
   "execution_count": 5,
   "metadata": {},
   "outputs": [],
   "source": [
    "# Create players\n",
    "low_cost_player = PolicyTable(number_demands,number_actions,low_cost,total_stages)\n",
    "low_cost_players = [low_cost_player.random_reset(),low_cost_player.random_reset()]\n",
    "high_cost_player = PolicyTable(number_demands,number_actions,high_cost,total_stages)\n",
    "high_cost_players = [high_cost_player.random_reset(),high_cost_player.random_reset()]"
   ]
  },
  {
   "cell_type": "code",
   "execution_count": 6,
   "metadata": {},
   "outputs": [],
   "source": [
    "tournament = Tournament(low_cost_players, high_cost_players, discount_factor, costs, total_stages, initial_demands)"
   ]
  },
  {
   "cell_type": "code",
   "execution_count": 7,
   "metadata": {},
   "outputs": [],
   "source": [
    "A,B = tournament.run_tournament()"
   ]
  },
  {
   "cell_type": "code",
   "execution_count": 8,
   "metadata": {},
   "outputs": [],
   "source": [
    "def cleanbrackets(astring): \n",
    "    # formats matrix string from np.array_str(A) for lrsnash\n",
    "    astring = re.sub('[\\[\\]]', '', astring)\n",
    "    astring = re.sub('\\n ', '\\n', astring)\n",
    "    astring = re.sub('\\.', ' ', astring)\n",
    "    return astring"
   ]
  },
  {
   "cell_type": "code",
   "execution_count": 9,
   "metadata": {},
   "outputs": [],
   "source": [
    "def outgame (A,B,divideby):\n",
    "    m = len(A)\n",
    "    n = len(A[0])\n",
    "    print (\"A =\")\n",
    "    A = A / divideby\n",
    "    np.set_printoptions(precision=0)\n",
    "    print (cleanbrackets(np.array_str(A)))\n",
    "    print (\"\\nB =\")\n",
    "    B = B / divideby\n",
    "    print (cleanbrackets(np.array_str(B)))\n",
    "    return"
   ]
  },
  {
   "cell_type": "code",
   "execution_count": 10,
   "metadata": {},
   "outputs": [
    {
     "name": "stdout",
     "output_type": "stream",
     "text": [
      "A =\n",
      "4574  4379 \n",
      "4079  4279 \n",
      "\n",
      "B =\n",
      "3089  3229 \n",
      "3371  3153 \n"
     ]
    }
   ],
   "source": [
    "outgame(A,B,1)"
   ]
  }
 ],
 "metadata": {
  "kernelspec": {
   "display_name": "Python 3 (ipykernel)",
   "language": "python",
   "name": "python3"
  },
  "language_info": {
   "codemirror_mode": {
    "name": "ipython",
    "version": 3
   },
   "file_extension": ".py",
   "mimetype": "text/x-python",
   "name": "python",
   "nbconvert_exporter": "python",
   "pygments_lexer": "ipython3",
   "version": "3.9.13"
  }
 },
 "nbformat": 4,
 "nbformat_minor": 4
}
