{
 "cells": [
  {
   "cell_type": "code",
   "execution_count": 1,
   "metadata": {},
   "outputs": [],
   "source": [
    "import BimatrixGame\n",
    "import globals as gl\n",
    "from environmentModelBase import Model\n",
    "from learningBase import ReinforceAlgorithm, MixedStrategy, Strategy, StrategyType\n",
    "from neuralNetworkSimple import NNBase\n",
    "import numpy as np\n"
   ]
  },
  {
   "cell_type": "code",
   "execution_count": 2,
   "metadata": {},
   "outputs": [],
   "source": [
    "np.random.seed(0)\n",
    "gl.initialize()"
   ]
  },
  {
   "cell_type": "code",
   "execution_count": 3,
   "metadata": {},
   "outputs": [],
   "source": [
    "def create_nn_strategy(name):\n",
    "    nn=NNBase(num_input=gl.total_stages+2+gl.num_adv_history,lr=gl.lr, num_actions=gl.num_actions)\n",
    "    nn.load(name)\n",
    "    return Strategy(StrategyType.neural_net,NNorFunc=nn, name=name)"
   ]
  },
  {
   "cell_type": "code",
   "execution_count": 4,
   "metadata": {},
   "outputs": [
    {
     "data": {
      "text/plain": [
       "[<learningBase.Strategy at 0x2314c84e460>,\n",
       " <learningBase.Strategy at 0x23154c77ee0>,\n",
       " <learningBase.Strategy at 0x23154ca8220>,\n",
       " <learningBase.Strategy at 0x23154ca8430>,\n",
       " <learningBase.Strategy at 0x23154ca8670>]"
      ]
     },
     "execution_count": 4,
     "metadata": {},
     "output_type": "execute_result"
    }
   ],
   "source": [
    "low_nn_names=[\"low,1684386202\",\"low,1684484716\",\"low,1684557152\",\"low,1684856358\",\"low,1685028503\"]\n",
    "low_strategies = [create_nn_strategy(name) for name in low_nn_names]\n",
    "low_strategies"
   ]
  },
  {
   "cell_type": "code",
   "execution_count": 5,
   "metadata": {},
   "outputs": [],
   "source": [
    "high_nn_names=[\"high,1684424924\",\"high,1684821735\"]\n",
    "high_strategies = [create_nn_strategy(name) for name in high_nn_names]"
   ]
  },
  {
   "cell_type": "code",
   "execution_count": null,
   "metadata": {},
   "outputs": [
    {
     "name": "stdout",
     "output_type": "stream",
     "text": [
      "equi: [0.00, 0.00, 0.00, 0.00, 1.00], [1.00, 0.00], 126449.42, 56561.34\n",
      "Round 0  of  100\n",
      "Round 1  of  100\n",
      "Round 2  of  100\n",
      "Round 3  of  100\n"
     ]
    }
   ],
   "source": [
    "bimatrix_game = BimatrixGame.BimatrixGame(low_strategies, high_strategies)\n",
    "equilibria=BimatrixGame.run_tournament(bimatrix_game=bimatrix_game,number_rounds= 100)"
   ]
  },
  {
   "cell_type": "code",
   "execution_count": null,
   "metadata": {},
   "outputs": [],
   "source": [
    "for strategy in bimatrixGame._strategies_low:\n",
    "    print(strategy._name)"
   ]
  },
  {
   "cell_type": "code",
   "execution_count": null,
   "metadata": {},
   "outputs": [],
   "source": [
    "for strategy in bimatrixGame._strategies_high:\n",
    "    print(strategy._name)"
   ]
  },
  {
   "cell_type": "code",
   "execution_count": null,
   "metadata": {},
   "outputs": [],
   "source": []
  }
 ],
 "metadata": {
  "kernelspec": {
   "display_name": "Python 3 (ipykernel)",
   "language": "python",
   "name": "python3"
  },
  "language_info": {
   "codemirror_mode": {
    "name": "ipython",
    "version": 3
   },
   "file_extension": ".py",
   "mimetype": "text/x-python",
   "name": "python",
   "nbconvert_exporter": "python",
   "pygments_lexer": "ipython3",
   "version": "3.9.12"
  }
 },
 "nbformat": 4,
 "nbformat_minor": 4
}
