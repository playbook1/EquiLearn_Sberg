{
 "cells": [
  {
   "cell_type": "code",
   "execution_count": 1,
   "metadata": {},
   "outputs": [],
   "source": [
    "import sys\n",
    "sys.path.append(\"../\")\n",
    "import config\n",
    "# Env init\n",
    "import gymnasium as gym\n",
    "from gymnasium import spaces\n",
    "import numpy as np\n",
    "# Agents RL\n",
    "#from stable_baselines3 import SAC, PPO\n",
    "#from stable_baselines3.common.env_util import make_vec_env\n",
    "#from stable_baselines3.common.vec_env import DummyVecEnv, SubprocVecEnv\n",
    "import time\n",
    "\n",
    "from classes.GameEnvironment import ModelGameEnvironment\n",
    "#import src.globals as gl\n",
    "#import src.classes as cl\n",
    "\n",
    "\n",
    "import logging\n",
    "logger = logging.getLogger()\n",
    "logger.setLevel(logging.INFO)\n",
    "\n"
   ]
  },
  {
   "cell_type": "code",
   "execution_count": 7,
   "metadata": {},
   "outputs": [],
   "source": [
    "################\n",
    "#  Training    #\n",
    "################\n",
    "\n",
    "# Init Populations for \\Pi^1_i for every agent i \\in I\n",
    "# TO DO\n",
    "population_dictionary = { agent:{} for agent in range(0, config.NUMBER_AGENTS)}\n",
    "\n",
    "for generation in range(0, config.GENETRATIONS):\n",
    "    logger.info(f\"Generation {generation}\")\n",
    "\n",
    "    # Construct Meta-game M^k from current population from current population {\\Pi^k_i}_{i \\in I}\n",
    "    # TO DO\n",
    "\n",
    "    # Use meta solver  on Meta-game M^k to obtain distribution {\\delta^k_i}_{i \\in I}\n",
    "    # TO DO\n",
    "\n",
    "    for agent in range(0,config.NUMBER_AGENTS):\n",
    "        logger.info(f\"Agent {agent}\")\n",
    "        for episode in range(0,config.EPISODES):\n",
    "            logger.info(f\"Episode {episode}\")\n",
    "            # Sample policies for other agents \\pi_{-i} ∼ \\delta^k_{-i}\n",
    "            # TO DO\n",
    "\n",
    "            #Use single-agent RL to train \\pi^'_{i} wrt. \\pi_{-i} in underlying game G\n",
    "            # TO DO\n",
    "\n",
    "        #Grow population \\Pi^{k+1}_i <- \\Pi^{k}_i U {\\pi^'_{i}}\n",
    "\n",
    "\n",
    "    \n"
   ]
  },
  {
   "cell_type": "code",
   "execution_count": 8,
   "metadata": {},
   "outputs": [
    {
     "data": {
      "text/plain": [
       "{0: {}, 1: {}}"
      ]
     },
     "execution_count": 8,
     "metadata": {},
     "output_type": "execute_result"
    }
   ],
   "source": [
    "population_dictionary\n"
   ]
  }
 ],
 "metadata": {
  "kernelspec": {
   "display_name": ".venv",
   "language": "python",
   "name": "python3"
  },
  "language_info": {
   "codemirror_mode": {
    "name": "ipython",
    "version": 3
   },
   "file_extension": ".py",
   "mimetype": "text/x-python",
   "name": "python",
   "nbconvert_exporter": "python",
   "pygments_lexer": "ipython3",
   "version": "3.9.13"
  }
 },
 "nbformat": 4,
 "nbformat_minor": 2
}
