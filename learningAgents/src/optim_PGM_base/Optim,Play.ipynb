{
 "cells": [
  {
   "cell_type": "code",
   "execution_count": 1,
   "metadata": {},
   "outputs": [],
   "source": [
    "import BimatrixGame\n",
    "import globals as gl\n",
    "import environmentModelBase as em\n",
    "from environmentModelBase import Model\n",
    "from learningBase import ReinforceAlgorithm, MixedStrategy, Strategy, StrategyType\n",
    "from neuralNetworkSimple import NNBase\n",
    "import numpy as np\n"
   ]
  },
  {
   "cell_type": "code",
   "execution_count": 2,
   "metadata": {},
   "outputs": [],
   "source": [
    "np.random.seed(0)\n",
    "gl.initialize()"
   ]
  },
  {
   "cell_type": "code",
   "execution_count": 3,
   "metadata": {},
   "outputs": [],
   "source": [
    "def create_nn_strategy(name):\n",
    "    nn=NNBase(num_input=gl.total_stages+2+gl.num_adv_history,lr=gl.lr, num_actions=gl.num_actions)\n",
    "    nn.load(name)\n",
    "    return Strategy(StrategyType.neural_net,NNorFunc=nn, name=name)"
   ]
  },
  {
   "cell_type": "code",
   "execution_count": 4,
   "metadata": {},
   "outputs": [
    {
     "data": {
      "text/plain": [
       "[<learningBase.Strategy at 0x165e33503a0>,\n",
       " <learningBase.Strategy at 0x165e2deb3a0>,\n",
       " <learningBase.Strategy at 0x165e2deba60>,\n",
       " <learningBase.Strategy at 0x165db59d5b0>,\n",
       " <learningBase.Strategy at 0x165db5be1f0>,\n",
       " <learningBase.Strategy at 0x165e3a2e7c0>,\n",
       " <learningBase.Strategy at 0x165e3a2e9d0>,\n",
       " <learningBase.Strategy at 0x165e3a2ebe0>]"
      ]
     },
     "execution_count": 4,
     "metadata": {},
     "output_type": "execute_result"
    }
   ],
   "source": [
    "low_nn_names=[\"low,1684386202\",\"low,1684484716\",\"low,1684557152\",\"low,1684856358\",\"low,1685028503\"]\n",
    "low_strategies =[Strategy(StrategyType.static, NNorFunc=em.myopic, name=\"myopic\"), \n",
    "                    Strategy(StrategyType.static, NNorFunc=em.const, name=\"const\", firstPrice=132), \n",
    "                    Strategy(StrategyType.static, NNorFunc=em.guess, name=\"guess\", firstPrice=132)]+ [create_nn_strategy(name) for name in low_nn_names]\n",
    "low_strategies"
   ]
  },
  {
   "cell_type": "code",
   "execution_count": 5,
   "metadata": {},
   "outputs": [],
   "source": [
    "high_nn_names=[\"high,1684424924\",\"high,1684821735\"]\n",
    "high_strategies =[Strategy(StrategyType.static, NNorFunc=em.myopic, name=\"myopic\"), \n",
    "                    Strategy(StrategyType.static, NNorFunc=em.const, name=\"const\", firstPrice=132), \n",
    "                    Strategy(StrategyType.static, NNorFunc=em.guess, name=\"guess\", firstPrice=132)]+ [create_nn_strategy(name) for name in high_nn_names]"
   ]
  },
  {
   "cell_type": "code",
   "execution_count": null,
   "metadata": {},
   "outputs": [
    {
     "name": "stdout",
     "output_type": "stream",
     "text": [
      "equi: [0.00, 0.00, 0.00, 0.00, 0.00, 0.00, 0.00, 1.00], [0.00, 0.00, 0.00, 1.00, 0.00], 126646.32, 56683.87\n",
      "equi: [0.00, 0.00, 0.94, 0.00, 0.00, 0.00, 0.00, 0.06], [0.51, 0.00, 0.49, 0.00, 0.00], 148436.76, 77525.67\n",
      "Round 0  of  100\n"
     ]
    }
   ],
   "source": [
    "bimatrix_game = BimatrixGame.BimatrixGame(low_strategies, high_strategies)\n",
    "equilibria=BimatrixGame.run_tournament(bimatrix_game=bimatrix_game,number_rounds= 100)"
   ]
  },
  {
   "cell_type": "code",
   "execution_count": null,
   "metadata": {},
   "outputs": [],
   "source": [
    "for strategy in bimatrixGame._strategies_low:\n",
    "    print(strategy._name)"
   ]
  },
  {
   "cell_type": "code",
   "execution_count": null,
   "metadata": {},
   "outputs": [],
   "source": [
    "for strategy in bimatrixGame._strategies_high:\n",
    "    print(strategy._name)"
   ]
  },
  {
   "cell_type": "code",
   "execution_count": null,
   "metadata": {},
   "outputs": [],
   "source": []
  }
 ],
 "metadata": {
  "kernelspec": {
   "display_name": "Python 3 (ipykernel)",
   "language": "python",
   "name": "python3"
  },
  "language_info": {
   "codemirror_mode": {
    "name": "ipython",
    "version": 3
   },
   "file_extension": ".py",
   "mimetype": "text/x-python",
   "name": "python",
   "nbconvert_exporter": "python",
   "pygments_lexer": "ipython3",
   "version": "3.9.12"
  }
 },
 "nbformat": 4,
 "nbformat_minor": 4
}
