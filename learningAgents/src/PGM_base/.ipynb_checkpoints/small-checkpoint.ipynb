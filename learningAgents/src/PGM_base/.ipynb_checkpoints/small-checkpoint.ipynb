{
 "cells": [
  {
   "cell_type": "code",
   "execution_count": 1,
   "metadata": {},
   "outputs": [],
   "source": [
    "from learningBase import ReinforceAlgorithm\n",
    "import environmentModelBase as model\n",
    "from neuralNetworkSimple import NNBase\n",
    "import torch\n",
    "import torch.nn as nn\n",
    "from torch.distributions import Categorical\n",
    "import numpy as np\n",
    "import matplotlib.pyplot as plt"
   ]
  },
  {
   "cell_type": "code",
   "execution_count": 2,
   "metadata": {},
   "outputs": [],
   "source": [
    "const95= model.Strategy(model.StrategyType.static, model.const,name=\"const95\", firstPrice=95 )\n",
    "actionStep=3\n",
    "adv= model.Adversary()\n",
    "adv._strategies.append(const95)\n",
    "adv._strategyProbs=torch.ones(1)\n",
    "game = model.Model(totalDemand = 400, \n",
    "               tupleCosts = (57, 71),\n",
    "              totalStages = 4, adversary=adv, stateAdvHistory=1, actionStep=actionStep)"
   ]
  },
  {
   "cell_type": "code",
   "execution_count": 3,
   "metadata": {},
   "outputs": [],
   "source": [
    "hyperParams=[0.0001, 1, 0]\n",
    "codeParams=[1, 10000, 1, 1]\n"
   ]
  },
  {
   "cell_type": "code",
   "execution_count": 4,
   "metadata": {
    "scrolled": false
   },
   "outputs": [
    {
     "name": "stdout",
     "output_type": "stream",
     "text": [
      "policy reset\n",
      "----------------------------------------\n"
     ]
    },
    {
     "ename": "AttributeError",
     "evalue": "'Model' object has no attribute 'adversaryMode'",
     "output_type": "error",
     "traceback": [
      "\u001b[1;31m---------------------------------------------------------------------------\u001b[0m",
      "\u001b[1;31mAttributeError\u001b[0m                            Traceback (most recent call last)",
      "Input \u001b[1;32mIn [4]\u001b[0m, in \u001b[0;36m<cell line: 5>\u001b[1;34m()\u001b[0m\n\u001b[0;32m      1\u001b[0m neuralNet\u001b[38;5;241m=\u001b[39mNNBase(num_input\u001b[38;5;241m=\u001b[39mgame\u001b[38;5;241m.\u001b[39mT\u001b[38;5;241m+\u001b[39m\u001b[38;5;241m2\u001b[39m\u001b[38;5;241m+\u001b[39mgame\u001b[38;5;241m.\u001b[39mstateAdvHistory, lr\u001b[38;5;241m=\u001b[39mhyperParams[\u001b[38;5;241m0\u001b[39m],num_actions\u001b[38;5;241m=\u001b[39m\u001b[38;5;241m18\u001b[39m,action_step\u001b[38;5;241m=\u001b[39mactionStep)\n\u001b[0;32m      2\u001b[0m algorithm \u001b[38;5;241m=\u001b[39m ReinforceAlgorithm(game, neuralNet, numberIterations\u001b[38;5;241m=\u001b[39m\u001b[38;5;241m2\u001b[39m, numberEpisodes\u001b[38;5;241m=\u001b[39m\u001b[38;5;241m3_000_000\u001b[39m, discountFactor \u001b[38;5;241m=\u001b[39mhyperParams[\u001b[38;5;241m1\u001b[39m])\n\u001b[1;32m----> 5\u001b[0m \u001b[43malgorithm\u001b[49m\u001b[38;5;241;43m.\u001b[39;49m\u001b[43msolver\u001b[49m\u001b[43m(\u001b[49m\u001b[43mprint_step\u001b[49m\u001b[38;5;241;43m=\u001b[39;49m\u001b[38;5;241;43m100_000\u001b[39;49m\u001b[43m,\u001b[49m\u001b[43moptions\u001b[49m\u001b[38;5;241;43m=\u001b[39;49m\u001b[43mcodeParams\u001b[49m\u001b[43m,\u001b[49m\u001b[43mconverge_break\u001b[49m\u001b[38;5;241;43m=\u001b[39;49m\u001b[38;5;28;43;01mTrue\u001b[39;49;00m\u001b[43m)\u001b[49m\n",
      "File \u001b[1;32m~\\Documents\\EquiLearn\\PGM_base\\learningBase.py:104\u001b[0m, in \u001b[0;36mReinforceAlgorithm.solver\u001b[1;34m(self, print_step, options, converge_break)\u001b[0m\n\u001b[0;32m    101\u001b[0m \u001b[38;5;28mself\u001b[39m\u001b[38;5;241m.\u001b[39mloss\u001b[38;5;241m.\u001b[39mappend([])\n\u001b[0;32m    103\u001b[0m \u001b[38;5;28;01mfor\u001b[39;00m stage \u001b[38;5;129;01min\u001b[39;00m \u001b[38;5;28mrange\u001b[39m(\u001b[38;5;28mself\u001b[39m\u001b[38;5;241m.\u001b[39menv\u001b[38;5;241m.\u001b[39mT\u001b[38;5;241m-\u001b[39m\u001b[38;5;241m1\u001b[39m, \u001b[38;5;241m-\u001b[39m\u001b[38;5;241m1\u001b[39m, \u001b[38;5;241m-\u001b[39m\u001b[38;5;241m1\u001b[39m):\n\u001b[1;32m--> 104\u001b[0m     \u001b[38;5;28;43mself\u001b[39;49m\u001b[38;5;241;43m.\u001b[39;49m\u001b[43mlearn_stage_onwards\u001b[49m\u001b[43m(\u001b[49m\u001b[38;5;28;43miter\u001b[39;49m\u001b[43m,\u001b[49m\u001b[43mstage\u001b[49m\u001b[38;5;241;43m=\u001b[39;49m\u001b[43mstage\u001b[49m\u001b[43m,\u001b[49m\u001b[43m \u001b[49m\u001b[43mepisodes\u001b[49m\u001b[38;5;241;43m=\u001b[39;49m\u001b[38;5;28;43mint\u001b[39;49m\u001b[43m(\u001b[49m\u001b[38;5;28;43mself\u001b[39;49m\u001b[38;5;241;43m.\u001b[39;49m\u001b[43mnumberEpisodes\u001b[49m\u001b[38;5;241;43m/\u001b[39;49m\u001b[38;5;28;43mself\u001b[39;49m\u001b[38;5;241;43m.\u001b[39;49m\u001b[43menv\u001b[49m\u001b[38;5;241;43m.\u001b[39;49m\u001b[43mT\u001b[49m\u001b[43m)\u001b[49m\u001b[43m,\u001b[49m\u001b[43m \u001b[49m\u001b[43mprint_step\u001b[49m\u001b[38;5;241;43m=\u001b[39;49m\u001b[43mprint_step\u001b[49m\u001b[43m,\u001b[49m\u001b[43m \u001b[49m\u001b[43moptions\u001b[49m\u001b[38;5;241;43m=\u001b[39;49m\u001b[43moptions\u001b[49m\u001b[43m,\u001b[49m\n\u001b[0;32m    105\u001b[0m \u001b[43m                    \u001b[49m\u001b[43mprob_break_limit_ln\u001b[49m\u001b[38;5;241;43m=\u001b[39;49m\u001b[43m(\u001b[49m\u001b[38;5;28;43mself\u001b[39;49m\u001b[38;5;241;43m.\u001b[39;49m\u001b[43mprobBreakLn\u001b[49m\u001b[43m \u001b[49m\u001b[38;5;28;43;01mif\u001b[39;49;00m\u001b[43m \u001b[49m\u001b[43mconverge_break\u001b[49m\u001b[43m \u001b[49m\u001b[38;5;28;43;01melse\u001b[39;49;00m\u001b[43m \u001b[49m\u001b[38;5;28;43;01mNone\u001b[39;49;00m\u001b[43m)\u001b[49m\u001b[43m,\u001b[49m\u001b[43m \u001b[49m\u001b[43mwrite_save\u001b[49m\u001b[38;5;241;43m=\u001b[39;49m\u001b[38;5;28;43;01mTrue\u001b[39;49;00m\u001b[43m \u001b[49m\u001b[38;5;28;43;01mif\u001b[39;49;00m\u001b[43m \u001b[49m\u001b[43mstage\u001b[49m\u001b[38;5;241;43m==\u001b[39;49m\u001b[38;5;241;43m0\u001b[39;49m\u001b[43m \u001b[49m\u001b[38;5;28;43;01melse\u001b[39;49;00m\u001b[43m \u001b[49m\u001b[38;5;28;43;01mFalse\u001b[39;49;00m\u001b[43m)\u001b[49m\n\u001b[0;32m    107\u001b[0m axs[\u001b[38;5;28miter\u001b[39m][\u001b[38;5;241m0\u001b[39m]\u001b[38;5;241m.\u001b[39mscatter(\u001b[38;5;28mrange\u001b[39m(\u001b[38;5;28mlen\u001b[39m(\u001b[38;5;28mself\u001b[39m\u001b[38;5;241m.\u001b[39mreturns[\u001b[38;5;28miter\u001b[39m])), \u001b[38;5;28mself\u001b[39m\u001b[38;5;241m.\u001b[39mreturns[\u001b[38;5;28miter\u001b[39m])\n\u001b[0;32m    108\u001b[0m axs[\u001b[38;5;28miter\u001b[39m][\u001b[38;5;241m1\u001b[39m]\u001b[38;5;241m.\u001b[39mscatter(\u001b[38;5;28mrange\u001b[39m(\u001b[38;5;28mlen\u001b[39m(\u001b[38;5;28mself\u001b[39m\u001b[38;5;241m.\u001b[39mloss[\u001b[38;5;28miter\u001b[39m])), \u001b[38;5;28mself\u001b[39m\u001b[38;5;241m.\u001b[39mloss[\u001b[38;5;28miter\u001b[39m])\n",
      "File \u001b[1;32m~\\Documents\\EquiLearn\\PGM_base\\learningBase.py:188\u001b[0m, in \u001b[0;36mReinforceAlgorithm.learn_stage_onwards\u001b[1;34m(self, iter, stage, episodes, print_step, prob_break_limit_ln, options, lr, just_stage, write_save)\u001b[0m\n\u001b[0;32m    184\u001b[0m \u001b[38;5;28;01mif\u001b[39;00m (episode \u001b[38;5;241m%\u001b[39m print_step \u001b[38;5;241m==\u001b[39m (print_step\u001b[38;5;241m-\u001b[39m\u001b[38;5;241m1\u001b[39m)) \u001b[38;5;129;01mor\u001b[39;00m shouldBreak:\n\u001b[0;32m    185\u001b[0m     \u001b[38;5;28mprint\u001b[39m(\u001b[38;5;124m\"\u001b[39m\u001b[38;5;124m-\u001b[39m\u001b[38;5;124m\"\u001b[39m\u001b[38;5;241m*\u001b[39m\u001b[38;5;241m40\u001b[39m)\n\u001b[1;32m--> 188\u001b[0m     \u001b[38;5;28mprint\u001b[39m(\u001b[38;5;124m\"\u001b[39m\u001b[38;5;124miter \u001b[39m\u001b[38;5;124m\"\u001b[39m,\u001b[38;5;28miter\u001b[39m,\u001b[38;5;124m\"\u001b[39m\u001b[38;5;124m stage \u001b[39m\u001b[38;5;124m\"\u001b[39m,stage,\u001b[38;5;124m\"\u001b[39m\u001b[38;5;124m ep \u001b[39m\u001b[38;5;124m\"\u001b[39m,episode, \u001b[38;5;124m\"\u001b[39m\u001b[38;5;124m  adversary: \u001b[39m\u001b[38;5;124m\"\u001b[39m, \u001b[38;5;28;43mself\u001b[39;49m\u001b[38;5;241;43m.\u001b[39;49m\u001b[43menv\u001b[49m\u001b[38;5;241;43m.\u001b[39;49m\u001b[43madversaryMode\u001b[49m)\n\u001b[0;32m    189\u001b[0m     \u001b[38;5;28mprint\u001b[39m(\u001b[38;5;124m\"\u001b[39m\u001b[38;5;124m  actions: \u001b[39m\u001b[38;5;124m\"\u001b[39m, actions)\n\u001b[0;32m    191\u001b[0m     \u001b[38;5;28mprint\u001b[39m(\u001b[38;5;124m\"\u001b[39m\u001b[38;5;124mloss= \u001b[39m\u001b[38;5;124m\"\u001b[39m, loss, \u001b[38;5;124m\"\u001b[39m\u001b[38;5;124m  ,  base rewards=\u001b[39m\u001b[38;5;124m\"\u001b[39m,\n\u001b[0;32m    192\u001b[0m           baseRewards, \u001b[38;5;124m\"\u001b[39m\u001b[38;5;124mreturn= \u001b[39m\u001b[38;5;124m\"\u001b[39m, returns)\n",
      "\u001b[1;31mAttributeError\u001b[0m: 'Model' object has no attribute 'adversaryMode'"
     ]
    },
    {
     "data": {
      "image/png": "[encoded data removed]",
      "text/plain": [
       "<Figure size 1080x864 with 4 Axes>"
      ]
     },
     "metadata": {
      "needs_background": "light"
     },
     "output_type": "display_data"
    }
   ],
   "source": [
    "neuralNet=NNBase(num_input=game.T+2+game.stateAdvHistory, lr=hyperParams[0],num_actions=18,action_step=actionStep)\n",
    "algorithm = ReinforceAlgorithm(game, neuralNet, numberIterations=2, numberEpisodes=3_000_000, discountFactor =hyperParams[1])\n",
    "\n",
    "\n",
    "algorithm.solver(print_step=100_000,options=codeParams,converge_break=True)\n"
   ]
  },
  {
   "cell_type": "code",
   "execution_count": null,
   "metadata": {},
   "outputs": [],
   "source": [
    "a=[0]*0"
   ]
  },
  {
   "cell_type": "code",
   "execution_count": null,
   "metadata": {},
   "outputs": [],
   "source": [
    "a"
   ]
  },
  {
   "cell_type": "code",
   "execution_count": null,
   "metadata": {},
   "outputs": [],
   "source": []
  }
 ],
 "metadata": {
  "kernelspec": {
   "display_name": "Python 3 (ipykernel)",
   "language": "python",
   "name": "python3"
  },
  "language_info": {
   "codemirror_mode": {
    "name": "ipython",
    "version": 3
   },
   "file_extension": ".py",
   "mimetype": "text/x-python",
   "name": "python",
   "nbconvert_exporter": "python",
   "pygments_lexer": "ipython3",
   "version": "3.9.12"
  }
 },
 "nbformat": 4,
 "nbformat_minor": 4
}
