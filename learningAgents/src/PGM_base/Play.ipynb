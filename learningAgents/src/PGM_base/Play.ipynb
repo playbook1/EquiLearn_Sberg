{
 "cells": [
  {
   "cell_type": "code",
   "execution_count": 1,
   "metadata": {},
   "outputs": [],
   "source": [
    "import BimatrixGame as BG\n",
    "import globals as gl\n",
    "import torch\n",
    "import numpy as np\n",
    "from environmentModelBase import Model, MixedStrategy, Strategy, StrategyType\n",
    "import environmentModelBase as em\n",
    "from learningBase import ReinforceAlgorithm\n",
    "from neuralNetworkSimple import NNBase\n"
   ]
  },
  {
   "cell_type": "code",
   "execution_count": 2,
   "metadata": {},
   "outputs": [],
   "source": [
    "np.random.seed(0)\n",
    "gl.initialize()"
   ]
  },
  {
   "cell_type": "code",
   "execution_count": null,
   "metadata": {},
   "outputs": [
    {
     "name": "stderr",
     "output_type": "stream",
     "text": [
      "C:\\Users\\sjaha\\Documents\\EquiLearn\\PGM_base\\environmentModelBase.py:344: UserWarning: To copy construct from a tensor, it is recommended to use sourceTensor.clone().detach() or sourceTensor.clone().detach().requires_grad_(True), rather than torch.tensor(sourceTensor).\n",
      "  adversaryDist = Categorical(torch.tensor(self._strategyProbs))\n"
     ]
    },
    {
     "name": "stdout",
     "output_type": "stream",
     "text": [
      "Round 0  of  200\n",
      "equi:  [0, 0, 1.0] [1.0, 0, 0] 154997.57716342332 79665.90160926129\n"
     ]
    }
   ],
   "source": [
    "number_rounds=200\n",
    "\n",
    "\n",
    "equilibria = []\n",
    "low_cost_players = [Strategy(StrategyType.static, NNorFunc=em.myopic, name=\"myopic\"), Strategy(\n",
    "    StrategyType.static, NNorFunc=em.const, name=\"const\", firstPrice=132), Strategy(StrategyType.static, NNorFunc=em.guess, name=\"guess\", firstPrice=132)]\n",
    "high_cost_players = [Strategy(StrategyType.static, NNorFunc=em.myopic, name=\"myopic\"), Strategy(\n",
    "    StrategyType.static, NNorFunc=em.const, name=\"const\", firstPrice=132), Strategy(StrategyType.static, NNorFunc=em.guess, name=\"guess\", firstPrice=132)]\n",
    "bimatrixGame = BG.BimatrixGame(low_cost_players, high_cost_players)\n",
    "# bimatrixGame.reset_matrix()\n",
    "bimatrixGame.fill_matrix()\n",
    "for round in range(number_rounds):\n",
    "    print(\"Round\", round, \" of \", number_rounds)\n",
    "    update = False\n",
    "\n",
    "    low_cost_probabilities, high_cost_probabilities, low_cost_payoff, high_cost_payoff = bimatrixGame.compute_equilibria()\n",
    "    print(\"equi: \", low_cost_probabilities, high_cost_probabilities,low_cost_payoff, high_cost_payoff)\n",
    "    acceptable, agentPayoffs, advPayoffs, low_cost_player = BG.training([gl.lowCost, gl.highCost], advMixedStrategy=MixedStrategy(\n",
    "            strategiesList=high_cost_players, probablitiesArray=high_cost_probabilities),targetPayoff= low_cost_payoff)\n",
    "    if acceptable:\n",
    "        update = True\n",
    "        low_cost_players.append(low_cost_player)\n",
    "        bimatrixGame.add_low_cost_row(agentPayoffs, advPayoffs)\n",
    "        equilibria.append(\n",
    "            [low_cost_probabilities, high_cost_probabilities, low_cost_payoff, high_cost_payoff])\n",
    "        print(f\"low cost player {low_cost_player._name} added\")\n",
    "\n",
    "        low_cost_probabilities, high_cost_probabilities, low_cost_payoff, high_cost_payoff = bimatrixGame.compute_equilibria()\n",
    "        print(\"equi: \", low_cost_probabilities, high_cost_probabilities,low_cost_payoff, high_cost_payoff)\n",
    "    acceptable, agentPayoffs, advPayoffs, high_cost_player = BG.training(\n",
    "        [gl.highCost, gl.lowCost], advMixedStrategy=MixedStrategy(probablitiesArray= low_cost_probabilities, strategiesList=low_cost_players), targetPayoff= high_cost_payoff)\n",
    "\n",
    "    if acceptable:\n",
    "        update = True\n",
    "        high_cost_players.append(high_cost_player)\n",
    "        bimatrixGame.add_high_cost_col(advPayoffs, agentPayoffs)\n",
    "        equilibria.append(\n",
    "            [low_cost_probabilities, high_cost_probabilities, low_cost_payoff, high_cost_payoff])\n",
    "        print(f\"high cost player {high_cost_player._name} added\")\n",
    "\n",
    "        low_cost_probabilities, high_cost_probabilities, low_cost_payoff, high_cost_payoff = bimatrixGame.compute_equilibria()\n",
    "\n",
    "    if update:\n",
    "        gl.numEpisodes = gl.numEpisodesReset\n",
    "    else:\n",
    "        gl.numEpisodes += 1000"
   ]
  },
  {
   "cell_type": "code",
   "execution_count": null,
   "metadata": {},
   "outputs": [],
   "source": []
  }
 ],
 "metadata": {
  "kernelspec": {
   "display_name": "Python 3 (ipykernel)",
   "language": "python",
   "name": "python3"
  },
  "language_info": {
   "codemirror_mode": {
    "name": "ipython",
    "version": 3
   },
   "file_extension": ".py",
   "mimetype": "text/x-python",
   "name": "python",
   "nbconvert_exporter": "python",
   "pygments_lexer": "ipython3",
   "version": "3.9.12"
  }
 },
 "nbformat": 4,
 "nbformat_minor": 4
}
