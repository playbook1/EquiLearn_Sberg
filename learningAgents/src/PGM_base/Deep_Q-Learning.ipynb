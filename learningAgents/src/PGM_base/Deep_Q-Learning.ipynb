{
 "cells": [
  {
   "cell_type": "code",
   "execution_count": 1,
   "id": "authorized-valve",
   "metadata": {
    "tags": []
   },
   "outputs": [],
   "source": [
    "import random\n",
    "import torch\n",
    "import torch.nn as nn\n",
    "import torch.nn.functional as F\n",
    "import torch.optim as optim\n",
    "import matplotlib.pyplot as plt\n",
    "import numpy as np\n",
    "from collections import deque, namedtuple\n",
    "from environment import Model, AdversaryModes"
   ]
  },
  {
   "cell_type": "code",
   "execution_count": 2,
   "id": "f30716d5",
   "metadata": {},
   "outputs": [
    {
     "data": {
      "text/plain": [
       "<torch._C.Generator at 0x7f8f30962330>"
      ]
     },
     "execution_count": 2,
     "metadata": {},
     "output_type": "execute_result"
    }
   ],
   "source": [
    "total_demand = 400\n",
    "agent_cost = 57\n",
    "adversary_cost = 71 \n",
    "costs = [agent_cost,adversary_cost]\n",
    "total_stages = 25\n",
    "adversary_probabilities=[0]*len(AdversaryModes)\n",
    "adversary_probabilities[0]=1\n",
    "\n",
    "env = Model(total_demand, costs, total_stages, adversary_probabilities)\n",
    "torch.manual_seed(0)"
   ]
  },
  {
   "cell_type": "code",
   "execution_count": 3,
   "id": "8d3611c5",
   "metadata": {},
   "outputs": [],
   "source": [
    "class QNetwork(nn.Module):\n",
    "\n",
    "    def __init__(self, state_size, action_size):\n",
    "        super().__init__() \n",
    "        self.input_layer = nn.Linear(state_size, 200)\n",
    "        self.hidden_layer = nn.Linear(200, 200)\n",
    "        self.output_layer = nn.Linear(200, action_size)\n",
    "        \n",
    "    def forward(self, state):\n",
    "        x = self.input_layer(state)\n",
    "        x = F.relu(x)\n",
    "        x = self.hidden_layer(x)\n",
    "        x = F.relu(x)\n",
    "        x = self.output_layer(x)\n",
    "        return x"
   ]
  },
  {
   "cell_type": "code",
   "execution_count": 4,
   "id": "b2a6a493",
   "metadata": {},
   "outputs": [],
   "source": [
    "BUFFER_SIZE = int(10_000)  # replay buffer size\n",
    "BATCH_SIZE = 64         # minibatch size\n",
    "GAMMA = 1            # discount factor\n",
    "TAU = 0.001              # for soft update of target parameters\n",
    "LR = 0.0005               # learning rate \n",
    "UPDATE_EVERY = 8        # how often to update the network"
   ]
  },
  {
   "cell_type": "code",
   "execution_count": 5,
   "id": "b0612b47",
   "metadata": {},
   "outputs": [],
   "source": [
    "class Agent():\n",
    "\n",
    "    def __init__(self, state_size, action_size):\n",
    "\n",
    "        self.state_size = state_size\n",
    "        self.action_size = action_size\n",
    "\n",
    "        # Q-Network\n",
    "        self.qnetwork_local = QNetwork(state_size, action_size)\n",
    "        self.qnetwork_target = QNetwork(state_size, action_size)\n",
    "        self.optimiser = optim.Adam(self.qnetwork_local.parameters(), lr=LR)\n",
    "\n",
    "        # Replay memory\n",
    "        self.memory = ReplayBuffer(action_size, BUFFER_SIZE, BATCH_SIZE)\n",
    "        # Initialise time step (for updating every UPDATE_EVERY steps)\n",
    "        self.t_step = 0\n",
    "    \n",
    "    def step(self, state, action, reward, next_state, done):\n",
    "        # Save experience in replay memory\n",
    "        self.memory.add(state, action, reward, next_state, done)\n",
    "        \n",
    "        # Learn every UPDATE_EVERY time steps.\n",
    "        self.t_step = (self.t_step + 1) % UPDATE_EVERY\n",
    "        if self.t_step == 0:\n",
    "            # If enough samples are available in memory, get random subset and learn\n",
    "            if len(self.memory) > BATCH_SIZE:\n",
    "                experiences = self.memory.sample()\n",
    "                self.learn(experiences, GAMMA)\n",
    "\n",
    "    def act(self, state, eps):\n",
    "\n",
    "        state = state.float().unsqueeze(0)\n",
    "        self.qnetwork_local.eval()\n",
    "        with torch.no_grad():\n",
    "            action_values = self.qnetwork_local(state)\n",
    "        self.qnetwork_local.train()\n",
    "\n",
    "        # Epsilon-greedy action selection\n",
    "        if random.random() > eps:\n",
    "            return np.argmax(action_values.data.numpy())\n",
    "        else:\n",
    "            return random.choice(np.arange(self.action_size))\n",
    "\n",
    "    def learn(self, experiences, gamma):\n",
    "\n",
    "        states, actions, rewards, next_states, dones = experiences\n",
    "        q_targets_next = self.qnetwork_target(next_states).detach().max(1)[0].unsqueeze(1)\n",
    "        q_targets = rewards + gamma * q_targets_next * (1 - dones)\n",
    "        q_expected = self.qnetwork_local(states).gather(1, actions)\n",
    "        \n",
    "        loss = F.mse_loss(q_expected, q_targets)\n",
    "        self.optimiser.zero_grad()\n",
    "        loss.backward()\n",
    "        self.optimiser.step()\n",
    "\n",
    "        self.soft_update(self.qnetwork_local, self.qnetwork_target, TAU)                     \n",
    "\n",
    "    def soft_update(self, local_model, target_model, tau):\n",
    "        \n",
    "        for target_param, local_param in zip(target_model.parameters(), local_model.parameters()):\n",
    "            target_param.data.copy_(tau*local_param.data + (1.0-tau)*target_param.data)"
   ]
  },
  {
   "cell_type": "code",
   "execution_count": 6,
   "id": "6e60fdc3",
   "metadata": {},
   "outputs": [],
   "source": [
    "class ReplayBuffer:\n",
    "\n",
    "    def __init__(self, action_size, buffer_size, batch_size):\n",
    "\n",
    "        self.action_size = action_size\n",
    "        self.memory = deque(maxlen=buffer_size)  \n",
    "        self.batch_size = batch_size\n",
    "        self.experience = namedtuple(\"Experience\", field_names=[\"state\", \"action\", \"reward\", \"next_state\", \"done\"])\n",
    "    \n",
    "    def add(self, state, action, reward, next_state, done):\n",
    "        \"\"\"Add a new experience to memory.\"\"\"\n",
    "        experience = self.experience(state, action, reward, next_state, done)\n",
    "        self.memory.append(experience)\n",
    "    \n",
    "    def sample(self):\n",
    "        \"\"\"Randomly sample a batch of experiences from memory.\"\"\"\n",
    "        experiences = random.sample(self.memory, k=self.batch_size)\n",
    "\n",
    "        states = torch.from_numpy(np.vstack([experience.state for experience in experiences if experience is not None])).float()\n",
    "        actions = torch.from_numpy(np.vstack([experience.action for experience in experiences if experience is not None])).long()\n",
    "        rewards = torch.from_numpy(np.vstack([experience.reward for experience in experiences if experience is not None])).float()\n",
    "        next_states = torch.from_numpy(np.vstack([experience.next_state for experience in experiences if experience is not None])).float()\n",
    "        dones = torch.from_numpy(np.vstack([experience.done for experience in experiences if experience is not None]).astype(np.uint8)).float()\n",
    "  \n",
    "        return (states, actions, rewards, next_states, dones)\n",
    "\n",
    "    def __len__(self):\n",
    "        \"\"\"Return the current size of internal memory.\"\"\"\n",
    "        return len(self.memory)"
   ]
  },
  {
   "cell_type": "code",
   "execution_count": 7,
   "id": "7bff3bfd",
   "metadata": {},
   "outputs": [
    {
     "name": "stdout",
     "output_type": "stream",
     "text": [
      "Episode 0\tAverage Score: 169671.00\n",
      "Episode 5000\tAverage Score: 165271.83\n",
      "Episode 10000\tAverage Score: 165782.55\n",
      "Episode 15000\tAverage Score: 166931.08\n",
      "Episode 20000\tAverage Score: 167496.04\n",
      "Episode 25000\tAverage Score: 169142.78\n",
      "Episode 30000\tAverage Score: 171067.50\n",
      "Episode 35000\tAverage Score: 171962.95\n",
      "Episode 40000\tAverage Score: 172211.15\n",
      "Episode 45000\tAverage Score: 172176.92\n",
      "Episode 50000\tAverage Score: 173292.13\n",
      "Episode 55000\tAverage Score: 174271.68\n",
      "Episode 60000\tAverage Score: 176350.42\n",
      "Episode 65000\tAverage Score: 177105.63\n",
      "Episode 70000\tAverage Score: 178208.86\n",
      "Episode 75000\tAverage Score: 177706.84\n",
      "Episode 80000\tAverage Score: 177841.97\n",
      "Episode 85000\tAverage Score: 176620.66\n",
      "Episode 90000\tAverage Score: 177956.96\n",
      "Episode 95000\tAverage Score: 177746.00\n",
      "Episode 100000\tAverage Score: 178210.52\n",
      "Episode 105000\tAverage Score: 177339.47\n",
      "Episode 110000\tAverage Score: 177947.92\n",
      "Episode 115000\tAverage Score: 177841.17\n",
      "Episode 120000\tAverage Score: 177980.15\n",
      "Episode 125000\tAverage Score: 177477.03\n",
      "Episode 130000\tAverage Score: 178026.23\n",
      "Episode 135000\tAverage Score: 178510.44\n",
      "Episode 140000\tAverage Score: 178235.72\n",
      "Episode 145000\tAverage Score: 178676.76\n",
      "Episode 150000\tAverage Score: 177196.13\n",
      "Episode 155000\tAverage Score: 176133.93\n",
      "Episode 160000\tAverage Score: 178601.00\n",
      "Episode 165000\tAverage Score: 178233.33\n",
      "Episode 170000\tAverage Score: 177109.69\n",
      "Episode 175000\tAverage Score: 178397.17\n",
      "Episode 180000\tAverage Score: 178324.12\n",
      "Episode 185000\tAverage Score: 178026.06\n",
      "Episode 190000\tAverage Score: 178197.18\n",
      "Episode 195000\tAverage Score: 177351.39\n",
      "Episode 199999\tAverage Score: 178157.79"
     ]
    }
   ],
   "source": [
    "def dqn(number_episodes, eps_start=1.0, eps_end=0.0001, eps_decay=0.99995):\n",
    "\n",
    "    scores = []                        # list containing scores from each episode\n",
    "    scores_window = deque(maxlen=100)  # last 100 scores\n",
    "    eps = eps_start                    # initialise epsilon\n",
    "    best_payoff = 0\n",
    "    best_actions = list()\n",
    "    for episode in range(number_episodes):\n",
    "        state, reward, done = env.reset()\n",
    "        score = 0\n",
    "        actions = list()\n",
    "        while not done:\n",
    "            action = agent.act(state, eps)\n",
    "            actions.append(action)\n",
    "            next_state, reward, done = env.step(action)\n",
    "            agent.step(state, action, reward, next_state, done)\n",
    "            state = next_state\n",
    "            score += reward\n",
    "        scores_window.append(score)       # save most recent score\n",
    "        scores.append(score)              # save most recent score\n",
    "        eps = max(eps_end, eps_decay*eps) # decrease epsilon\n",
    "        if score >= best_payoff:\n",
    "            best_payoff = score\n",
    "            best_actions = actions\n",
    "        print('\\rEpisode {}\\tAverage Score: {:.2f}'.format(episode, np.mean(scores_window)), end=\"\")\n",
    "        if episode % 5000 == 0:\n",
    "            print('\\rEpisode {}\\tAverage Score: {:.2f}'.format(episode, np.mean(scores_window)))\n",
    "    return scores, best_payoff, best_actions\n",
    "\n",
    "agent = Agent(state_size=2, action_size=60)\n",
    "scores, best_payoff, best_actions = dqn(200_000)"
   ]
  },
  {
   "cell_type": "code",
   "execution_count": 8,
   "id": "empirical-friday",
   "metadata": {
    "tags": []
   },
   "outputs": [
    {
     "data": {
      "image/png": "[encoded data removed]",
      "text/plain": [
       "<Figure size 640x480 with 1 Axes>"
      ]
     },
     "metadata": {},
     "output_type": "display_data"
    }
   ],
   "source": [
    "# plot the scores\n",
    "fig = plt.figure()\n",
    "ax = fig.add_subplot(111)\n",
    "plt.plot(np.arange(len(scores)), scores)\n",
    "plt.ylabel('Score')\n",
    "plt.xlabel('Episode #')\n",
    "plt.show()"
   ]
  },
  {
   "cell_type": "code",
   "execution_count": 9,
   "id": "c8a33b90",
   "metadata": {},
   "outputs": [
    {
     "data": {
      "text/plain": [
       "180121"
      ]
     },
     "execution_count": 9,
     "metadata": {},
     "output_type": "execute_result"
    }
   ],
   "source": [
    "best_payoff"
   ]
  },
  {
   "cell_type": "code",
   "execution_count": 10,
   "id": "7d0864cd",
   "metadata": {},
   "outputs": [
    {
     "data": {
      "text/plain": [
       "array([48, 52, 52, 52, 52, 50, 50, 50, 50, 50, 50, 50, 50, 50, 46, 46, 46,\n",
       "       46, 46, 46, 46, 46, 46, 20,  4])"
      ]
     },
     "execution_count": 10,
     "metadata": {},
     "output_type": "execute_result"
    }
   ],
   "source": [
    "np.transpose(best_actions)"
   ]
  },
  {
   "cell_type": "code",
   "execution_count": 12,
   "id": "c75ca275",
   "metadata": {},
   "outputs": [
    {
     "data": {
      "text/plain": [
       "177990.99859985997"
      ]
     },
     "execution_count": 12,
     "metadata": {},
     "output_type": "execute_result"
    }
   ],
   "source": [
    "np.mean(scores[190_000:199_999])"
   ]
  },
  {
   "cell_type": "code",
   "execution_count": 11,
   "id": "8e9ffcee",
   "metadata": {},
   "outputs": [
    {
     "data": {
      "text/plain": [
       "925.9989800259722"
      ]
     },
     "execution_count": 11,
     "metadata": {},
     "output_type": "execute_result"
    }
   ],
   "source": [
    "np.std(scores[190_000:199_999])"
   ]
  },
  {
   "cell_type": "code",
   "execution_count": null,
   "id": "29f8804a",
   "metadata": {},
   "outputs": [],
   "source": []
  }
 ],
 "metadata": {
  "kernelspec": {
   "display_name": "Python 3 (ipykernel)",
   "language": "python",
   "name": "python3"
  },
  "language_info": {
   "codemirror_mode": {
    "name": "ipython",
    "version": 3
   },
   "file_extension": ".py",
   "mimetype": "text/x-python",
   "name": "python",
   "nbconvert_exporter": "python",
   "pygments_lexer": "ipython3",
   "version": "3.9.12"
  }
 },
 "nbformat": 4,
 "nbformat_minor": 5
}
