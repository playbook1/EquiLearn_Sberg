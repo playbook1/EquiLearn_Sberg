{
 "cells": [
  {
   "cell_type": "code",
   "execution_count": 1,
   "metadata": {},
   "outputs": [],
   "source": [
    "from learningActorCritic import ReinforceAlgorithm\n",
    "from environmentModel import Model, AdversaryModes\n",
    "from neuralNetwork import NeuralNetwork\n",
    "import torch\n",
    "import torch.nn as nn\n",
    "from torch.distributions import Categorical"
   ]
  },
  {
   "cell_type": "code",
   "execution_count": 2,
   "metadata": {},
   "outputs": [
    {
     "data": {
      "text/plain": [
       "tensor([0.3333, 0.0000, 0.3333, 0.0000, 0.0000, 0.0000, 0.0000, 0.0000, 0.0000,\n",
       "        0.0000, 0.3333, 0.0000])"
      ]
     },
     "execution_count": 2,
     "metadata": {},
     "output_type": "execute_result"
    }
   ],
   "source": [
    "adversaryProbs=torch.zeros(len(AdversaryModes))\n",
    "adversaryProbs[0]=1/3\n",
    "adversaryProbs[2]=1/3\n",
    "adversaryProbs[10]=1/3\n",
    "game = Model(totalDemand = 400, \n",
    "               tupleCosts = (57, 71),\n",
    "              totalStages = 25, adversaryProbs=adversaryProbs, advHistoryNum=2)\n",
    "adversaryProbs"
   ]
  },
  {
   "cell_type": "code",
   "execution_count": 3,
   "metadata": {},
   "outputs": [
    {
     "data": {
      "text/plain": [
       "(tensor([  0.0000, 200.0000, 128.5000,   0.0000,   0.0000]), 0, False)"
      ]
     },
     "execution_count": 3,
     "metadata": {},
     "output_type": "execute_result"
    }
   ],
   "source": [
    "game.reset()"
   ]
  },
  {
   "cell_type": "code",
   "execution_count": 4,
   "metadata": {},
   "outputs": [
    {
     "data": {
      "text/plain": [
       "135.5"
      ]
     },
     "execution_count": 4,
     "metadata": {},
     "output_type": "execute_result"
    }
   ],
   "source": [
    "game.adversaryChoosePrice()"
   ]
  },
  {
   "cell_type": "code",
   "execution_count": 5,
   "metadata": {},
   "outputs": [],
   "source": [
    "neuralNet=NeuralNetwork(num_input=3+game.advHistoryNum, lr=0.00001)\n",
    "algorithm = ReinforceAlgorithm(game, neuralNet, numberIterations=1, numberEpisodes=5_000_000, discountFactor =0.9)"
   ]
  },
  {
   "cell_type": "code",
   "execution_count": null,
   "metadata": {
    "scrolled": true
   },
   "outputs": [
    {
     "name": "stdout",
     "output_type": "stream",
     "text": [
      "--------------------------------------------------\n",
      "0   adversary:  AdversaryModes.constant_95\n",
      "  actions:  tensor([ 1, 48, 19, 38, 38, 28, 14, 15, 16, 42,  8,  2, 40, 38, 20, 40, 17, 25,\n",
      "        38, 20, 19, 36, 41, 10, 45])\n",
      "loss=  tensor(539.3247, grad_fn=<AddBackward0>)   , actor=  tensor(209.6115, grad_fn=<DivBackward0>)   , critic=  tensor(3297.1318, grad_fn=<SumBackward0>)   , return=  83198.79199274778\n",
      "probs of actions:  tensor([0.0224, 0.0256, 0.0198, 0.0197, 0.0197, 0.0186, 0.0208, 0.0187, 0.0219,\n",
      "        0.0183, 0.0189, 0.0173, 0.0178, 0.0196, 0.0201, 0.0178, 0.0230, 0.0217,\n",
      "        0.0196, 0.0201, 0.0194, 0.0203, 0.0168, 0.0195, 0.0236],\n",
      "       grad_fn=<ExpBackward0>)\n",
      "shouldBreak: False\n",
      "--------------------------------------------------\n",
      "10000   adversary:  AdversaryModes.guess_132\n",
      "  actions:  tensor([ 2, 38, 13,  4, 40, 20, 44, 23,  3,  1, 47, 49, 25, 24,  2, 22,  5, 27,\n",
      "         9, 16, 40, 39, 18, 28, 21])\n",
      "loss=  tensor(27.6274, grad_fn=<AddBackward0>)   , actor=  tensor(-159.7304, grad_fn=<DivBackward0>)   , critic=  tensor(1873.5775, grad_fn=<SumBackward0>)   , return=  26370.911056602232\n",
      "probs of actions:  tensor([0.0169, 0.0197, 0.0198, 0.0200, 0.0179, 0.0198, 0.0234, 0.0201, 0.0219,\n",
      "        0.0196, 0.0215, 0.0222, 0.0220, 0.0196, 0.0178, 0.0184, 0.0192, 0.0211,\n",
      "        0.0214, 0.0215, 0.0177, 0.0210, 0.0175, 0.0184, 0.0171],\n",
      "       grad_fn=<ExpBackward0>)\n",
      "shouldBreak: False\n",
      "--------------------------------------------------\n",
      "20000   adversary:  AdversaryModes.guess_132\n",
      "  actions:  tensor([28, 49, 13,  8, 46, 25, 14, 16, 10, 25, 14, 48, 12, 14, 44, 44, 31, 12,\n",
      "        13, 13, 24,  1, 39, 46, 47])\n",
      "loss=  tensor(40.6222, grad_fn=<AddBackward0>)   , actor=  tensor(-159.3091, grad_fn=<DivBackward0>)   , critic=  tensor(1999.3126, grad_fn=<SumBackward0>)   , return=  41509.8401016716\n",
      "probs of actions:  tensor([0.0198, 0.0208, 0.0198, 0.0182, 0.0198, 0.0221, 0.0221, 0.0224, 0.0201,\n",
      "        0.0224, 0.0224, 0.0270, 0.0195, 0.0225, 0.0235, 0.0235, 0.0190, 0.0196,\n",
      "        0.0198, 0.0198, 0.0201, 0.0189, 0.0207, 0.0205, 0.0213],\n",
      "       grad_fn=<ExpBackward0>)\n",
      "shouldBreak: False\n",
      "--------------------------------------------------\n",
      "30000   adversary:  AdversaryModes.myopic\n",
      "  actions:  tensor([37, 44, 14, 17,  9, 20, 37, 48, 33, 18,  0, 27, 27, 22, 14, 36, 35, 12,\n",
      "         4, 16, 16, 36, 24, 46, 15])\n",
      "loss=  tensor(580.8849, grad_fn=<AddBackward0>)   , actor=  tensor(185.3376, grad_fn=<DivBackward0>)   , critic=  tensor(3955.4736, grad_fn=<SumBackward0>)   , return=  165886.84302047515\n",
      "probs of actions:  tensor([0.0181, 0.0225, 0.0214, 0.0242, 0.0214, 0.0199, 0.0175, 0.0259, 0.0217,\n",
      "        0.0183, 0.0178, 0.0225, 0.0225, 0.0191, 0.0222, 0.0205, 0.0204, 0.0194,\n",
      "        0.0181, 0.0225, 0.0225, 0.0206, 0.0202, 0.0207, 0.0190],\n",
      "       grad_fn=<ExpBackward0>)\n",
      "shouldBreak: False\n"
     ]
    }
   ],
   "source": [
    "algorithm.solver()"
   ]
  },
  {
   "cell_type": "code",
   "execution_count": null,
   "metadata": {},
   "outputs": [],
   "source": [
    "advModeNames=\"\"\n",
    "for i in range(len(adversaryProbs)):\n",
    "    if adversaryProbs[i]!=0:\n",
    "        tmp=\"{:.1f}\".format(adversaryProbs[i])\n",
    "        advModeNames+=f\"{(AdversaryModes(i)).name}-{tmp}-\"\n",
    "    \n",
    "name=f\"ep {algorithm.numberEpisodes}, {advModeNames}, {game.advHistoryNum} hist, {neuralNet.lr} lr\"\n",
    "neuralNet.save(name=name)"
   ]
  },
  {
   "cell_type": "code",
   "execution_count": null,
   "metadata": {},
   "outputs": [],
   "source": [
    "import pandas as pd\n",
    "profits = pd.DataFrame(game.profit).T\n",
    "prices = pd.DataFrame(game.prices).T\n",
    "demandPotential = pd.DataFrame(game.demandPotential).T\n",
    "learning = pd.DataFrame(algorithm.returns[0],columns=['entry'])\n",
    "loss = pd.DataFrame(algorithm.loss[0],columns=['entry'])\n",
    "loss.plot()"
   ]
  },
  {
   "cell_type": "code",
   "execution_count": null,
   "metadata": {},
   "outputs": [],
   "source": [
    "demandPotential.plot()\n",
    "demandPotential"
   ]
  },
  {
   "cell_type": "code",
   "execution_count": null,
   "metadata": {},
   "outputs": [],
   "source": [
    "profits.sum(axis=0)"
   ]
  },
  {
   "cell_type": "code",
   "execution_count": null,
   "metadata": {},
   "outputs": [],
   "source": [
    "profits.plot()\n",
    "profits\n"
   ]
  },
  {
   "cell_type": "code",
   "execution_count": null,
   "metadata": {
    "scrolled": false
   },
   "outputs": [],
   "source": [
    "prices.plot()\n",
    "prices"
   ]
  },
  {
   "cell_type": "code",
   "execution_count": null,
   "metadata": {},
   "outputs": [],
   "source": [
    "learning.plot()"
   ]
  },
  {
   "cell_type": "code",
   "execution_count": null,
   "metadata": {},
   "outputs": [],
   "source": [
    "# pricelearning = pd.DataFrame(game.prices.mean(axis = 0))\n",
    "# pricelearning.plot()"
   ]
  },
  {
   "cell_type": "code",
   "execution_count": null,
   "metadata": {},
   "outputs": [],
   "source": [
    "import numpy as np\n",
    "import matplotlib.pyplot as plt"
   ]
  },
  {
   "cell_type": "code",
   "execution_count": null,
   "metadata": {},
   "outputs": [],
   "source": [
    "learning = learning.to_numpy()\n",
    "learning_2 = [0]*len(learning)\n",
    "for i in range(len(learning)):\n",
    "    learning_2[i] = learning[i][0]"
   ]
  },
  {
   "cell_type": "code",
   "execution_count": null,
   "metadata": {},
   "outputs": [],
   "source": [
    "avg_learning = np.convolve(learning_2, np.ones(1000)/1000, mode = 'valid')"
   ]
  },
  {
   "cell_type": "code",
   "execution_count": null,
   "metadata": {},
   "outputs": [],
   "source": [
    "plt.plot(avg_learning)\n",
    "plt.show()"
   ]
  },
  {
   "cell_type": "code",
   "execution_count": null,
   "metadata": {},
   "outputs": [],
   "source": []
  }
 ],
 "metadata": {
  "kernelspec": {
   "display_name": "Python 3 (ipykernel)",
   "language": "python",
   "name": "python3"
  },
  "language_info": {
   "codemirror_mode": {
    "name": "ipython",
    "version": 3
   },
   "file_extension": ".py",
   "mimetype": "text/x-python",
   "name": "python",
   "nbconvert_exporter": "python",
   "pygments_lexer": "ipython3",
   "version": "3.9.12"
  }
 },
 "nbformat": 4,
 "nbformat_minor": 4
}
