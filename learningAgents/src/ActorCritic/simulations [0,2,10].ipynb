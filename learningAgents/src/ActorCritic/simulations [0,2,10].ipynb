{
 "cells": [
  {
   "cell_type": "code",
   "execution_count": 1,
   "metadata": {},
   "outputs": [],
   "source": [
    "from learningActorCritic import ReinforceAlgorithm\n",
    "from environmentModel import Model, AdversaryModes\n",
    "from neuralNetwork import NeuralNetwork\n",
    "import torch\n",
    "import torch.nn as nn\n",
    "from torch.distributions import Categorical"
   ]
  },
  {
   "cell_type": "code",
   "execution_count": 2,
   "metadata": {},
   "outputs": [
    {
     "data": {
      "text/plain": [
       "tensor([0.3333, 0.0000, 0.3333, 0.0000, 0.0000, 0.0000, 0.0000, 0.0000, 0.0000,\n",
       "        0.0000, 0.3333, 0.0000])"
      ]
     },
     "execution_count": 2,
     "metadata": {},
     "output_type": "execute_result"
    }
   ],
   "source": [
    "adversaryProbs=torch.zeros(len(AdversaryModes))\n",
    "adversaryProbs[0]=1/3\n",
    "adversaryProbs[2]=1/3\n",
    "adversaryProbs[10]=1/3\n",
    "game = Model(totalDemand = 400, \n",
    "               tupleCosts = (57, 71),\n",
    "              totalStages = 25, adversaryProbs=adversaryProbs, advHistoryNum=2)\n",
    "adversaryProbs"
   ]
  },
  {
   "cell_type": "code",
   "execution_count": 3,
   "metadata": {},
   "outputs": [
    {
     "data": {
      "text/plain": [
       "(tensor([  0.0000, 200.0000, 128.5000,   0.0000,   0.0000]), 0, False)"
      ]
     },
     "execution_count": 3,
     "metadata": {},
     "output_type": "execute_result"
    }
   ],
   "source": [
    "game.reset()"
   ]
  },
  {
   "cell_type": "code",
   "execution_count": 4,
   "metadata": {},
   "outputs": [
    {
     "data": {
      "text/plain": [
       "95"
      ]
     },
     "execution_count": 4,
     "metadata": {},
     "output_type": "execute_result"
    }
   ],
   "source": [
    "game.adversaryChoosePrice()"
   ]
  },
  {
   "cell_type": "code",
   "execution_count": 5,
   "metadata": {},
   "outputs": [],
   "source": [
    "neuralNet=NeuralNetwork(num_input=3+game.advHistoryNum, lr=0.0001)\n",
    "algorithm = ReinforceAlgorithm(game, neuralNet, numberIterations=1, numberEpisodes=5_000_000, discountFactor =0.9)"
   ]
  },
  {
   "cell_type": "code",
   "execution_count": 6,
   "metadata": {
    "scrolled": true
   },
   "outputs": [
    {
     "name": "stdout",
     "output_type": "stream",
     "text": [
      "--------------------------------------------------\n",
      "0   adversary:  AdversaryModes.guess_132\n",
      "  actions:  tensor([ 3,  0, 17, 11, 19, 24, 37, 33, 33, 26, 10, 19, 21, 17, 17, 27,  6, 41,\n",
      "        25, 42, 49,  1, 41, 36, 16])\n",
      "loss=  tensor(717.2204, grad_fn=<AddBackward0>)   , actor=  tensor(243.0031, grad_fn=<DivBackward0>)   , critic=  tensor(4742.1733, grad_fn=<SumBackward0>)   , return=  101950.55299710043\n",
      "probs of actions:  tensor([0.0208, 0.0219, 0.0233, 0.0165, 0.0234, 0.0201, 0.0211, 0.0220, 0.0220,\n",
      "        0.0186, 0.0178, 0.0232, 0.0176, 0.0230, 0.0230, 0.0191, 0.0200, 0.0198,\n",
      "        0.0177, 0.0208, 0.0175, 0.0194, 0.0199, 0.0183, 0.0213],\n",
      "       grad_fn=<ExpBackward0>)\n",
      "shouldBreak: False\n",
      "--------------------------------------------------\n",
      "10000   adversary:  AdversaryModes.guess_132\n",
      "  actions:  tensor([38, 23, 14, 48,  2, 17, 37, 23, 13,  1, 30,  1, 26,  2, 46,  6,  8,  6,\n",
      "        48,  6, 46, 32, 19,  0, 26])\n",
      "loss=  tensor(97.8313, grad_fn=<AddBackward0>)   , actor=  tensor(-209.1528, grad_fn=<DivBackward0>)   , critic=  tensor(3069.8416, grad_fn=<SumBackward0>)   , return=  23488.4774284773\n",
      "probs of actions:  tensor([0.0215, 0.0235, 0.0185, 0.0159, 0.0181, 0.0272, 0.0212, 0.0228, 0.0178,\n",
      "        0.0176, 0.0197, 0.0178, 0.0221, 0.0174, 0.0211, 0.0177, 0.0202, 0.0176,\n",
      "        0.0153, 0.0178, 0.0211, 0.0226, 0.0253, 0.0189, 0.0221],\n",
      "       grad_fn=<ExpBackward0>)\n",
      "shouldBreak: False\n",
      "--------------------------------------------------\n",
      "20000   adversary:  AdversaryModes.constant_95\n",
      "  actions:  tensor([ 8, 42, 21, 15, 47, 36,  5, 23, 33, 42, 27, 42, 19, 18, 30, 19, 18, 21,\n",
      "        17, 16, 28, 46, 38, 17, 13])\n",
      "loss=  tensor(20.4730, grad_fn=<AddBackward0>)   , actor=  tensor(-45.3652, grad_fn=<DivBackward0>)   , critic=  tensor(658.3814, grad_fn=<SumBackward0>)   , return=  86712.67142582132\n",
      "probs of actions:  tensor([0.0129, 0.0133, 0.0242, 0.0175, 0.0179, 0.0205, 0.0147, 0.0319, 0.0208,\n",
      "        0.0137, 0.0144, 0.0137, 0.0405, 0.0329, 0.0241, 0.0403, 0.0331, 0.0238,\n",
      "        0.0358, 0.0230, 0.0253, 0.0163, 0.0214, 0.0353, 0.0136],\n",
      "       grad_fn=<ExpBackward0>)\n",
      "shouldBreak: False\n",
      "--------------------------------------------------\n",
      "30000   adversary:  AdversaryModes.constant_95\n",
      "  actions:  tensor([19, 37, 32, 31, 29, 37, 37, 38,  2, 19, 18, 24, 29, 37, 19, 38, 37, 35,\n",
      "        19, 33, 35, 28, 21, 28, 30])\n",
      "loss=  tensor(26.8976, grad_fn=<AddBackward0>)   , actor=  tensor(-33.7222, grad_fn=<DivBackward0>)   , critic=  tensor(606.1981, grad_fn=<SumBackward0>)   , return=  91237.81174905808\n",
      "probs of actions:  tensor([0.0918, 0.0756, 0.0594, 0.0578, 0.0576, 0.0810, 0.0808, 0.0305, 0.0017,\n",
      "        0.0990, 0.0390, 0.0909, 0.0587, 0.0794, 0.0952, 0.0312, 0.0778, 0.0122,\n",
      "        0.0937, 0.0137, 0.0124, 0.0534, 0.0166, 0.0530, 0.0315],\n",
      "       grad_fn=<ExpBackward0>)\n",
      "shouldBreak: False\n",
      "--------------------------------------------------\n",
      "40000   adversary:  AdversaryModes.guess_132\n",
      "  actions:  tensor([46, 32, 45, 37, 32, 16, 24, 24, 28, 29, 24, 37, 24, 37, 24, 37, 24, 19,\n",
      "        32, 29, 19, 24, 18, 32, 28])\n",
      "loss=  tensor(167.8423, grad_fn=<AddBackward0>)   , actor=  tensor(-139.0603, grad_fn=<DivBackward0>)   , critic=  tensor(3069.0261, grad_fn=<SumBackward0>)   , return=  11534.49268968086\n",
      "probs of actions:  tensor([0.0019, 0.0294, 0.0082, 0.0551, 0.0287, 0.0283, 0.1407, 0.1368, 0.1367,\n",
      "        0.0603, 0.1293, 0.0574, 0.1249, 0.0570, 0.1222, 0.0566, 0.1199, 0.1065,\n",
      "        0.0326, 0.0602, 0.1040, 0.1165, 0.0641, 0.0331, 0.1064],\n",
      "       grad_fn=<ExpBackward0>)\n",
      "shouldBreak: False\n",
      "--------------------------------------------------\n",
      "50000   adversary:  AdversaryModes.constant_95\n",
      "  actions:  tensor([22, 28, 28, 28, 28, 22, 28, 22, 19, 28, 28, 19, 28, 28, 19, 22, 19, 28,\n",
      "        28, 19, 28, 19, 22, 24, 29])\n",
      "loss=  tensor(54.0024, grad_fn=<AddBackward0>)   , actor=  tensor(-36.5485, grad_fn=<DivBackward0>)   , critic=  tensor(905.5095, grad_fn=<SumBackward0>)   , return=  86997.3188949405\n",
      "probs of actions:  tensor([0.2264, 0.4877, 0.5238, 0.5238, 0.5228, 0.2233, 0.5191, 0.2239, 0.1041,\n",
      "        0.5075, 0.5009, 0.1072, 0.4922, 0.4846, 0.1104, 0.2266, 0.1122, 0.4647,\n",
      "        0.4577, 0.1147, 0.4511, 0.1160, 0.2266, 0.0296, 0.0368],\n",
      "       grad_fn=<ExpBackward0>)\n",
      "shouldBreak: False\n",
      "--------------------------------------------------\n",
      "60000   adversary:  AdversaryModes.guess_132\n",
      "  actions:  tensor([28, 22, 22, 28, 28, 22, 22, 28, 19, 28, 28, 19, 22, 22, 28, 28, 28, 28,\n",
      "        22, 28, 29, 28, 28, 22, 29])\n",
      "loss=  tensor(132.9879, grad_fn=<AddBackward0>)   , actor=  tensor(-46.8980, grad_fn=<DivBackward0>)   , critic=  tensor(1798.8589, grad_fn=<SumBackward0>)   , return=  64518.7187109095\n",
      "probs of actions:  tensor([0.3462, 0.3919, 0.4008, 0.4046, 0.4072, 0.3953, 0.3935, 0.4094, 0.0822,\n",
      "        0.4066, 0.4041, 0.0853, 0.3803, 0.3780, 0.3913, 0.3875, 0.3845, 0.3816,\n",
      "        0.3703, 0.3764, 0.0732, 0.3698, 0.3673, 0.3635, 0.0758],\n",
      "       grad_fn=<ExpBackward0>)\n",
      "shouldBreak: False\n",
      "--------------------------------------------------\n",
      "70000   adversary:  AdversaryModes.myopic\n",
      "  actions:  tensor([22, 28, 28, 28, 28, 28, 28, 28, 22, 28, 28, 28, 28, 28, 28, 28, 28, 28,\n",
      "        28, 28, 28, 28, 28, 19, 28])\n",
      "loss=  tensor(307.6733, grad_fn=<AddBackward0>)   , actor=  tensor(9.7054, grad_fn=<DivBackward0>)   , critic=  tensor(2979.6790, grad_fn=<SumBackward0>)   , return=  172204.06456676548\n",
      "probs of actions:  tensor([0.1205, 0.8189, 0.8587, 0.8589, 0.8592, 0.8594, 0.8595, 0.8594, 0.0728,\n",
      "        0.8586, 0.8572, 0.8558, 0.8539, 0.8519, 0.8495, 0.8469, 0.8442, 0.8413,\n",
      "        0.8384, 0.8353, 0.8323, 0.8291, 0.8260, 0.0193, 0.8205],\n",
      "       grad_fn=<ExpBackward0>)\n",
      "shouldBreak: False\n",
      "--------------------------------------------------\n",
      "80000   adversary:  AdversaryModes.myopic\n",
      "  actions:  tensor([28, 28, 28, 28, 28, 28, 28, 28, 28, 28, 28, 28, 28, 28, 28, 28, 28, 28,\n",
      "        28, 28, 28, 28, 28, 28, 28])\n",
      "loss=  tensor(332.7245, grad_fn=<AddBackward0>)   , actor=  tensor(0.1050, grad_fn=<DivBackward0>)   , critic=  tensor(3326.1946, grad_fn=<SumBackward0>)   , return=  172603.3335190018\n",
      "probs of actions:  tensor([0.9910, 0.9955, 0.9978, 0.9979, 0.9979, 0.9979, 0.9979, 0.9979, 0.9979,\n",
      "        0.9978, 0.9978, 0.9977, 0.9976, 0.9975, 0.9974, 0.9973, 0.9972, 0.9970,\n",
      "        0.9969, 0.9967, 0.9965, 0.9964, 0.9962, 0.9960, 0.9958],\n",
      "       grad_fn=<ExpBackward0>)\n",
      "shouldBreak: False\n",
      "--------------------------------------------------\n",
      "90000   adversary:  AdversaryModes.constant_95\n",
      "  actions:  tensor([28, 28, 28, 28, 28, 28, 28, 28, 28, 28, 28, 28, 28, 28, 28, 28, 28, 28,\n",
      "        28, 28, 28, 28, 28, 28, 28])\n",
      "loss=  tensor(62.1783, grad_fn=<AddBackward0>)   , actor=  tensor(-0.0641, grad_fn=<DivBackward0>)   , critic=  tensor(622.4248, grad_fn=<SumBackward0>)   , return=  92270.95743178323\n",
      "probs of actions:  tensor([0.9854, 0.9918, 0.9957, 0.9959, 0.9960, 0.9961, 0.9961, 0.9960, 0.9959,\n",
      "        0.9958, 0.9956, 0.9954, 0.9952, 0.9949, 0.9946, 0.9943, 0.9940, 0.9937,\n",
      "        0.9933, 0.9930, 0.9926, 0.9922, 0.9918, 0.9914, 0.9910],\n",
      "       grad_fn=<ExpBackward0>)\n",
      "shouldBreak: False\n",
      "--------------------------------------------------\n",
      "100000   adversary:  AdversaryModes.guess_132\n",
      "  actions:  tensor([28, 28, 28, 28, 28, 28, 28, 28, 28, 28, 28, 28, 28, 28, 28, 28, 28, 28,\n",
      "        28, 28, 28, 28, 28, 28, 28])\n",
      "loss=  tensor(164.2230, grad_fn=<AddBackward0>)   , actor=  tensor(-0.2165, grad_fn=<DivBackward0>)   , critic=  tensor(1644.3943, grad_fn=<SumBackward0>)   , return=  67918.99934306632\n",
      "probs of actions:  tensor([0.9907, 0.9941, 0.9967, 0.9966, 0.9967, 0.9967, 0.9966, 0.9965, 0.9963,\n",
      "        0.9961, 0.9958, 0.9955, 0.9953, 0.9950, 0.9946, 0.9943, 0.9939, 0.9936,\n",
      "        0.9932, 0.9927, 0.9923, 0.9919, 0.9915, 0.9910, 0.9906],\n",
      "       grad_fn=<ExpBackward0>)\n",
      "shouldBreak: False\n",
      "--------------------------------------------------\n",
      "110000   adversary:  AdversaryModes.myopic\n",
      "  actions:  tensor([28, 28, 28, 28, 28, 28, 28, 28, 28, 28, 28, 28, 28, 28, 26, 28, 28, 28,\n",
      "        28, 28, 28, 28, 28, 28, 28])\n",
      "loss=  tensor(409.8947, grad_fn=<AddBackward0>)   , actor=  tensor(18.5458, grad_fn=<DivBackward0>)   , critic=  tensor(3913.4888, grad_fn=<SumBackward0>)   , return=  172533.8413922184\n",
      "probs of actions:  tensor([9.6612e-01, 9.7801e-01, 9.8760e-01, 9.8784e-01, 9.8804e-01, 9.8817e-01,\n",
      "        9.8822e-01, 9.8811e-01, 9.8791e-01, 9.8764e-01, 9.8728e-01, 9.8685e-01,\n",
      "        9.8640e-01, 9.8588e-01, 1.5069e-04, 9.8472e-01, 9.8396e-01, 9.8326e-01,\n",
      "        9.8248e-01, 9.8167e-01, 9.8082e-01, 9.7993e-01, 9.7901e-01, 9.7807e-01,\n",
      "        9.7709e-01], grad_fn=<ExpBackward0>)\n",
      "shouldBreak: False\n"
     ]
    },
    {
     "name": "stdout",
     "output_type": "stream",
     "text": [
      "--------------------------------------------------\n",
      "120000   adversary:  AdversaryModes.guess_132\n",
      "  actions:  tensor([28, 28, 28, 44, 28, 28, 28, 28, 28, 28, 28, 28, 28, 28, 28, 28, 28, 28,\n",
      "        28, 28, 28, 28, 28, 28, 28])\n",
      "loss=  tensor(77.8203, grad_fn=<AddBackward0>)   , actor=  tensor(0.3534, grad_fn=<DivBackward0>)   , critic=  tensor(774.6689, grad_fn=<SumBackward0>)   , return=  68723.20956676225\n",
      "probs of actions:  tensor([9.6758e-01, 9.7788e-01, 9.8639e-01, 7.5353e-04, 9.8556e-01, 9.8645e-01,\n",
      "        9.8631e-01, 9.8595e-01, 9.8540e-01, 9.8480e-01, 9.8400e-01, 9.8306e-01,\n",
      "        9.8206e-01, 9.8098e-01, 9.7982e-01, 9.7861e-01, 9.7734e-01, 9.7604e-01,\n",
      "        9.7469e-01, 9.7332e-01, 9.7192e-01, 9.7051e-01, 9.6908e-01, 9.6764e-01,\n",
      "        9.6618e-01], grad_fn=<ExpBackward0>)\n",
      "shouldBreak: False\n",
      "--------------------------------------------------\n",
      "130000   adversary:  AdversaryModes.myopic\n",
      "  actions:  tensor([28, 28, 28, 24, 28, 24, 28, 28, 28, 28, 28, 28, 28, 28, 28, 24, 28, 28,\n",
      "        28, 28, 28, 28, 28, 28, 28])\n",
      "loss=  tensor(312.1692, grad_fn=<AddBackward0>)   , actor=  tensor(28.4435, grad_fn=<DivBackward0>)   , critic=  tensor(2837.2573, grad_fn=<SumBackward0>)   , return=  172168.3461424557\n",
      "probs of actions:  tensor([0.9175, 0.9367, 0.9555, 0.0200, 0.9569, 0.0199, 0.9564, 0.9554, 0.9546,\n",
      "        0.9535, 0.9523, 0.9511, 0.9497, 0.9482, 0.9466, 0.0240, 0.9435, 0.9412,\n",
      "        0.9394, 0.9373, 0.9353, 0.9332, 0.9312, 0.9290, 0.9269],\n",
      "       grad_fn=<ExpBackward0>)\n",
      "shouldBreak: False\n",
      "--------------------------------------------------\n",
      "140000   adversary:  AdversaryModes.guess_132\n",
      "  actions:  tensor([28, 28, 28, 28, 28, 28, 28, 28, 28, 28, 28, 28, 28, 28, 28, 28, 28, 28,\n",
      "        28, 28, 28, 28, 28, 28, 28])\n",
      "loss=  tensor(128.4633, grad_fn=<AddBackward0>)   , actor=  tensor(-0.0592, grad_fn=<DivBackward0>)   , critic=  tensor(1285.2253, grad_fn=<SumBackward0>)   , return=  67918.99934306632\n",
      "probs of actions:  tensor([0.9958, 0.9977, 0.9988, 0.9988, 0.9988, 0.9989, 0.9989, 0.9988, 0.9988,\n",
      "        0.9987, 0.9986, 0.9986, 0.9985, 0.9983, 0.9982, 0.9981, 0.9980, 0.9978,\n",
      "        0.9977, 0.9975, 0.9973, 0.9972, 0.9970, 0.9968, 0.9967],\n",
      "       grad_fn=<ExpBackward0>)\n",
      "shouldBreak: False\n",
      "--------------------------------------------------\n",
      "150000   adversary:  AdversaryModes.myopic\n",
      "  actions:  tensor([28, 28, 28, 28, 28, 28, 28, 28, 28, 28, 28, 28, 28, 28, 28, 28, 28, 28,\n",
      "        28, 28, 28, 28, 28, 28, 28])\n",
      "loss=  tensor(280.3754, grad_fn=<AddBackward0>)   , actor=  tensor(0.0324, grad_fn=<DivBackward0>)   , critic=  tensor(2803.4292, grad_fn=<SumBackward0>)   , return=  172603.3335190018\n",
      "probs of actions:  tensor([0.9968, 0.9982, 0.9991, 0.9991, 0.9991, 0.9991, 0.9991, 0.9991, 0.9991,\n",
      "        0.9991, 0.9991, 0.9990, 0.9990, 0.9989, 0.9989, 0.9988, 0.9988, 0.9987,\n",
      "        0.9986, 0.9985, 0.9985, 0.9984, 0.9983, 0.9982, 0.9981],\n",
      "       grad_fn=<ExpBackward0>)\n",
      "shouldBreak: False\n",
      "--------------------------------------------------\n",
      "160000   adversary:  AdversaryModes.myopic\n",
      "  actions:  tensor([44, 28, 44, 28, 28, 28, 28, 28, 28, 28, 28, 28, 44, 28, 28, 28, 28, 28,\n",
      "        28, 28, 28, 28, 28, 28, 28])\n",
      "loss=  tensor(321.1606, grad_fn=<AddBackward0>)   , actor=  tensor(29.0940, grad_fn=<DivBackward0>)   , critic=  tensor(2920.6660, grad_fn=<SumBackward0>)   , return=  173377.01473396842\n",
      "probs of actions:  tensor([0.0308, 0.9302, 0.0214, 0.9503, 0.9524, 0.9522, 0.9518, 0.9511, 0.9502,\n",
      "        0.9491, 0.9477, 0.9461, 0.0254, 0.9401, 0.9399, 0.9372, 0.9351, 0.9327,\n",
      "        0.9302, 0.9276, 0.9249, 0.9221, 0.9193, 0.9163, 0.9134],\n",
      "       grad_fn=<ExpBackward0>)\n",
      "shouldBreak: False\n",
      "--------------------------------------------------\n",
      "170000   adversary:  AdversaryModes.myopic\n",
      "  actions:  tensor([28, 28, 28, 28, 28, 28, 28, 28, 28, 28, 28, 28, 28, 28, 28, 28, 28, 28,\n",
      "        28, 28, 28, 28, 28, 28, 28])\n",
      "loss=  tensor(352.2539, grad_fn=<AddBackward0>)   , actor=  tensor(0.1647, grad_fn=<DivBackward0>)   , critic=  tensor(3520.8921, grad_fn=<SumBackward0>)   , return=  172603.3335190018\n",
      "probs of actions:  tensor([0.9899, 0.9940, 0.9966, 0.9967, 0.9967, 0.9967, 0.9967, 0.9966, 0.9966,\n",
      "        0.9965, 0.9963, 0.9962, 0.9960, 0.9958, 0.9956, 0.9954, 0.9952, 0.9949,\n",
      "        0.9947, 0.9944, 0.9941, 0.9938, 0.9935, 0.9931, 0.9928],\n",
      "       grad_fn=<ExpBackward0>)\n",
      "shouldBreak: False\n",
      "--------------------------------------------------\n",
      "178102   adversary:  AdversaryModes.guess_132\n",
      "  actions:  tensor([28, 28, 28, 28, 28, 28, 28, 28, 28, 28, 28, 28, 28, 28, 28, 28, 28, 28,\n",
      "        28, 28, 28, 28, 28, 28, 28])\n",
      "loss=  tensor(88.8568, grad_fn=<AddBackward0>)   , actor=  tensor(-0.0114, grad_fn=<DivBackward0>)   , critic=  tensor(888.6818, grad_fn=<SumBackward0>)   , return=  67918.99934306632\n",
      "probs of actions:  tensor([0.9990, 0.9995, 0.9998, 0.9998, 0.9998, 0.9998, 0.9998, 0.9998, 0.9997,\n",
      "        0.9997, 0.9997, 0.9997, 0.9996, 0.9996, 0.9996, 0.9995, 0.9995, 0.9994,\n",
      "        0.9994, 0.9993, 0.9993, 0.9992, 0.9992, 0.9991, 0.9991],\n",
      "       grad_fn=<ExpBackward0>)\n",
      "shouldBreak: True\n"
     ]
    },
    {
     "data": {
      "image/png": "[encoded data removed]",
      "text/plain": [
       "<Figure size 432x288 with 1 Axes>"
      ]
     },
     "metadata": {
      "needs_background": "light"
     },
     "output_type": "display_data"
    }
   ],
   "source": [
    "algorithm.solver()"
   ]
  },
  {
   "cell_type": "code",
   "execution_count": 7,
   "metadata": {},
   "outputs": [],
   "source": [
    "advModeNames=\"\"\n",
    "for i in range(len(adversaryProbs)):\n",
    "    if adversaryProbs[i]!=0:\n",
    "        tmp=\"{:.1f}\".format(adversaryProbs[i])\n",
    "        advModeNames+=f\"{(AdversaryModes(i)).name}-{tmp}-\"\n",
    "    \n",
    "name=f\"ep {algorithm.numberEpisodes}, {advModeNames}, {game.advHistoryNum} hist, {neuralNet.lr} lr\"\n",
    "neuralNet.save(name=name)"
   ]
  },
  {
   "cell_type": "code",
   "execution_count": 10,
   "metadata": {},
   "outputs": [
    {
     "data": {
      "text/plain": [
       "<AxesSubplot:>"
      ]
     },
     "execution_count": 10,
     "metadata": {},
     "output_type": "execute_result"
    },
    {
     "data": {
      "image/png": "[encoded data removed]",
      "text/plain": [
       "<Figure size 432x288 with 1 Axes>"
      ]
     },
     "metadata": {
      "needs_background": "light"
     },
     "output_type": "display_data"
    }
   ],
   "source": [
    "import pandas as pd\n",
    "profits = pd.DataFrame(game.profit).T\n",
    "prices = pd.DataFrame(game.prices).T\n",
    "demandPotential = pd.DataFrame(game.demandPotential).T\n",
    "learning = pd.DataFrame(algorithm.returns[0],columns=['entry'])\n",
    "loss = pd.DataFrame(algorithm.loss[0],columns=['entry'])\n",
    "loss.plot()"
   ]
  },
  {
   "cell_type": "code",
   "execution_count": 11,
   "metadata": {},
   "outputs": [
    {
     "data": {
      "text/html": [
       "<div>\n",
       "<style scoped>\n",
       "    .dataframe tbody tr th:only-of-type {\n",
       "        vertical-align: middle;\n",
       "    }\n",
       "\n",
       "    .dataframe tbody tr th {\n",
       "        vertical-align: top;\n",
       "    }\n",
       "\n",
       "    .dataframe thead th {\n",
       "        text-align: right;\n",
       "    }\n",
       "</style>\n",
       "<table border=\"1\" class=\"dataframe\">\n",
       "  <thead>\n",
       "    <tr style=\"text-align: right;\">\n",
       "      <th></th>\n",
       "      <th>0</th>\n",
       "      <th>1</th>\n",
       "    </tr>\n",
       "  </thead>\n",
       "  <tbody>\n",
       "    <tr>\n",
       "      <th>0</th>\n",
       "      <td>200.000000</td>\n",
       "      <td>200.000000</td>\n",
       "    </tr>\n",
       "    <tr>\n",
       "      <th>1</th>\n",
       "      <td>215.750000</td>\n",
       "      <td>184.250000</td>\n",
       "    </tr>\n",
       "    <tr>\n",
       "      <th>2</th>\n",
       "      <td>203.062500</td>\n",
       "      <td>196.937500</td>\n",
       "    </tr>\n",
       "    <tr>\n",
       "      <th>3</th>\n",
       "      <td>193.546875</td>\n",
       "      <td>206.453125</td>\n",
       "    </tr>\n",
       "    <tr>\n",
       "      <th>4</th>\n",
       "      <td>186.410156</td>\n",
       "      <td>213.589844</td>\n",
       "    </tr>\n",
       "    <tr>\n",
       "      <th>5</th>\n",
       "      <td>181.057617</td>\n",
       "      <td>218.942383</td>\n",
       "    </tr>\n",
       "    <tr>\n",
       "      <th>6</th>\n",
       "      <td>177.043213</td>\n",
       "      <td>222.956787</td>\n",
       "    </tr>\n",
       "    <tr>\n",
       "      <th>7</th>\n",
       "      <td>174.032410</td>\n",
       "      <td>225.967590</td>\n",
       "    </tr>\n",
       "    <tr>\n",
       "      <th>8</th>\n",
       "      <td>171.774307</td>\n",
       "      <td>228.225693</td>\n",
       "    </tr>\n",
       "    <tr>\n",
       "      <th>9</th>\n",
       "      <td>170.080730</td>\n",
       "      <td>229.919270</td>\n",
       "    </tr>\n",
       "    <tr>\n",
       "      <th>10</th>\n",
       "      <td>168.810548</td>\n",
       "      <td>231.189452</td>\n",
       "    </tr>\n",
       "    <tr>\n",
       "      <th>11</th>\n",
       "      <td>167.857911</td>\n",
       "      <td>232.142089</td>\n",
       "    </tr>\n",
       "    <tr>\n",
       "      <th>12</th>\n",
       "      <td>167.143433</td>\n",
       "      <td>232.856567</td>\n",
       "    </tr>\n",
       "    <tr>\n",
       "      <th>13</th>\n",
       "      <td>166.607575</td>\n",
       "      <td>233.392425</td>\n",
       "    </tr>\n",
       "    <tr>\n",
       "      <th>14</th>\n",
       "      <td>166.205681</td>\n",
       "      <td>233.794319</td>\n",
       "    </tr>\n",
       "    <tr>\n",
       "      <th>15</th>\n",
       "      <td>165.904261</td>\n",
       "      <td>234.095739</td>\n",
       "    </tr>\n",
       "    <tr>\n",
       "      <th>16</th>\n",
       "      <td>165.678196</td>\n",
       "      <td>234.321804</td>\n",
       "    </tr>\n",
       "    <tr>\n",
       "      <th>17</th>\n",
       "      <td>165.508647</td>\n",
       "      <td>234.491353</td>\n",
       "    </tr>\n",
       "    <tr>\n",
       "      <th>18</th>\n",
       "      <td>165.381485</td>\n",
       "      <td>234.618515</td>\n",
       "    </tr>\n",
       "    <tr>\n",
       "      <th>19</th>\n",
       "      <td>165.286114</td>\n",
       "      <td>234.713886</td>\n",
       "    </tr>\n",
       "    <tr>\n",
       "      <th>20</th>\n",
       "      <td>165.214585</td>\n",
       "      <td>234.785415</td>\n",
       "    </tr>\n",
       "    <tr>\n",
       "      <th>21</th>\n",
       "      <td>165.160939</td>\n",
       "      <td>234.839061</td>\n",
       "    </tr>\n",
       "    <tr>\n",
       "      <th>22</th>\n",
       "      <td>165.120704</td>\n",
       "      <td>234.879296</td>\n",
       "    </tr>\n",
       "    <tr>\n",
       "      <th>23</th>\n",
       "      <td>165.090528</td>\n",
       "      <td>234.909472</td>\n",
       "    </tr>\n",
       "    <tr>\n",
       "      <th>24</th>\n",
       "      <td>165.067896</td>\n",
       "      <td>234.932104</td>\n",
       "    </tr>\n",
       "  </tbody>\n",
       "</table>\n",
       "</div>"
      ],
      "text/plain": [
       "             0           1\n",
       "0   200.000000  200.000000\n",
       "1   215.750000  184.250000\n",
       "2   203.062500  196.937500\n",
       "3   193.546875  206.453125\n",
       "4   186.410156  213.589844\n",
       "5   181.057617  218.942383\n",
       "6   177.043213  222.956787\n",
       "7   174.032410  225.967590\n",
       "8   171.774307  228.225693\n",
       "9   170.080730  229.919270\n",
       "10  168.810548  231.189452\n",
       "11  167.857911  232.142089\n",
       "12  167.143433  232.856567\n",
       "13  166.607575  233.392425\n",
       "14  166.205681  233.794319\n",
       "15  165.904261  234.095739\n",
       "16  165.678196  234.321804\n",
       "17  165.508647  234.491353\n",
       "18  165.381485  234.618515\n",
       "19  165.286114  234.713886\n",
       "20  165.214585  234.785415\n",
       "21  165.160939  234.839061\n",
       "22  165.120704  234.879296\n",
       "23  165.090528  234.909472\n",
       "24  165.067896  234.932104"
      ]
     },
     "execution_count": 11,
     "metadata": {},
     "output_type": "execute_result"
    },
    {
     "data": {
      "image/png": "[encoded data removed]",
      "text/plain": [
       "<Figure size 432x288 with 1 Axes>"
      ]
     },
     "metadata": {
      "needs_background": "light"
     },
     "output_type": "display_data"
    }
   ],
   "source": [
    "demandPotential.plot()\n",
    "demandPotential"
   ]
  },
  {
   "cell_type": "code",
   "execution_count": 12,
   "metadata": {},
   "outputs": [
    {
     "data": {
      "text/plain": [
       "0    67918.999343\n",
       "1    50385.692684\n",
       "dtype: float64"
      ]
     },
     "execution_count": 12,
     "metadata": {},
     "output_type": "execute_result"
    }
   ],
   "source": [
    "profits.sum(axis=0)"
   ]
  },
  {
   "cell_type": "code",
   "execution_count": 13,
   "metadata": {},
   "outputs": [
    {
     "data": {
      "text/html": [
       "<div>\n",
       "<style scoped>\n",
       "    .dataframe tbody tr th:only-of-type {\n",
       "        vertical-align: middle;\n",
       "    }\n",
       "\n",
       "    .dataframe tbody tr th {\n",
       "        vertical-align: top;\n",
       "    }\n",
       "\n",
       "    .dataframe thead th {\n",
       "        text-align: right;\n",
       "    }\n",
       "</style>\n",
       "<table border=\"1\" class=\"dataframe\">\n",
       "  <thead>\n",
       "    <tr style=\"text-align: right;\">\n",
       "      <th></th>\n",
       "      <th>0</th>\n",
       "      <th>1</th>\n",
       "    </tr>\n",
       "  </thead>\n",
       "  <tbody>\n",
       "    <tr>\n",
       "      <th>0</th>\n",
       "      <td>4328.250000</td>\n",
       "      <td>4148.000000</td>\n",
       "    </tr>\n",
       "    <tr>\n",
       "      <th>1</th>\n",
       "      <td>5516.390625</td>\n",
       "      <td>1215.000000</td>\n",
       "    </tr>\n",
       "    <tr>\n",
       "      <th>2</th>\n",
       "      <td>4549.563477</td>\n",
       "      <td>1367.250000</td>\n",
       "    </tr>\n",
       "    <tr>\n",
       "      <th>3</th>\n",
       "      <td>3877.262268</td>\n",
       "      <td>1481.437500</td>\n",
       "    </tr>\n",
       "    <tr>\n",
       "      <th>4</th>\n",
       "      <td>3402.747135</td>\n",
       "      <td>1567.078125</td>\n",
       "    </tr>\n",
       "    <tr>\n",
       "      <th>5</th>\n",
       "      <td>3063.573096</td>\n",
       "      <td>1631.308594</td>\n",
       "    </tr>\n",
       "    <tr>\n",
       "      <th>6</th>\n",
       "      <td>2818.593240</td>\n",
       "      <td>1679.481445</td>\n",
       "    </tr>\n",
       "    <tr>\n",
       "      <th>7</th>\n",
       "      <td>2640.146228</td>\n",
       "      <td>1715.611084</td>\n",
       "    </tr>\n",
       "    <tr>\n",
       "      <th>8</th>\n",
       "      <td>2509.285401</td>\n",
       "      <td>1742.708313</td>\n",
       "    </tr>\n",
       "    <tr>\n",
       "      <th>9</th>\n",
       "      <td>2412.812899</td>\n",
       "      <td>1763.031235</td>\n",
       "    </tr>\n",
       "    <tr>\n",
       "      <th>10</th>\n",
       "      <td>2341.399651</td>\n",
       "      <td>1778.273426</td>\n",
       "    </tr>\n",
       "    <tr>\n",
       "      <th>11</th>\n",
       "      <td>2288.369101</td>\n",
       "      <td>1789.705070</td>\n",
       "    </tr>\n",
       "    <tr>\n",
       "      <th>12</th>\n",
       "      <td>2248.893967</td>\n",
       "      <td>1798.278802</td>\n",
       "    </tr>\n",
       "    <tr>\n",
       "      <th>13</th>\n",
       "      <td>2219.455117</td>\n",
       "      <td>1804.709102</td>\n",
       "    </tr>\n",
       "    <tr>\n",
       "      <th>14</th>\n",
       "      <td>2197.470199</td>\n",
       "      <td>1809.531826</td>\n",
       "    </tr>\n",
       "    <tr>\n",
       "      <th>15</th>\n",
       "      <td>2181.034508</td>\n",
       "      <td>1813.148870</td>\n",
       "    </tr>\n",
       "    <tr>\n",
       "      <th>16</th>\n",
       "      <td>2168.737552</td>\n",
       "      <td>1815.861652</td>\n",
       "    </tr>\n",
       "    <tr>\n",
       "      <th>17</th>\n",
       "      <td>2159.531604</td>\n",
       "      <td>1817.896239</td>\n",
       "    </tr>\n",
       "    <tr>\n",
       "      <th>18</th>\n",
       "      <td>2152.636575</td>\n",
       "      <td>1819.422179</td>\n",
       "    </tr>\n",
       "    <tr>\n",
       "      <th>19</th>\n",
       "      <td>2147.470610</td>\n",
       "      <td>1820.566635</td>\n",
       "    </tr>\n",
       "    <tr>\n",
       "      <th>20</th>\n",
       "      <td>2143.599120</td>\n",
       "      <td>1821.424976</td>\n",
       "    </tr>\n",
       "    <tr>\n",
       "      <th>21</th>\n",
       "      <td>2140.697182</td>\n",
       "      <td>1822.068732</td>\n",
       "    </tr>\n",
       "    <tr>\n",
       "      <th>22</th>\n",
       "      <td>2138.521672</td>\n",
       "      <td>1822.551549</td>\n",
       "    </tr>\n",
       "    <tr>\n",
       "      <th>23</th>\n",
       "      <td>2136.890571</td>\n",
       "      <td>1822.913662</td>\n",
       "    </tr>\n",
       "    <tr>\n",
       "      <th>24</th>\n",
       "      <td>2135.667544</td>\n",
       "      <td>6718.433669</td>\n",
       "    </tr>\n",
       "  </tbody>\n",
       "</table>\n",
       "</div>"
      ],
      "text/plain": [
       "              0            1\n",
       "0   4328.250000  4148.000000\n",
       "1   5516.390625  1215.000000\n",
       "2   4549.563477  1367.250000\n",
       "3   3877.262268  1481.437500\n",
       "4   3402.747135  1567.078125\n",
       "5   3063.573096  1631.308594\n",
       "6   2818.593240  1679.481445\n",
       "7   2640.146228  1715.611084\n",
       "8   2509.285401  1742.708313\n",
       "9   2412.812899  1763.031235\n",
       "10  2341.399651  1778.273426\n",
       "11  2288.369101  1789.705070\n",
       "12  2248.893967  1798.278802\n",
       "13  2219.455117  1804.709102\n",
       "14  2197.470199  1809.531826\n",
       "15  2181.034508  1813.148870\n",
       "16  2168.737552  1815.861652\n",
       "17  2159.531604  1817.896239\n",
       "18  2152.636575  1819.422179\n",
       "19  2147.470610  1820.566635\n",
       "20  2143.599120  1821.424976\n",
       "21  2140.697182  1822.068732\n",
       "22  2138.521672  1822.551549\n",
       "23  2136.890571  1822.913662\n",
       "24  2135.667544  6718.433669"
      ]
     },
     "execution_count": 13,
     "metadata": {},
     "output_type": "execute_result"
    },
    {
     "data": {
      "image/png": "[encoded data removed]",
      "text/plain": [
       "<Figure size 432x288 with 1 Axes>"
      ]
     },
     "metadata": {
      "needs_background": "light"
     },
     "output_type": "display_data"
    }
   ],
   "source": [
    "profits.plot()\n",
    "profits\n"
   ]
  },
  {
   "cell_type": "code",
   "execution_count": 14,
   "metadata": {
    "scrolled": false
   },
   "outputs": [
    {
     "data": {
      "text/html": [
       "<div>\n",
       "<style scoped>\n",
       "    .dataframe tbody tr th:only-of-type {\n",
       "        vertical-align: middle;\n",
       "    }\n",
       "\n",
       "    .dataframe tbody tr th {\n",
       "        vertical-align: top;\n",
       "    }\n",
       "\n",
       "    .dataframe thead th {\n",
       "        text-align: right;\n",
       "    }\n",
       "</style>\n",
       "<table border=\"1\" class=\"dataframe\">\n",
       "  <thead>\n",
       "    <tr style=\"text-align: right;\">\n",
       "      <th></th>\n",
       "      <th>0</th>\n",
       "      <th>1</th>\n",
       "    </tr>\n",
       "  </thead>\n",
       "  <tbody>\n",
       "    <tr>\n",
       "      <th>0</th>\n",
       "      <td>100.500000</td>\n",
       "      <td>132.000000</td>\n",
       "    </tr>\n",
       "    <tr>\n",
       "      <th>1</th>\n",
       "      <td>108.375000</td>\n",
       "      <td>83.000000</td>\n",
       "    </tr>\n",
       "    <tr>\n",
       "      <th>2</th>\n",
       "      <td>102.031250</td>\n",
       "      <td>83.000000</td>\n",
       "    </tr>\n",
       "    <tr>\n",
       "      <th>3</th>\n",
       "      <td>97.273438</td>\n",
       "      <td>83.000000</td>\n",
       "    </tr>\n",
       "    <tr>\n",
       "      <th>4</th>\n",
       "      <td>93.705078</td>\n",
       "      <td>83.000000</td>\n",
       "    </tr>\n",
       "    <tr>\n",
       "      <th>5</th>\n",
       "      <td>91.028809</td>\n",
       "      <td>83.000000</td>\n",
       "    </tr>\n",
       "    <tr>\n",
       "      <th>6</th>\n",
       "      <td>89.021606</td>\n",
       "      <td>83.000000</td>\n",
       "    </tr>\n",
       "    <tr>\n",
       "      <th>7</th>\n",
       "      <td>87.516205</td>\n",
       "      <td>83.000000</td>\n",
       "    </tr>\n",
       "    <tr>\n",
       "      <th>8</th>\n",
       "      <td>86.387154</td>\n",
       "      <td>83.000000</td>\n",
       "    </tr>\n",
       "    <tr>\n",
       "      <th>9</th>\n",
       "      <td>85.540365</td>\n",
       "      <td>83.000000</td>\n",
       "    </tr>\n",
       "    <tr>\n",
       "      <th>10</th>\n",
       "      <td>84.905274</td>\n",
       "      <td>83.000000</td>\n",
       "    </tr>\n",
       "    <tr>\n",
       "      <th>11</th>\n",
       "      <td>84.428955</td>\n",
       "      <td>83.000000</td>\n",
       "    </tr>\n",
       "    <tr>\n",
       "      <th>12</th>\n",
       "      <td>84.071717</td>\n",
       "      <td>83.000000</td>\n",
       "    </tr>\n",
       "    <tr>\n",
       "      <th>13</th>\n",
       "      <td>83.803787</td>\n",
       "      <td>83.000000</td>\n",
       "    </tr>\n",
       "    <tr>\n",
       "      <th>14</th>\n",
       "      <td>83.602841</td>\n",
       "      <td>83.000000</td>\n",
       "    </tr>\n",
       "    <tr>\n",
       "      <th>15</th>\n",
       "      <td>83.452130</td>\n",
       "      <td>83.000000</td>\n",
       "    </tr>\n",
       "    <tr>\n",
       "      <th>16</th>\n",
       "      <td>83.339098</td>\n",
       "      <td>83.000000</td>\n",
       "    </tr>\n",
       "    <tr>\n",
       "      <th>17</th>\n",
       "      <td>83.254323</td>\n",
       "      <td>83.000000</td>\n",
       "    </tr>\n",
       "    <tr>\n",
       "      <th>18</th>\n",
       "      <td>83.190743</td>\n",
       "      <td>83.000000</td>\n",
       "    </tr>\n",
       "    <tr>\n",
       "      <th>19</th>\n",
       "      <td>83.143057</td>\n",
       "      <td>83.000000</td>\n",
       "    </tr>\n",
       "    <tr>\n",
       "      <th>20</th>\n",
       "      <td>83.107293</td>\n",
       "      <td>83.000000</td>\n",
       "    </tr>\n",
       "    <tr>\n",
       "      <th>21</th>\n",
       "      <td>83.080470</td>\n",
       "      <td>83.000000</td>\n",
       "    </tr>\n",
       "    <tr>\n",
       "      <th>22</th>\n",
       "      <td>83.060352</td>\n",
       "      <td>83.000000</td>\n",
       "    </tr>\n",
       "    <tr>\n",
       "      <th>23</th>\n",
       "      <td>83.045264</td>\n",
       "      <td>83.000000</td>\n",
       "    </tr>\n",
       "    <tr>\n",
       "      <th>24</th>\n",
       "      <td>83.033948</td>\n",
       "      <td>152.966052</td>\n",
       "    </tr>\n",
       "  </tbody>\n",
       "</table>\n",
       "</div>"
      ],
      "text/plain": [
       "             0           1\n",
       "0   100.500000  132.000000\n",
       "1   108.375000   83.000000\n",
       "2   102.031250   83.000000\n",
       "3    97.273438   83.000000\n",
       "4    93.705078   83.000000\n",
       "5    91.028809   83.000000\n",
       "6    89.021606   83.000000\n",
       "7    87.516205   83.000000\n",
       "8    86.387154   83.000000\n",
       "9    85.540365   83.000000\n",
       "10   84.905274   83.000000\n",
       "11   84.428955   83.000000\n",
       "12   84.071717   83.000000\n",
       "13   83.803787   83.000000\n",
       "14   83.602841   83.000000\n",
       "15   83.452130   83.000000\n",
       "16   83.339098   83.000000\n",
       "17   83.254323   83.000000\n",
       "18   83.190743   83.000000\n",
       "19   83.143057   83.000000\n",
       "20   83.107293   83.000000\n",
       "21   83.080470   83.000000\n",
       "22   83.060352   83.000000\n",
       "23   83.045264   83.000000\n",
       "24   83.033948  152.966052"
      ]
     },
     "execution_count": 14,
     "metadata": {},
     "output_type": "execute_result"
    },
    {
     "data": {
      "image/png": "[encoded data removed]",
      "text/plain": [
       "<Figure size 432x288 with 1 Axes>"
      ]
     },
     "metadata": {
      "needs_background": "light"
     },
     "output_type": "display_data"
    }
   ],
   "source": [
    "prices.plot()\n",
    "prices"
   ]
  },
  {
   "cell_type": "code",
   "execution_count": 15,
   "metadata": {},
   "outputs": [
    {
     "data": {
      "text/plain": [
       "<AxesSubplot:>"
      ]
     },
     "execution_count": 15,
     "metadata": {},
     "output_type": "execute_result"
    },
    {
     "data": {
      "image/png": "[encoded data removed]",
      "text/plain": [
       "<Figure size 432x288 with 1 Axes>"
      ]
     },
     "metadata": {
      "needs_background": "light"
     },
     "output_type": "display_data"
    }
   ],
   "source": [
    "learning.plot()"
   ]
  },
  {
   "cell_type": "code",
   "execution_count": 16,
   "metadata": {},
   "outputs": [],
   "source": [
    "# pricelearning = pd.DataFrame(game.prices.mean(axis = 0))\n",
    "# pricelearning.plot()"
   ]
  },
  {
   "cell_type": "code",
   "execution_count": 17,
   "metadata": {},
   "outputs": [],
   "source": [
    "import numpy as np\n",
    "import matplotlib.pyplot as plt"
   ]
  },
  {
   "cell_type": "code",
   "execution_count": 18,
   "metadata": {},
   "outputs": [],
   "source": [
    "learning = learning.to_numpy()\n",
    "learning_2 = [0]*len(learning)\n",
    "for i in range(len(learning)):\n",
    "    learning_2[i] = learning[i][0]"
   ]
  },
  {
   "cell_type": "code",
   "execution_count": 19,
   "metadata": {},
   "outputs": [],
   "source": [
    "avg_learning = np.convolve(learning_2, np.ones(1000)/1000, mode = 'valid')"
   ]
  },
  {
   "cell_type": "code",
   "execution_count": 20,
   "metadata": {},
   "outputs": [
    {
     "data": {
      "image/png": "[encoded data removed]",
      "text/plain": [
       "<Figure size 432x288 with 1 Axes>"
      ]
     },
     "metadata": {
      "needs_background": "light"
     },
     "output_type": "display_data"
    }
   ],
   "source": [
    "plt.plot(avg_learning)\n",
    "plt.show()"
   ]
  },
  {
   "cell_type": "code",
   "execution_count": null,
   "metadata": {},
   "outputs": [],
   "source": []
  }
 ],
 "metadata": {
  "kernelspec": {
   "display_name": "Python 3 (ipykernel)",
   "language": "python",
   "name": "python3"
  },
  "language_info": {
   "codemirror_mode": {
    "name": "ipython",
    "version": 3
   },
   "file_extension": ".py",
   "mimetype": "text/x-python",
   "name": "python",
   "nbconvert_exporter": "python",
   "pygments_lexer": "ipython3",
   "version": "3.9.12"
  }
 },
 "nbformat": 4,
 "nbformat_minor": 4
}
