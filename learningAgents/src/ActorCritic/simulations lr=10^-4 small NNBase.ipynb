{
 "cells": [
  {
   "cell_type": "code",
   "execution_count": 1,
   "metadata": {},
   "outputs": [],
   "source": [
    "from learningAgentsBase import ReinforceAlgorithm\n",
    "from environmentModel import Model, AdversaryModes\n",
    "from neuralNetwork import NNBase\n",
    "import torch\n",
    "import torch.nn as nn\n",
    "from torch.distributions import Categorical"
   ]
  },
  {
   "cell_type": "code",
   "execution_count": 2,
   "metadata": {},
   "outputs": [
    {
     "data": {
      "text/plain": [
       "tensor([1., 0., 0., 0., 0., 0., 0., 0., 0., 0., 0., 0.])"
      ]
     },
     "execution_count": 2,
     "metadata": {},
     "output_type": "execute_result"
    }
   ],
   "source": [
    "adversaryProbs=torch.zeros(len(AdversaryModes))\n",
    "adversaryProbs[0]=1\n",
    "adversaryProbs[1]=0\n",
    "adversaryProbs[8]=0\n",
    "game = Model(totalDemand = 400, \n",
    "               tupleCosts = (57, 71),\n",
    "              totalStages = 3, adversaryProbs=adversaryProbs, advHistoryNum=0)\n",
    "adversaryProbs"
   ]
  },
  {
   "cell_type": "code",
   "execution_count": 3,
   "metadata": {},
   "outputs": [
    {
     "data": {
      "text/plain": [
       "(tensor([  0.0000, 200.0000, 128.5000]), 0, False)"
      ]
     },
     "execution_count": 3,
     "metadata": {},
     "output_type": "execute_result"
    }
   ],
   "source": [
    "game.reset()"
   ]
  },
  {
   "cell_type": "code",
   "execution_count": 4,
   "metadata": {},
   "outputs": [
    {
     "data": {
      "text/plain": [
       "135.5"
      ]
     },
     "execution_count": 4,
     "metadata": {},
     "output_type": "execute_result"
    }
   ],
   "source": [
    "game.adversaryChoosePrice()"
   ]
  },
  {
   "cell_type": "code",
   "execution_count": 5,
   "metadata": {},
   "outputs": [],
   "source": [
    "neuralNet=NNBase(num_input=3+game.advHistoryNum, lr=0.0001,num_actions=4)\n",
    "algorithm = ReinforceAlgorithm(game, neuralNet, numberIterations=1, numberEpisodes=1000_000, discountFactor =0.9)"
   ]
  },
  {
   "cell_type": "code",
   "execution_count": 6,
   "metadata": {
    "scrolled": true
   },
   "outputs": [
    {
     "name": "stdout",
     "output_type": "stream",
     "text": [
      "--------------------------------------------------\n",
      "0   adversary:  AdversaryModes.myopic\n",
      "  actions:  tensor([1, 1, 1])\n",
      "loss=  tensor(-0., grad_fn=<DivBackward0>)   , return=  16061.75\n",
      "probs of actions:  tensor([0.2575, 0.2566, 0.2574], grad_fn=<ExpBackward0>)\n",
      "shouldBreak: False\n",
      "baseDiscReturns/1000= tensor([0., 0., 0.])\n",
      "meanStageValue=  tensor([14467.2676, 10395.5742,  5549.2500])\n",
      "--------------------------------------------------\n",
      "1000   adversary:  AdversaryModes.myopic\n",
      "  actions:  tensor([3, 3, 3])\n",
      "loss=  tensor(0.0039, grad_fn=<DivBackward0>)   , return=  16223.8125\n",
      "probs of actions:  tensor([0.9221, 0.9263, 0.9314], grad_fn=<ExpBackward0>)\n",
      "shouldBreak: False\n",
      "baseDiscReturns/1000= tensor([0.0517, 0.0608, 0.0400])\n",
      "meanStageValue=  tensor([14551.2285, 10494.4229,  5613.5835])\n",
      "--------------------------------------------------\n",
      "2000   adversary:  AdversaryModes.myopic\n",
      "  actions:  tensor([3, 3, 3])\n",
      "loss=  tensor(0.0003, grad_fn=<DivBackward0>)   , return=  16223.8125\n",
      "probs of actions:  tensor([0.9890, 0.9904, 0.9917], grad_fn=<ExpBackward0>)\n",
      "shouldBreak: False\n",
      "baseDiscReturns/1000= tensor([0.0276, 0.0319, 0.0210])\n",
      "meanStageValue=  tensor([14575.3613, 10523.3203,  5632.5498])\n",
      "--------------------------------------------------\n",
      "3000   adversary:  AdversaryModes.myopic\n",
      "  actions:  tensor([3, 3, 3])\n",
      "loss=  tensor(5.4508e-05, grad_fn=<DivBackward0>)   , return=  16223.8125\n",
      "probs of actions:  tensor([0.9965, 0.9970, 0.9975], grad_fn=<ExpBackward0>)\n",
      "shouldBreak: False\n",
      "baseDiscReturns/1000= tensor([0.0186, 0.0214, 0.0141])\n",
      "meanStageValue=  tensor([14584.3838, 10533.8330,  5639.4556])\n",
      "--------------------------------------------------\n",
      "4000   adversary:  AdversaryModes.myopic\n",
      "  actions:  tensor([3, 3, 3])\n",
      "loss=  tensor(1.8931e-05, grad_fn=<DivBackward0>)   , return=  16223.8125\n",
      "probs of actions:  tensor([0.9983, 0.9986, 0.9989], grad_fn=<ExpBackward0>)\n",
      "shouldBreak: False\n",
      "baseDiscReturns/1000= tensor([0.0137, 0.0159, 0.0105])\n",
      "meanStageValue=  tensor([14589.2217, 10539.3018,  5643.0317])\n",
      "--------------------------------------------------\n",
      "4743   adversary:  AdversaryModes.myopic\n",
      "  actions:  tensor([3, 3, 3])\n",
      "loss=  tensor(9.2166e-06, grad_fn=<DivBackward0>)   , return=  16223.8125\n",
      "probs of actions:  tensor([0.9990, 0.9992, 0.9994], grad_fn=<ExpBackward0>)\n",
      "shouldBreak: True\n",
      "baseDiscReturns/1000= tensor([0.0115, 0.0133, 0.0088])\n",
      "meanStageValue=  tensor([14591.3877, 10541.8730,  5644.7266])\n"
     ]
    },
    {
     "data": {
      "image/png": "[encoded data removed]",
      "text/plain": [
       "<Figure size 432x288 with 1 Axes>"
      ]
     },
     "metadata": {
      "needs_background": "light"
     },
     "output_type": "display_data"
    }
   ],
   "source": [
    "algorithm.solver(print_step=1000)"
   ]
  },
  {
   "cell_type": "code",
   "execution_count": 7,
   "metadata": {},
   "outputs": [],
   "source": [
    "advModeNames=\"\"\n",
    "for i in range(len(adversaryProbs)):\n",
    "    if adversaryProbs[i]!=0:\n",
    "        tmp=\"{:.1f}\".format(adversaryProbs[i])\n",
    "        advModeNames+=f\"{(AdversaryModes(i)).name}-{tmp}-\"\n",
    "    \n",
    "name=f\"ep {algorithm.numberEpisodes}, {advModeNames}, {game.advHistoryNum} hist, {neuralNet.lr} lr\"\n",
    "neuralNet.save(name=name)"
   ]
  },
  {
   "cell_type": "code",
   "execution_count": 10,
   "metadata": {},
   "outputs": [
    {
     "ename": "AttributeError",
     "evalue": "'list' object has no attribute 'mean'",
     "output_type": "error",
     "traceback": [
      "\u001b[1;31m---------------------------------------------------------------------------\u001b[0m",
      "\u001b[1;31mAttributeError\u001b[0m                            Traceback (most recent call last)",
      "Input \u001b[1;32mIn [10]\u001b[0m, in \u001b[0;36m<cell line: 5>\u001b[1;34m()\u001b[0m\n\u001b[0;32m      3\u001b[0m prices \u001b[38;5;241m=\u001b[39m pd\u001b[38;5;241m.\u001b[39mDataFrame(game\u001b[38;5;241m.\u001b[39mprices)\u001b[38;5;241m.\u001b[39mT\n\u001b[0;32m      4\u001b[0m demandPotential \u001b[38;5;241m=\u001b[39m pd\u001b[38;5;241m.\u001b[39mDataFrame(game\u001b[38;5;241m.\u001b[39mdemandPotential)\u001b[38;5;241m.\u001b[39mT\n\u001b[1;32m----> 5\u001b[0m learning \u001b[38;5;241m=\u001b[39m pd\u001b[38;5;241m.\u001b[39mDataFrame(\u001b[43malgorithm\u001b[49m\u001b[38;5;241;43m.\u001b[39;49m\u001b[43mreturns\u001b[49m\u001b[38;5;241;43m.\u001b[39;49m\u001b[43mmean\u001b[49m(axis \u001b[38;5;241m=\u001b[39m \u001b[38;5;241m0\u001b[39m),columns\u001b[38;5;241m=\u001b[39m[\u001b[38;5;124m'\u001b[39m\u001b[38;5;124mentry\u001b[39m\u001b[38;5;124m'\u001b[39m])\n",
      "\u001b[1;31mAttributeError\u001b[0m: 'list' object has no attribute 'mean'"
     ]
    }
   ],
   "source": [
    "import pandas as pd\n",
    "profits = pd.DataFrame(game.profit).T\n",
    "prices = pd.DataFrame(game.prices).T\n",
    "demandPotential = pd.DataFrame(game.demandPotential).T\n",
    "learning = pd.DataFrame(algorithm.returns[0],columns=['entry'])\n",
    "loss=pd.DataFrame(algorithm.loss[0],columns=['entry'])"
   ]
  },
  {
   "cell_type": "code",
   "execution_count": null,
   "metadata": {},
   "outputs": [],
   "source": [
    "loss.plot()"
   ]
  },
  {
   "cell_type": "code",
   "execution_count": null,
   "metadata": {},
   "outputs": [],
   "source": [
    "demandPotential.plot()\n",
    "demandPotential"
   ]
  },
  {
   "cell_type": "code",
   "execution_count": null,
   "metadata": {},
   "outputs": [],
   "source": [
    "profits.sum(axis=0)"
   ]
  },
  {
   "cell_type": "code",
   "execution_count": null,
   "metadata": {},
   "outputs": [],
   "source": [
    "profits.plot()\n",
    "profits\n"
   ]
  },
  {
   "cell_type": "code",
   "execution_count": null,
   "metadata": {
    "scrolled": false
   },
   "outputs": [],
   "source": [
    "prices.plot()\n",
    "prices"
   ]
  },
  {
   "cell_type": "code",
   "execution_count": null,
   "metadata": {},
   "outputs": [],
   "source": [
    "learning.plot()"
   ]
  },
  {
   "cell_type": "code",
   "execution_count": null,
   "metadata": {},
   "outputs": [],
   "source": [
    "# pricelearning = pd.DataFrame(game.prices.mean(axis = 0))\n",
    "# pricelearning.plot()"
   ]
  },
  {
   "cell_type": "code",
   "execution_count": null,
   "metadata": {},
   "outputs": [],
   "source": [
    "import numpy as np\n",
    "import matplotlib.pyplot as plt"
   ]
  },
  {
   "cell_type": "code",
   "execution_count": null,
   "metadata": {},
   "outputs": [],
   "source": [
    "learning = learning.to_numpy()\n",
    "learning_2 = [0]*len(learning)\n",
    "for i in range(len(learning)):\n",
    "    learning_2[i] = learning[i][0]"
   ]
  },
  {
   "cell_type": "code",
   "execution_count": null,
   "metadata": {},
   "outputs": [],
   "source": [
    "avg_learning = np.convolve(learning_2, np.ones(1000)/1000, mode = 'valid')"
   ]
  },
  {
   "cell_type": "code",
   "execution_count": null,
   "metadata": {},
   "outputs": [],
   "source": [
    "plt.plot(avg_learning)\n",
    "plt.show()"
   ]
  },
  {
   "cell_type": "code",
   "execution_count": null,
   "metadata": {},
   "outputs": [],
   "source": []
  }
 ],
 "metadata": {
  "kernelspec": {
   "display_name": "Python 3 (ipykernel)",
   "language": "python",
   "name": "python3"
  },
  "language_info": {
   "codemirror_mode": {
    "name": "ipython",
    "version": 3
   },
   "file_extension": ".py",
   "mimetype": "text/x-python",
   "name": "python",
   "nbconvert_exporter": "python",
   "pygments_lexer": "ipython3",
   "version": "3.9.12"
  }
 },
 "nbformat": 4,
 "nbformat_minor": 4
}
