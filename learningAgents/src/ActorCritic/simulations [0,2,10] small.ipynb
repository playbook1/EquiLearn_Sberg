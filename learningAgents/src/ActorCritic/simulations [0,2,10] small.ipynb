{
 "cells": [
  {
   "cell_type": "code",
   "execution_count": 1,
   "metadata": {},
   "outputs": [],
   "source": [
    "from learningActorCritic import ReinforceAlgorithm\n",
    "from environmentModel import Model, AdversaryModes\n",
    "from neuralNetwork import NeuralNetwork\n",
    "import torch\n",
    "import torch.nn as nn\n",
    "from torch.distributions import Categorical"
   ]
  },
  {
   "cell_type": "code",
   "execution_count": 2,
   "metadata": {},
   "outputs": [
    {
     "data": {
      "text/plain": [
       "tensor([0.3333, 0.0000, 0.3333, 0.0000, 0.0000, 0.0000, 0.0000, 0.0000, 0.0000,\n",
       "        0.0000, 0.3333, 0.0000])"
      ]
     },
     "execution_count": 2,
     "metadata": {},
     "output_type": "execute_result"
    }
   ],
   "source": [
    "adversaryProbs=torch.zeros(len(AdversaryModes))\n",
    "adversaryProbs[0]=1/3\n",
    "adversaryProbs[2]=1/3\n",
    "adversaryProbs[10]=1/3\n",
    "game = Model(totalDemand = 400, \n",
    "               tupleCosts = (57, 71),\n",
    "              totalStages = 3, adversaryProbs=adversaryProbs, advHistoryNum=2)\n",
    "adversaryProbs"
   ]
  },
  {
   "cell_type": "code",
   "execution_count": 3,
   "metadata": {},
   "outputs": [
    {
     "data": {
      "text/plain": [
       "(tensor([  0.0000, 200.0000, 128.5000,   0.0000,   0.0000]), 0, False)"
      ]
     },
     "execution_count": 3,
     "metadata": {},
     "output_type": "execute_result"
    }
   ],
   "source": [
    "game.reset()"
   ]
  },
  {
   "cell_type": "code",
   "execution_count": 4,
   "metadata": {},
   "outputs": [
    {
     "data": {
      "text/plain": [
       "95"
      ]
     },
     "execution_count": 4,
     "metadata": {},
     "output_type": "execute_result"
    }
   ],
   "source": [
    "game.adversaryChoosePrice()"
   ]
  },
  {
   "cell_type": "code",
   "execution_count": 5,
   "metadata": {},
   "outputs": [],
   "source": [
    "neuralNet=NeuralNetwork(num_input=3+game.advHistoryNum, lr=0.0001,num_actions=4)\n",
    "algorithm = ReinforceAlgorithm(game, neuralNet, numberIterations=1, numberEpisodes=1000_000, discountFactor =0.9)"
   ]
  },
  {
   "cell_type": "code",
   "execution_count": 6,
   "metadata": {
    "scrolled": true
   },
   "outputs": [
    {
     "name": "stdout",
     "output_type": "stream",
     "text": [
      "--------------------------------------------------\n",
      "0   adversary:  AdversaryModes.guess_132\n",
      "  actions:  tensor([2, 1, 0])\n",
      "loss=  tensor(5.0887, grad_fn=<AddBackward0>)   , actor=  tensor(4.1567, grad_fn=<DivBackward0>)   , critic=  tensor(9.3190, grad_fn=<SumBackward0>)   , return=  15843.2587890625\n",
      "probs of actions:  tensor([0.2302, 0.2265, 0.2546], grad_fn=<ExpBackward0>)\n",
      "shouldBreak: False\n",
      "--------------------------------------------------\n",
      "10000   adversary:  AdversaryModes.guess_132\n",
      "  actions:  tensor([2, 2, 2])\n",
      "loss=  tensor(0.4109, grad_fn=<AddBackward0>)   , actor=  tensor(0.2885, grad_fn=<DivBackward0>)   , critic=  tensor(1.2234, grad_fn=<SumBackward0>)   , return=  15873.1494140625\n",
      "probs of actions:  tensor([0.2625, 0.2625, 0.2632], grad_fn=<ExpBackward0>)\n",
      "shouldBreak: False\n",
      "--------------------------------------------------\n",
      "20000   adversary:  AdversaryModes.guess_132\n",
      "  actions:  tensor([3, 0, 2])\n",
      "loss=  tensor(0.1549, grad_fn=<AddBackward0>)   , actor=  tensor(0.0327, grad_fn=<DivBackward0>)   , critic=  tensor(1.2219, grad_fn=<SumBackward0>)   , return=  15862.5556640625\n",
      "probs of actions:  tensor([0.4004, 0.1992, 0.2473], grad_fn=<ExpBackward0>)\n",
      "shouldBreak: False\n",
      "--------------------------------------------------\n",
      "30000   adversary:  AdversaryModes.guess_132\n",
      "  actions:  tensor([3, 3, 3])\n",
      "loss=  tensor(0.2224, grad_fn=<AddBackward0>)   , actor=  tensor(0.1014, grad_fn=<DivBackward0>)   , critic=  tensor(1.2105, grad_fn=<SumBackward0>)   , return=  15959.5087890625\n",
      "probs of actions:  tensor([0.5764, 0.5914, 0.5902], grad_fn=<ExpBackward0>)\n",
      "shouldBreak: False\n",
      "--------------------------------------------------\n",
      "40000   adversary:  AdversaryModes.myopic\n",
      "  actions:  tensor([2, 2, 3])\n",
      "loss=  tensor(1.1467, grad_fn=<AddBackward0>)   , actor=  tensor(1.0076, grad_fn=<DivBackward0>)   , critic=  tensor(1.3907, grad_fn=<SumBackward0>)   , return=  16140.578125\n",
      "probs of actions:  tensor([0.2267, 0.1983, 0.6700], grad_fn=<ExpBackward0>)\n",
      "shouldBreak: False\n",
      "--------------------------------------------------\n",
      "50000   adversary:  AdversaryModes.myopic\n",
      "  actions:  tensor([3, 3, 3])\n",
      "loss=  tensor(0.1523, grad_fn=<AddBackward0>)   , actor=  tensor(0.0250, grad_fn=<DivBackward0>)   , critic=  tensor(1.2735, grad_fn=<SumBackward0>)   , return=  16223.8125\n",
      "probs of actions:  tensor([0.9296, 0.9488, 0.9511], grad_fn=<ExpBackward0>)\n",
      "shouldBreak: False\n",
      "--------------------------------------------------\n",
      "60000   adversary:  AdversaryModes.constant_95\n",
      "  actions:  tensor([3, 3, 3])\n",
      "loss=  tensor(0.1035, grad_fn=<AddBackward0>)   , actor=  tensor(-0.0003, grad_fn=<DivBackward0>)   , critic=  tensor(1.0377, grad_fn=<SumBackward0>)   , return=  12547.4150390625\n",
      "probs of actions:  tensor([0.9864, 0.9904, 0.9901], grad_fn=<ExpBackward0>)\n",
      "shouldBreak: False\n",
      "--------------------------------------------------\n",
      "70000   adversary:  AdversaryModes.constant_95\n",
      "  actions:  tensor([3, 3, 3])\n",
      "loss=  tensor(0.1201, grad_fn=<AddBackward0>)   , actor=  tensor(-0.0016, grad_fn=<DivBackward0>)   , critic=  tensor(1.2165, grad_fn=<SumBackward0>)   , return=  12547.4150390625\n",
      "probs of actions:  tensor([0.9945, 0.9960, 0.9957], grad_fn=<ExpBackward0>)\n",
      "shouldBreak: False\n",
      "--------------------------------------------------\n",
      "80000   adversary:  AdversaryModes.myopic\n",
      "  actions:  tensor([3, 3, 3])\n",
      "loss=  tensor(0.1247, grad_fn=<AddBackward0>)   , actor=  tensor(0.0018, grad_fn=<DivBackward0>)   , critic=  tensor(1.2293, grad_fn=<SumBackward0>)   , return=  16223.8125\n",
      "probs of actions:  tensor([0.9882, 0.9901, 0.9893], grad_fn=<ExpBackward0>)\n",
      "shouldBreak: False\n",
      "--------------------------------------------------\n",
      "90000   adversary:  AdversaryModes.myopic\n",
      "  actions:  tensor([3, 3, 3])\n",
      "loss=  tensor(0.1235, grad_fn=<AddBackward0>)   , actor=  tensor(0.0005, grad_fn=<DivBackward0>)   , critic=  tensor(1.2305, grad_fn=<SumBackward0>)   , return=  16223.8125\n",
      "probs of actions:  tensor([0.9936, 0.9938, 0.9926], grad_fn=<ExpBackward0>)\n",
      "shouldBreak: False\n",
      "--------------------------------------------------\n",
      "100000   adversary:  AdversaryModes.guess_132\n",
      "  actions:  tensor([3, 3, 3])\n",
      "loss=  tensor(0.1219, grad_fn=<AddBackward0>)   , actor=  tensor(-9.5021e-05, grad_fn=<DivBackward0>)   , critic=  tensor(1.2196, grad_fn=<SumBackward0>)   , return=  15959.5087890625\n",
      "probs of actions:  tensor([0.9928, 0.9918, 0.9892], grad_fn=<ExpBackward0>)\n",
      "shouldBreak: False\n",
      "--------------------------------------------------\n",
      "110000   adversary:  AdversaryModes.myopic\n",
      "  actions:  tensor([3, 3, 3])\n",
      "loss=  tensor(0.1240, grad_fn=<AddBackward0>)   , actor=  tensor(0.0002, grad_fn=<DivBackward0>)   , critic=  tensor(1.2384, grad_fn=<SumBackward0>)   , return=  16223.8125\n",
      "probs of actions:  tensor([0.9893, 0.9890, 0.9863], grad_fn=<ExpBackward0>)\n",
      "shouldBreak: False\n",
      "--------------------------------------------------\n",
      "120000   adversary:  AdversaryModes.guess_132\n",
      "  actions:  tensor([3, 3, 3])\n",
      "loss=  tensor(0.1147, grad_fn=<AddBackward0>)   , actor=  tensor(-0.0055, grad_fn=<DivBackward0>)   , critic=  tensor(1.2012, grad_fn=<SumBackward0>)   , return=  15959.5087890625\n",
      "probs of actions:  tensor([0.9903, 0.9866, 0.9805], grad_fn=<ExpBackward0>)\n",
      "shouldBreak: False\n",
      "--------------------------------------------------\n",
      "130000   adversary:  AdversaryModes.constant_95\n",
      "  actions:  tensor([3, 3, 3])\n",
      "loss=  tensor(0.1027, grad_fn=<AddBackward0>)   , actor=  tensor(-0.0040, grad_fn=<DivBackward0>)   , critic=  tensor(1.0666, grad_fn=<SumBackward0>)   , return=  12547.4150390625\n",
      "probs of actions:  tensor([0.9957, 0.9935, 0.9891], grad_fn=<ExpBackward0>)\n",
      "shouldBreak: False\n",
      "--------------------------------------------------\n",
      "137806   adversary:  AdversaryModes.myopic\n",
      "  actions:  tensor([3, 3, 3])\n",
      "loss=  tensor(0.1205, grad_fn=<AddBackward0>)   , actor=  tensor(-0.0003, grad_fn=<DivBackward0>)   , critic=  tensor(1.2082, grad_fn=<SumBackward0>)   , return=  16223.8125\n",
      "probs of actions:  tensor([0.9997, 0.9995, 0.9990], grad_fn=<ExpBackward0>)\n",
      "shouldBreak: True\n"
     ]
    },
    {
     "data": {
      "image/png": "[encoded data removed]",
      "text/plain": [
       "<Figure size 432x288 with 1 Axes>"
      ]
     },
     "metadata": {
      "needs_background": "light"
     },
     "output_type": "display_data"
    }
   ],
   "source": [
    "algorithm.solver()"
   ]
  },
  {
   "cell_type": "code",
   "execution_count": 7,
   "metadata": {},
   "outputs": [],
   "source": [
    "advModeNames=\"\"\n",
    "for i in range(len(adversaryProbs)):\n",
    "    if adversaryProbs[i]!=0:\n",
    "        tmp=\"{:.1f}\".format(adversaryProbs[i])\n",
    "        advModeNames+=f\"{(AdversaryModes(i)).name}-{tmp}-\"\n",
    "    \n",
    "name=f\"ep {algorithm.numberEpisodes}, {advModeNames}, {game.advHistoryNum} hist, {neuralNet.lr} lr\"\n",
    "neuralNet.save(name=name)"
   ]
  },
  {
   "cell_type": "code",
   "execution_count": 10,
   "metadata": {},
   "outputs": [],
   "source": [
    "import pandas as pd\n",
    "profits = pd.DataFrame(game.profit).T\n",
    "prices = pd.DataFrame(game.prices).T\n",
    "demandPotential = pd.DataFrame(game.demandPotential).T\n",
    "learning = pd.DataFrame(algorithm.returns[0],columns=['entry'])"
   ]
  },
  {
   "cell_type": "code",
   "execution_count": 11,
   "metadata": {},
   "outputs": [
    {
     "data": {
      "text/plain": [
       "<AxesSubplot:>"
      ]
     },
     "execution_count": 11,
     "metadata": {},
     "output_type": "execute_result"
    },
    {
     "data": {
      "image/png": "[encoded data removed]",
      "text/plain": [
       "<Figure size 432x288 with 1 Axes>"
      ]
     },
     "metadata": {
      "needs_background": "light"
     },
     "output_type": "display_data"
    }
   ],
   "source": [
    "loss = pd.DataFrame(algorithm.loss[0],columns=['entry'])\n",
    "loss.plot()"
   ]
  },
  {
   "cell_type": "code",
   "execution_count": 12,
   "metadata": {},
   "outputs": [
    {
     "data": {
      "text/html": [
       "<div>\n",
       "<style scoped>\n",
       "    .dataframe tbody tr th:only-of-type {\n",
       "        vertical-align: middle;\n",
       "    }\n",
       "\n",
       "    .dataframe tbody tr th {\n",
       "        vertical-align: top;\n",
       "    }\n",
       "\n",
       "    .dataframe thead th {\n",
       "        text-align: right;\n",
       "    }\n",
       "</style>\n",
       "<table border=\"1\" class=\"dataframe\">\n",
       "  <thead>\n",
       "    <tr style=\"text-align: right;\">\n",
       "      <th></th>\n",
       "      <th>0</th>\n",
       "      <th>1</th>\n",
       "    </tr>\n",
       "  </thead>\n",
       "  <tbody>\n",
       "    <tr>\n",
       "      <th>0</th>\n",
       "      <td>200.0</td>\n",
       "      <td>200.0</td>\n",
       "    </tr>\n",
       "    <tr>\n",
       "      <th>1</th>\n",
       "      <td>205.0</td>\n",
       "      <td>195.0</td>\n",
       "    </tr>\n",
       "    <tr>\n",
       "      <th>2</th>\n",
       "      <td>207.5</td>\n",
       "      <td>192.5</td>\n",
       "    </tr>\n",
       "  </tbody>\n",
       "</table>\n",
       "</div>"
      ],
      "text/plain": [
       "       0      1\n",
       "0  200.0  200.0\n",
       "1  205.0  195.0\n",
       "2  207.5  192.5"
      ]
     },
     "execution_count": 12,
     "metadata": {},
     "output_type": "execute_result"
    },
    {
     "data": {
      "image/png": "[encoded data removed]",
      "text/plain": [
       "<Figure size 432x288 with 1 Axes>"
      ]
     },
     "metadata": {
      "needs_background": "light"
     },
     "output_type": "display_data"
    }
   ],
   "source": [
    "demandPotential.plot()\n",
    "demandPotential"
   ]
  },
  {
   "cell_type": "code",
   "execution_count": 13,
   "metadata": {},
   "outputs": [
    {
     "data": {
      "text/plain": [
       "0    16223.8125\n",
       "1    11694.8125\n",
       "dtype: float64"
      ]
     },
     "execution_count": 13,
     "metadata": {},
     "output_type": "execute_result"
    }
   ],
   "source": [
    "profits.sum(axis=0)"
   ]
  },
  {
   "cell_type": "code",
   "execution_count": 14,
   "metadata": {},
   "outputs": [
    {
     "data": {
      "text/html": [
       "<div>\n",
       "<style scoped>\n",
       "    .dataframe tbody tr th:only-of-type {\n",
       "        vertical-align: middle;\n",
       "    }\n",
       "\n",
       "    .dataframe tbody tr th {\n",
       "        vertical-align: top;\n",
       "    }\n",
       "\n",
       "    .dataframe thead th {\n",
       "        text-align: right;\n",
       "    }\n",
       "</style>\n",
       "<table border=\"1\" class=\"dataframe\">\n",
       "  <thead>\n",
       "    <tr style=\"text-align: right;\">\n",
       "      <th></th>\n",
       "      <th>0</th>\n",
       "      <th>1</th>\n",
       "    </tr>\n",
       "  </thead>\n",
       "  <tbody>\n",
       "    <tr>\n",
       "      <th>0</th>\n",
       "      <td>5103.2500</td>\n",
       "      <td>4160.2500</td>\n",
       "    </tr>\n",
       "    <tr>\n",
       "      <th>1</th>\n",
       "      <td>5467.0000</td>\n",
       "      <td>3844.0000</td>\n",
       "    </tr>\n",
       "    <tr>\n",
       "      <th>2</th>\n",
       "      <td>5653.5625</td>\n",
       "      <td>3690.5625</td>\n",
       "    </tr>\n",
       "  </tbody>\n",
       "</table>\n",
       "</div>"
      ],
      "text/plain": [
       "           0          1\n",
       "0  5103.2500  4160.2500\n",
       "1  5467.0000  3844.0000\n",
       "2  5653.5625  3690.5625"
      ]
     },
     "execution_count": 14,
     "metadata": {},
     "output_type": "execute_result"
    },
    {
     "data": {
      "image/png": "[encoded data removed]",
      "text/plain": [
       "<Figure size 432x288 with 1 Axes>"
      ]
     },
     "metadata": {
      "needs_background": "light"
     },
     "output_type": "display_data"
    }
   ],
   "source": [
    "profits.plot()\n",
    "profits\n"
   ]
  },
  {
   "cell_type": "code",
   "execution_count": 15,
   "metadata": {
    "scrolled": false
   },
   "outputs": [
    {
     "data": {
      "text/html": [
       "<div>\n",
       "<style scoped>\n",
       "    .dataframe tbody tr th:only-of-type {\n",
       "        vertical-align: middle;\n",
       "    }\n",
       "\n",
       "    .dataframe tbody tr th {\n",
       "        vertical-align: top;\n",
       "    }\n",
       "\n",
       "    .dataframe thead th {\n",
       "        text-align: right;\n",
       "    }\n",
       "</style>\n",
       "<table border=\"1\" class=\"dataframe\">\n",
       "  <thead>\n",
       "    <tr style=\"text-align: right;\">\n",
       "      <th></th>\n",
       "      <th>0</th>\n",
       "      <th>1</th>\n",
       "    </tr>\n",
       "  </thead>\n",
       "  <tbody>\n",
       "    <tr>\n",
       "      <th>0</th>\n",
       "      <td>125.50</td>\n",
       "      <td>135.50</td>\n",
       "    </tr>\n",
       "    <tr>\n",
       "      <th>1</th>\n",
       "      <td>128.00</td>\n",
       "      <td>133.00</td>\n",
       "    </tr>\n",
       "    <tr>\n",
       "      <th>2</th>\n",
       "      <td>129.25</td>\n",
       "      <td>131.75</td>\n",
       "    </tr>\n",
       "  </tbody>\n",
       "</table>\n",
       "</div>"
      ],
      "text/plain": [
       "        0       1\n",
       "0  125.50  135.50\n",
       "1  128.00  133.00\n",
       "2  129.25  131.75"
      ]
     },
     "execution_count": 15,
     "metadata": {},
     "output_type": "execute_result"
    },
    {
     "data": {
      "image/png": "[encoded data removed]",
      "text/plain": [
       "<Figure size 432x288 with 1 Axes>"
      ]
     },
     "metadata": {
      "needs_background": "light"
     },
     "output_type": "display_data"
    }
   ],
   "source": [
    "prices.plot()\n",
    "prices"
   ]
  },
  {
   "cell_type": "code",
   "execution_count": 16,
   "metadata": {},
   "outputs": [
    {
     "data": {
      "text/plain": [
       "<AxesSubplot:>"
      ]
     },
     "execution_count": 16,
     "metadata": {},
     "output_type": "execute_result"
    },
    {
     "data": {
      "image/png": "[encoded data removed]",
      "text/plain": [
       "<Figure size 432x288 with 1 Axes>"
      ]
     },
     "metadata": {
      "needs_background": "light"
     },
     "output_type": "display_data"
    }
   ],
   "source": [
    "learning.plot()"
   ]
  },
  {
   "cell_type": "code",
   "execution_count": 17,
   "metadata": {},
   "outputs": [],
   "source": [
    "# pricelearning = pd.DataFrame(game.prices.mean(axis = 0))\n",
    "# pricelearning.plot()"
   ]
  },
  {
   "cell_type": "code",
   "execution_count": 18,
   "metadata": {},
   "outputs": [],
   "source": [
    "import numpy as np\n",
    "import matplotlib.pyplot as plt"
   ]
  },
  {
   "cell_type": "code",
   "execution_count": 19,
   "metadata": {},
   "outputs": [],
   "source": [
    "learning = learning.to_numpy()\n",
    "learning_2 = [0]*len(learning)\n",
    "for i in range(len(learning)):\n",
    "    learning_2[i] = learning[i][0]"
   ]
  },
  {
   "cell_type": "code",
   "execution_count": 20,
   "metadata": {},
   "outputs": [],
   "source": [
    "avg_learning = np.convolve(learning_2, np.ones(1000)/1000, mode = 'valid')"
   ]
  },
  {
   "cell_type": "code",
   "execution_count": 21,
   "metadata": {},
   "outputs": [
    {
     "data": {
      "image/png": "[encoded data removed]",
      "text/plain": [
       "<Figure size 432x288 with 1 Axes>"
      ]
     },
     "metadata": {
      "needs_background": "light"
     },
     "output_type": "display_data"
    }
   ],
   "source": [
    "plt.plot(avg_learning)\n",
    "plt.show()"
   ]
  },
  {
   "cell_type": "code",
   "execution_count": null,
   "metadata": {},
   "outputs": [],
   "source": []
  }
 ],
 "metadata": {
  "kernelspec": {
   "display_name": "Python 3 (ipykernel)",
   "language": "python",
   "name": "python3"
  },
  "language_info": {
   "codemirror_mode": {
    "name": "ipython",
    "version": 3
   },
   "file_extension": ".py",
   "mimetype": "text/x-python",
   "name": "python",
   "nbconvert_exporter": "python",
   "pygments_lexer": "ipython3",
   "version": "3.9.12"
  }
 },
 "nbformat": 4,
 "nbformat_minor": 4
}
