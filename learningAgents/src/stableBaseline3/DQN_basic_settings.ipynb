{
 "cells": [
  {
   "cell_type": "code",
   "execution_count": 1,
   "id": "5954e271",
   "metadata": {},
   "outputs": [],
   "source": [
    "from stable_baselines3 import DQN\n",
    "import model\n",
    "import globals as gl\n",
    "import classes as cl"
   ]
  },
  {
   "cell_type": "code",
   "execution_count": 2,
   "id": "69ee6322",
   "metadata": {},
   "outputs": [],
   "source": [
    "gl.initialize()"
   ]
  },
  {
   "cell_type": "code",
   "execution_count": 3,
   "id": "deea5ab9",
   "metadata": {},
   "outputs": [],
   "source": [
    "lrs=[0.00008, 0.0003, 0.0009]"
   ]
  },
  {
   "cell_type": "code",
   "execution_count": null,
   "id": "7a4675fb",
   "metadata": {
    "scrolled": false
   },
   "outputs": [
    {
     "name": "stderr",
     "output_type": "stream",
     "text": [
      "C:\\Users\\sjaha\\Documents\\Anaconda\\lib\\site-packages\\stable_baselines3\\common\\vec_env\\patch_gym.py:49: UserWarning: You provided an OpenAI Gym environment. We strongly recommend transitioning to Gymnasium environments. Stable-Baselines3 is automatically wrapping your environments in a compatibility layer, which could potentially cause issues.\n",
      "  warnings.warn(\n",
      "C:\\Users\\sjaha\\Documents\\Anaconda\\lib\\site-packages\\scipy\\__init__.py:146: UserWarning: A NumPy version >=1.16.5 and <1.23.0 is required for this version of SciPy (detected version 1.24.3\n",
      "  warnings.warn(f\"A NumPy version >={np_minversion} and <{np_maxversion}\"\n",
      "C:\\Users\\sjaha\\Documents\\Anaconda\\lib\\site-packages\\stable_baselines3\\common\\vec_env\\patch_gym.py:49: UserWarning: You provided an OpenAI Gym environment. We strongly recommend transitioning to Gymnasium environments. Stable-Baselines3 is automatically wrapping your environments in a compatibility layer, which could potentially cause issues.\n",
      "  warnings.warn(\n"
     ]
    }
   ],
   "source": [
    "costs=[gl.LOW_COST, gl.HIGH_COST]\n",
    "adv_mixed_strategy = cl.MixedStrategy(strategiesList=[cl.Strategy(\n",
    "        cl.StrategyType.static, NNorFunc=cl.myopic, name=\"myopic\")], probablitiesArray=[1])\n",
    "for lr in lrs:\n",
    "    for _ in range(2):\n",
    "        model.train_agent(costs=costs, adv_mixed_strategy=adv_mixed_strategy, model= DQN, model_name=\"DQN\", timesteps= 500_000, num_timesteps=20, lr=lr)\n",
    "\n"
   ]
  },
  {
   "cell_type": "code",
   "execution_count": null,
   "id": "aa74fbd6",
   "metadata": {},
   "outputs": [],
   "source": []
  }
 ],
 "metadata": {
  "kernelspec": {
   "display_name": "Python 3 (ipykernel)",
   "language": "python",
   "name": "python3"
  },
  "language_info": {
   "codemirror_mode": {
    "name": "ipython",
    "version": 3
   },
   "file_extension": ".py",
   "mimetype": "text/x-python",
   "name": "python",
   "nbconvert_exporter": "python",
   "pygments_lexer": "ipython3",
   "version": "3.9.12"
  }
 },
 "nbformat": 4,
 "nbformat_minor": 5
}
