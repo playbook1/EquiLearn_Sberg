{
 "cells": [
  {
   "cell_type": "code",
   "execution_count": 1,
   "metadata": {},
   "outputs": [],
   "source": [
    "import BimatrixGame\n",
    "import globals as gl\n",
    "from environmentModelBase import Model\n",
    "from learningBase import ReinforceAlgorithm, MixedStrategy, Strategy, StrategyType\n",
    "from neuralNetworkSimple import NNBase\n",
    "import numpy as np\n"
   ]
  },
  {
   "cell_type": "code",
   "execution_count": 2,
   "metadata": {},
   "outputs": [],
   "source": [
    "np.random.seed(0)\n",
    "gl.initialize()"
   ]
  },
  {
   "cell_type": "code",
   "execution_count": null,
   "metadata": {},
   "outputs": [],
   "source": [
    "def create_nn_strategy(name):\n",
    "    nn=NNBase(num_input=gl.total_stages+2+gl.num_adv_history,lr=gl.lr, num_actions=gl.num_actions)\n",
    "    nn.load(name)\n",
    "    return Strategy(StrategyType.neural_net,NNorFunc=neural_net, name=name)"
   ]
  },
  {
   "cell_type": "code",
   "execution_count": null,
   "metadata": {},
   "outputs": [],
   "source": [
    "low_nn_names=[\"low,1684386202\",\"low,1684484716\",\"low,1684557152\",\"low,1684856358\",\"low,1685028503\"]\n",
    "low_strategies = [create_nn_strategy(name) for name in low_nn_names]\n",
    "    \n",
    "    "
   ]
  },
  {
   "cell_type": "code",
   "execution_count": null,
   "metadata": {},
   "outputs": [],
   "source": [
    "high_nn_names=[\"high,1684424924\",\"high,1684821735\"]\n",
    "high_strategies = [create_nn_strategy(name) for name in high_nn_names]"
   ]
  },
  {
   "cell_type": "code",
   "execution_count": null,
   "metadata": {},
   "outputs": [],
   "source": [
    "bimatrix_game = BimatrixGame.BimatrixGame(low_strategies, high_strategies)\n",
    "equilibria=BimatrixGame.run_tournament(bimatrix_game=bimatrix_game,number_rounds= 4)"
   ]
  },
  {
   "cell_type": "code",
   "execution_count": null,
   "metadata": {},
   "outputs": [],
   "source": [
    "for strategy in bimatrixGame._strategies_low:\n",
    "    print(strategy._name)"
   ]
  },
  {
   "cell_type": "code",
   "execution_count": null,
   "metadata": {},
   "outputs": [],
   "source": [
    "for strategy in bimatrixGame._strategies_high:\n",
    "    print(strategy._name)"
   ]
  },
  {
   "cell_type": "code",
   "execution_count": null,
   "metadata": {},
   "outputs": [],
   "source": []
  }
 ],
 "metadata": {
  "kernelspec": {
   "display_name": "Python 3 (ipykernel)",
   "language": "python",
   "name": "python3"
  },
  "language_info": {
   "codemirror_mode": {
    "name": "ipython",
    "version": 3
   },
   "file_extension": ".py",
   "mimetype": "text/x-python",
   "name": "python",
   "nbconvert_exporter": "python",
   "pygments_lexer": "ipython3",
   "version": "3.9.12"
  }
 },
 "nbformat": 4,
 "nbformat_minor": 4
}
