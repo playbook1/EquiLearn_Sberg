{
 "cells": [
  {
   "cell_type": "code",
   "execution_count": 1,
   "metadata": {},
   "outputs": [],
   "source": [
    "from learningAgents import ReinforceAlgorithm\n",
    "from environmentModel import Model, AdversaryModes\n",
    "from NeuralNetwork import NeuralNetwork\n",
    "import torch\n",
    "import torch.nn as nn\n",
    "from torch.distributions import Categorical"
   ]
  },
  {
   "cell_type": "code",
   "execution_count": 2,
   "metadata": {},
   "outputs": [
    {
     "data": {
      "text/plain": [
       "tensor([1., 0., 0., 0., 0., 0., 0., 0., 0., 0., 0., 0.])"
      ]
     },
     "execution_count": 2,
     "metadata": {},
     "output_type": "execute_result"
    }
   ],
   "source": [
    "adversaryProbs=torch.zeros(len(AdversaryModes))\n",
    "adversaryProbs[0]=1\n",
    "adversaryProbs[1]=0\n",
    "adversaryProbs[8]=0\n",
    "game = Model(totalDemand = 400, \n",
    "               tupleCosts = (57, 71),\n",
    "              totalStages = 3, adversaryProbs=adversaryProbs, advHistoryNum=0)\n",
    "adversaryProbs"
   ]
  },
  {
   "cell_type": "code",
   "execution_count": 3,
   "metadata": {},
   "outputs": [],
   "source": [
    "neuralNet=NeuralNetwork(num_input=3+game.advHistoryNum, lr=0.0009,num_actions=4)\n",
    "algorithm = ReinforceAlgorithm(game, neuralNet, numberIterations=1, numberEpisodes=100_000, discountFactor =0.0.2)"
   ]
  },
  {
   "cell_type": "code",
   "execution_count": 4,
   "metadata": {
    "scrolled": true
   },
   "outputs": [
    {
     "name": "stdout",
     "output_type": "stream",
     "text": [
      "--------------------------------------------------\n",
      "0   actions:  tensor([3, 2, 2])\n",
      "loss=  tensor(10.7618, grad_fn=<DivBackward0>)   , return=  16196.25\n",
      "discReturns/1000= tensor([9.2445, 8.2825, 5.6210])\n",
      "--------------------------------------------------\n",
      "1000   actions:  tensor([3, 2, 1])\n",
      "loss=  tensor(10.4525, grad_fn=<DivBackward0>)   , return=  16199.25\n",
      "discReturns/1000= tensor([9.2452, 8.2840, 5.6240])\n",
      "--------------------------------------------------\n",
      "2000   actions:  tensor([3, 2, 0])\n",
      "loss=  tensor(11.1496, grad_fn=<DivBackward0>)   , return=  16200.25\n",
      "discReturns/1000= tensor([9.2455, 8.2845, 5.6250])\n",
      "--------------------------------------------------\n",
      "3000   actions:  tensor([0, 3, 3])\n",
      "loss=  tensor(4.6165, grad_fn=<DivBackward0>)   , return=  16066.078125\n",
      "discReturns/1000= tensor([9.1898, 8.1552, 5.5973])\n",
      "--------------------------------------------------\n",
      "4000   actions:  tensor([2, 0, 3])\n",
      "loss=  tensor(9.4645, grad_fn=<DivBackward0>)   , return=  16069.953125\n",
      "discReturns/1000= tensor([9.2084, 8.2004, 5.5226])\n",
      "--------------------------------------------------\n",
      "5000   actions:  tensor([1, 1, 0])\n",
      "loss=  tensor(9.7527, grad_fn=<DivBackward0>)   , return=  16062.75\n",
      "discReturns/1000= tensor([9.1994, 8.1764, 5.5503])\n",
      "--------------------------------------------------\n",
      "6000   actions:  tensor([1, 1, 2])\n",
      "loss=  tensor(2.5805, grad_fn=<DivBackward0>)   , return=  16058.75\n",
      "discReturns/1000= tensor([9.1984, 8.1744, 5.5462])\n",
      "--------------------------------------------------\n",
      "7000   actions:  tensor([1, 1, 0])\n",
      "loss=  tensor(2.5508, grad_fn=<DivBackward0>)   , return=  16062.75\n",
      "discReturns/1000= tensor([9.1994, 8.1764, 5.5503])\n",
      "--------------------------------------------------\n",
      "8000   actions:  tensor([1, 1, 3])\n",
      "loss=  tensor(2.5555, grad_fn=<DivBackward0>)   , return=  16053.75\n",
      "discReturns/1000= tensor([9.1972, 8.1719, 5.5413])\n",
      "--------------------------------------------------\n",
      "9000   actions:  tensor([1, 1, 2])\n",
      "loss=  tensor(2.5615, grad_fn=<DivBackward0>)   , return=  16058.75\n",
      "discReturns/1000= tensor([9.1984, 8.1744, 5.5462])\n",
      "--------------------------------------------------\n",
      "10000   actions:  tensor([1, 1, 2])\n",
      "loss=  tensor(2.5623, grad_fn=<DivBackward0>)   , return=  16058.75\n",
      "discReturns/1000= tensor([9.1984, 8.1744, 5.5462])\n",
      "--------------------------------------------------\n",
      "11000   actions:  tensor([1, 1, 1])\n",
      "loss=  tensor(2.5659, grad_fn=<DivBackward0>)   , return=  16061.75\n",
      "discReturns/1000= tensor([9.1992, 8.1759, 5.5493])\n",
      "--------------------------------------------------\n",
      "12000   actions:  tensor([1, 1, 1])\n",
      "loss=  tensor(2.5650, grad_fn=<DivBackward0>)   , return=  16061.75\n",
      "discReturns/1000= tensor([9.1992, 8.1759, 5.5493])\n",
      "--------------------------------------------------\n",
      "13000   actions:  tensor([1, 1, 0])\n",
      "loss=  tensor(2.5647, grad_fn=<DivBackward0>)   , return=  16062.75\n",
      "discReturns/1000= tensor([9.1994, 8.1764, 5.5503])\n",
      "--------------------------------------------------\n",
      "14000   actions:  tensor([1, 1, 2])\n",
      "loss=  tensor(2.5629, grad_fn=<DivBackward0>)   , return=  16058.75\n",
      "discReturns/1000= tensor([9.1984, 8.1744, 5.5462])\n",
      "--------------------------------------------------\n",
      "15000   actions:  tensor([1, 1, 2])\n",
      "loss=  tensor(2.5629, grad_fn=<DivBackward0>)   , return=  16058.75\n",
      "discReturns/1000= tensor([9.1984, 8.1744, 5.5462])\n",
      "--------------------------------------------------\n",
      "16000   actions:  tensor([1, 1, 3])\n",
      "loss=  tensor(2.5606, grad_fn=<DivBackward0>)   , return=  16053.75\n",
      "discReturns/1000= tensor([9.1972, 8.1719, 5.5413])\n",
      "--------------------------------------------------\n",
      "17000   actions:  tensor([1, 1, 0])\n",
      "loss=  tensor(2.5648, grad_fn=<DivBackward0>)   , return=  16062.75\n",
      "discReturns/1000= tensor([9.1994, 8.1764, 5.5503])\n",
      "--------------------------------------------------\n",
      "18000   actions:  tensor([1, 1, 1])\n",
      "loss=  tensor(2.5643, grad_fn=<DivBackward0>)   , return=  16061.75\n",
      "discReturns/1000= tensor([9.1992, 8.1759, 5.5493])\n",
      "--------------------------------------------------\n",
      "19000   actions:  tensor([1, 1, 0])\n",
      "loss=  tensor(2.5648, grad_fn=<DivBackward0>)   , return=  16062.75\n",
      "discReturns/1000= tensor([9.1994, 8.1764, 5.5503])\n",
      "--------------------------------------------------\n",
      "20000   actions:  tensor([1, 1, 0])\n",
      "loss=  tensor(2.5648, grad_fn=<DivBackward0>)   , return=  16062.75\n",
      "discReturns/1000= tensor([9.1994, 8.1764, 5.5503])\n",
      "--------------------------------------------------\n",
      "21000   actions:  tensor([1, 1, 1])\n",
      "loss=  tensor(2.5643, grad_fn=<DivBackward0>)   , return=  16061.75\n",
      "discReturns/1000= tensor([9.1992, 8.1759, 5.5493])\n",
      "--------------------------------------------------\n",
      "22000   actions:  tensor([1, 1, 1])\n",
      "loss=  tensor(2.5643, grad_fn=<DivBackward0>)   , return=  16061.75\n",
      "discReturns/1000= tensor([9.1992, 8.1759, 5.5493])\n",
      "--------------------------------------------------\n",
      "23000   actions:  tensor([1, 1, 0])\n",
      "loss=  tensor(2.5648, grad_fn=<DivBackward0>)   , return=  16062.75\n",
      "discReturns/1000= tensor([9.1994, 8.1764, 5.5503])\n",
      "--------------------------------------------------\n",
      "24000   actions:  tensor([1, 1, 2])\n",
      "loss=  tensor(2.5629, grad_fn=<DivBackward0>)   , return=  16058.75\n",
      "discReturns/1000= tensor([9.1984, 8.1744, 5.5462])\n",
      "--------------------------------------------------\n",
      "25000   actions:  tensor([1, 1, 1])\n",
      "loss=  tensor(2.5643, grad_fn=<DivBackward0>)   , return=  16061.75\n",
      "discReturns/1000= tensor([9.1992, 8.1759, 5.5493])\n",
      "--------------------------------------------------\n",
      "26000   actions:  tensor([1, 1, 0])\n",
      "loss=  tensor(2.5648, grad_fn=<DivBackward0>)   , return=  16062.75\n",
      "discReturns/1000= tensor([9.1994, 8.1764, 5.5503])\n",
      "--------------------------------------------------\n",
      "27000   actions:  tensor([1, 1, 1])\n",
      "loss=  tensor(2.5643, grad_fn=<DivBackward0>)   , return=  16061.75\n",
      "discReturns/1000= tensor([9.1992, 8.1759, 5.5493])\n",
      "--------------------------------------------------\n",
      "28000   actions:  tensor([1, 1, 1])\n",
      "loss=  tensor(2.5643, grad_fn=<DivBackward0>)   , return=  16061.75\n",
      "discReturns/1000= tensor([9.1992, 8.1759, 5.5493])\n",
      "--------------------------------------------------\n",
      "29000   actions:  tensor([1, 1, 1])\n",
      "loss=  tensor(2.5643, grad_fn=<DivBackward0>)   , return=  16061.75\n",
      "discReturns/1000= tensor([9.1992, 8.1759, 5.5493])\n",
      "--------------------------------------------------\n",
      "30000   actions:  tensor([1, 1, 1])\n",
      "loss=  tensor(2.5643, grad_fn=<DivBackward0>)   , return=  16061.75\n",
      "discReturns/1000= tensor([9.1992, 8.1759, 5.5493])\n",
      "--------------------------------------------------\n",
      "31000   actions:  tensor([1, 1, 1])\n",
      "loss=  tensor(2.5643, grad_fn=<DivBackward0>)   , return=  16061.75\n",
      "discReturns/1000= tensor([9.1992, 8.1759, 5.5493])\n",
      "--------------------------------------------------\n",
      "32000   actions:  tensor([1, 1, 1])\n",
      "loss=  tensor(2.5643, grad_fn=<DivBackward0>)   , return=  16061.75\n",
      "discReturns/1000= tensor([9.1992, 8.1759, 5.5493])\n",
      "--------------------------------------------------\n",
      "33000   actions:  tensor([1, 1, 1])\n",
      "loss=  tensor(2.5643, grad_fn=<DivBackward0>)   , return=  16061.75\n",
      "discReturns/1000= tensor([9.1992, 8.1759, 5.5493])\n",
      "--------------------------------------------------\n",
      "34000   actions:  tensor([1, 1, 1])\n",
      "loss=  tensor(2.5643, grad_fn=<DivBackward0>)   , return=  16061.75\n",
      "discReturns/1000= tensor([9.1992, 8.1759, 5.5493])\n",
      "--------------------------------------------------\n",
      "35000   actions:  tensor([1, 1, 1])\n",
      "loss=  tensor(2.5643, grad_fn=<DivBackward0>)   , return=  16061.75\n",
      "discReturns/1000= tensor([9.1992, 8.1759, 5.5493])\n",
      "--------------------------------------------------\n",
      "36000   actions:  tensor([1, 1, 1])\n",
      "loss=  tensor(2.5643, grad_fn=<DivBackward0>)   , return=  16061.75\n",
      "discReturns/1000= tensor([9.1992, 8.1759, 5.5493])\n",
      "--------------------------------------------------\n",
      "37000   actions:  tensor([1, 1, 1])\n",
      "loss=  tensor(2.5643, grad_fn=<DivBackward0>)   , return=  16061.75\n",
      "discReturns/1000= tensor([9.1992, 8.1759, 5.5493])\n",
      "--------------------------------------------------\n",
      "38000   actions:  tensor([1, 1, 1])\n",
      "loss=  tensor(2.5643, grad_fn=<DivBackward0>)   , return=  16061.75\n",
      "discReturns/1000= tensor([9.1992, 8.1759, 5.5493])\n",
      "--------------------------------------------------\n",
      "39000   actions:  tensor([1, 1, 1])\n",
      "loss=  tensor(2.5643, grad_fn=<DivBackward0>)   , return=  16061.75\n",
      "discReturns/1000= tensor([9.1992, 8.1759, 5.5493])\n"
     ]
    },
    {
     "name": "stdout",
     "output_type": "stream",
     "text": [
      "--------------------------------------------------\n",
      "40000   actions:  tensor([1, 1, 0])\n",
      "loss=  tensor(2.5648, grad_fn=<DivBackward0>)   , return=  16062.75\n",
      "discReturns/1000= tensor([9.1994, 8.1764, 5.5503])\n",
      "--------------------------------------------------\n",
      "41000   actions:  tensor([1, 1, 0])\n",
      "loss=  tensor(2.5648, grad_fn=<DivBackward0>)   , return=  16062.75\n",
      "discReturns/1000= tensor([9.1994, 8.1764, 5.5503])\n",
      "--------------------------------------------------\n",
      "42000   actions:  tensor([1, 1, 1])\n",
      "loss=  tensor(2.5643, grad_fn=<DivBackward0>)   , return=  16061.75\n",
      "discReturns/1000= tensor([9.1992, 8.1759, 5.5493])\n",
      "--------------------------------------------------\n",
      "43000   actions:  tensor([1, 1, 1])\n",
      "loss=  tensor(2.5643, grad_fn=<DivBackward0>)   , return=  16061.75\n",
      "discReturns/1000= tensor([9.1992, 8.1759, 5.5493])\n",
      "--------------------------------------------------\n",
      "44000   actions:  tensor([1, 1, 0])\n",
      "loss=  tensor(2.5648, grad_fn=<DivBackward0>)   , return=  16062.75\n",
      "discReturns/1000= tensor([9.1994, 8.1764, 5.5503])\n",
      "--------------------------------------------------\n",
      "45000   actions:  tensor([1, 1, 1])\n",
      "loss=  tensor(2.5643, grad_fn=<DivBackward0>)   , return=  16061.75\n",
      "discReturns/1000= tensor([9.1992, 8.1759, 5.5493])\n",
      "--------------------------------------------------\n",
      "46000   actions:  tensor([1, 1, 0])\n",
      "loss=  tensor(2.5648, grad_fn=<DivBackward0>)   , return=  16062.75\n",
      "discReturns/1000= tensor([9.1994, 8.1764, 5.5503])\n",
      "--------------------------------------------------\n",
      "47000   actions:  tensor([1, 1, 0])\n",
      "loss=  tensor(2.5648, grad_fn=<DivBackward0>)   , return=  16062.75\n",
      "discReturns/1000= tensor([9.1994, 8.1764, 5.5503])\n",
      "--------------------------------------------------\n",
      "48000   actions:  tensor([1, 1, 1])\n",
      "loss=  tensor(2.5643, grad_fn=<DivBackward0>)   , return=  16061.75\n",
      "discReturns/1000= tensor([9.1992, 8.1759, 5.5493])\n",
      "--------------------------------------------------\n",
      "49000   actions:  tensor([1, 1, 0])\n",
      "loss=  tensor(2.5648, grad_fn=<DivBackward0>)   , return=  16062.75\n",
      "discReturns/1000= tensor([9.1994, 8.1764, 5.5503])\n",
      "--------------------------------------------------\n",
      "50000   actions:  tensor([1, 1, 1])\n",
      "loss=  tensor(2.5643, grad_fn=<DivBackward0>)   , return=  16061.75\n",
      "discReturns/1000= tensor([9.1992, 8.1759, 5.5493])\n",
      "--------------------------------------------------\n",
      "51000   actions:  tensor([1, 1, 1])\n",
      "loss=  tensor(2.5643, grad_fn=<DivBackward0>)   , return=  16061.75\n",
      "discReturns/1000= tensor([9.1992, 8.1759, 5.5493])\n",
      "--------------------------------------------------\n",
      "52000   actions:  tensor([1, 1, 1])\n",
      "loss=  tensor(2.5643, grad_fn=<DivBackward0>)   , return=  16061.75\n",
      "discReturns/1000= tensor([9.1992, 8.1759, 5.5493])\n",
      "--------------------------------------------------\n",
      "53000   actions:  tensor([1, 1, 1])\n",
      "loss=  tensor(2.5643, grad_fn=<DivBackward0>)   , return=  16061.75\n",
      "discReturns/1000= tensor([9.1992, 8.1759, 5.5493])\n",
      "--------------------------------------------------\n",
      "54000   actions:  tensor([1, 1, 0])\n",
      "loss=  tensor(2.5648, grad_fn=<DivBackward0>)   , return=  16062.75\n",
      "discReturns/1000= tensor([9.1994, 8.1764, 5.5503])\n",
      "--------------------------------------------------\n",
      "55000   actions:  tensor([1, 1, 0])\n",
      "loss=  tensor(2.5648, grad_fn=<DivBackward0>)   , return=  16062.75\n",
      "discReturns/1000= tensor([9.1994, 8.1764, 5.5503])\n",
      "--------------------------------------------------\n",
      "56000   actions:  tensor([1, 1, 1])\n",
      "loss=  tensor(2.5643, grad_fn=<DivBackward0>)   , return=  16061.75\n",
      "discReturns/1000= tensor([9.1992, 8.1759, 5.5493])\n",
      "--------------------------------------------------\n",
      "57000   actions:  tensor([1, 1, 1])\n",
      "loss=  tensor(2.5643, grad_fn=<DivBackward0>)   , return=  16061.75\n",
      "discReturns/1000= tensor([9.1992, 8.1759, 5.5493])\n",
      "--------------------------------------------------\n",
      "58000   actions:  tensor([1, 1, 0])\n",
      "loss=  tensor(2.5648, grad_fn=<DivBackward0>)   , return=  16062.75\n",
      "discReturns/1000= tensor([9.1994, 8.1764, 5.5503])\n",
      "--------------------------------------------------\n",
      "59000   actions:  tensor([1, 1, 0])\n",
      "loss=  tensor(2.5648, grad_fn=<DivBackward0>)   , return=  16062.75\n",
      "discReturns/1000= tensor([9.1994, 8.1764, 5.5503])\n",
      "--------------------------------------------------\n",
      "60000   actions:  tensor([1, 1, 0])\n",
      "loss=  tensor(2.5648, grad_fn=<DivBackward0>)   , return=  16062.75\n",
      "discReturns/1000= tensor([9.1994, 8.1764, 5.5503])\n",
      "--------------------------------------------------\n",
      "61000   actions:  tensor([1, 1, 0])\n",
      "loss=  tensor(2.5648, grad_fn=<DivBackward0>)   , return=  16062.75\n",
      "discReturns/1000= tensor([9.1994, 8.1764, 5.5503])\n",
      "--------------------------------------------------\n",
      "62000   actions:  tensor([1, 1, 0])\n",
      "loss=  tensor(2.5648, grad_fn=<DivBackward0>)   , return=  16062.75\n",
      "discReturns/1000= tensor([9.1994, 8.1764, 5.5503])\n",
      "--------------------------------------------------\n",
      "63000   actions:  tensor([1, 1, 0])\n",
      "loss=  tensor(2.5648, grad_fn=<DivBackward0>)   , return=  16062.75\n",
      "discReturns/1000= tensor([9.1994, 8.1764, 5.5503])\n",
      "--------------------------------------------------\n",
      "64000   actions:  tensor([1, 1, 0])\n",
      "loss=  tensor(2.5648, grad_fn=<DivBackward0>)   , return=  16062.75\n",
      "discReturns/1000= tensor([9.1994, 8.1764, 5.5503])\n",
      "--------------------------------------------------\n",
      "65000   actions:  tensor([1, 1, 0])\n",
      "loss=  tensor(2.5648, grad_fn=<DivBackward0>)   , return=  16062.75\n",
      "discReturns/1000= tensor([9.1994, 8.1764, 5.5503])\n",
      "--------------------------------------------------\n",
      "66000   actions:  tensor([1, 1, 0])\n",
      "loss=  tensor(2.5648, grad_fn=<DivBackward0>)   , return=  16062.75\n",
      "discReturns/1000= tensor([9.1994, 8.1764, 5.5503])\n",
      "--------------------------------------------------\n",
      "67000   actions:  tensor([1, 1, 0])\n",
      "loss=  tensor(2.5648, grad_fn=<DivBackward0>)   , return=  16062.75\n",
      "discReturns/1000= tensor([9.1994, 8.1764, 5.5503])\n",
      "--------------------------------------------------\n",
      "68000   actions:  tensor([1, 1, 1])\n",
      "loss=  tensor(2.5643, grad_fn=<DivBackward0>)   , return=  16061.75\n",
      "discReturns/1000= tensor([9.1992, 8.1759, 5.5493])\n",
      "--------------------------------------------------\n",
      "69000   actions:  tensor([1, 1, 0])\n",
      "loss=  tensor(2.5648, grad_fn=<DivBackward0>)   , return=  16062.75\n",
      "discReturns/1000= tensor([9.1994, 8.1764, 5.5503])\n",
      "--------------------------------------------------\n",
      "70000   actions:  tensor([1, 1, 0])\n",
      "loss=  tensor(2.5648, grad_fn=<DivBackward0>)   , return=  16062.75\n",
      "discReturns/1000= tensor([9.1994, 8.1764, 5.5503])\n",
      "--------------------------------------------------\n",
      "71000   actions:  tensor([1, 1, 0])\n",
      "loss=  tensor(2.5648, grad_fn=<DivBackward0>)   , return=  16062.75\n",
      "discReturns/1000= tensor([9.1994, 8.1764, 5.5503])\n",
      "--------------------------------------------------\n",
      "72000   actions:  tensor([1, 1, 0])\n",
      "loss=  tensor(2.5648, grad_fn=<DivBackward0>)   , return=  16062.75\n",
      "discReturns/1000= tensor([9.1994, 8.1764, 5.5503])\n",
      "--------------------------------------------------\n",
      "73000   actions:  tensor([1, 1, 0])\n",
      "loss=  tensor(2.5648, grad_fn=<DivBackward0>)   , return=  16062.75\n",
      "discReturns/1000= tensor([9.1994, 8.1764, 5.5503])\n",
      "--------------------------------------------------\n",
      "74000   actions:  tensor([1, 1, 0])\n",
      "loss=  tensor(2.5648, grad_fn=<DivBackward0>)   , return=  16062.75\n",
      "discReturns/1000= tensor([9.1994, 8.1764, 5.5503])\n",
      "--------------------------------------------------\n",
      "75000   actions:  tensor([1, 1, 0])\n",
      "loss=  tensor(2.5648, grad_fn=<DivBackward0>)   , return=  16062.75\n",
      "discReturns/1000= tensor([9.1994, 8.1764, 5.5503])\n",
      "--------------------------------------------------\n",
      "76000   actions:  tensor([1, 1, 0])\n",
      "loss=  tensor(2.5648, grad_fn=<DivBackward0>)   , return=  16062.75\n",
      "discReturns/1000= tensor([9.1994, 8.1764, 5.5503])\n",
      "--------------------------------------------------\n",
      "77000   actions:  tensor([1, 1, 0])\n",
      "loss=  tensor(2.5648, grad_fn=<DivBackward0>)   , return=  16062.75\n",
      "discReturns/1000= tensor([9.1994, 8.1764, 5.5503])\n",
      "--------------------------------------------------\n",
      "78000   actions:  tensor([1, 1, 0])\n",
      "loss=  tensor(2.5648, grad_fn=<DivBackward0>)   , return=  16062.75\n",
      "discReturns/1000= tensor([9.1994, 8.1764, 5.5503])\n",
      "--------------------------------------------------\n",
      "79000   actions:  tensor([1, 1, 1])\n",
      "loss=  tensor(2.5643, grad_fn=<DivBackward0>)   , return=  16061.75\n",
      "discReturns/1000= tensor([9.1992, 8.1759, 5.5493])\n"
     ]
    },
    {
     "name": "stdout",
     "output_type": "stream",
     "text": [
      "--------------------------------------------------\n",
      "80000   actions:  tensor([1, 1, 0])\n",
      "loss=  tensor(2.5648, grad_fn=<DivBackward0>)   , return=  16062.75\n",
      "discReturns/1000= tensor([9.1994, 8.1764, 5.5503])\n",
      "--------------------------------------------------\n",
      "81000   actions:  tensor([1, 1, 0])\n",
      "loss=  tensor(2.5648, grad_fn=<DivBackward0>)   , return=  16062.75\n",
      "discReturns/1000= tensor([9.1994, 8.1764, 5.5503])\n",
      "--------------------------------------------------\n",
      "82000   actions:  tensor([1, 1, 0])\n",
      "loss=  tensor(2.5648, grad_fn=<DivBackward0>)   , return=  16062.75\n",
      "discReturns/1000= tensor([9.1994, 8.1764, 5.5503])\n",
      "--------------------------------------------------\n",
      "83000   actions:  tensor([1, 1, 1])\n",
      "loss=  tensor(2.5643, grad_fn=<DivBackward0>)   , return=  16061.75\n",
      "discReturns/1000= tensor([9.1992, 8.1759, 5.5493])\n",
      "--------------------------------------------------\n",
      "84000   actions:  tensor([1, 1, 0])\n",
      "loss=  tensor(2.5648, grad_fn=<DivBackward0>)   , return=  16062.75\n",
      "discReturns/1000= tensor([9.1994, 8.1764, 5.5503])\n",
      "--------------------------------------------------\n",
      "85000   actions:  tensor([1, 1, 0])\n",
      "loss=  tensor(2.5648, grad_fn=<DivBackward0>)   , return=  16062.75\n",
      "discReturns/1000= tensor([9.1994, 8.1764, 5.5503])\n",
      "--------------------------------------------------\n",
      "86000   actions:  tensor([1, 1, 0])\n",
      "loss=  tensor(2.5648, grad_fn=<DivBackward0>)   , return=  16062.75\n",
      "discReturns/1000= tensor([9.1994, 8.1764, 5.5503])\n",
      "--------------------------------------------------\n",
      "87000   actions:  tensor([1, 1, 0])\n",
      "loss=  tensor(2.5648, grad_fn=<DivBackward0>)   , return=  16062.75\n",
      "discReturns/1000= tensor([9.1994, 8.1764, 5.5503])\n",
      "--------------------------------------------------\n",
      "88000   actions:  tensor([1, 1, 0])\n",
      "loss=  tensor(2.5648, grad_fn=<DivBackward0>)   , return=  16062.75\n",
      "discReturns/1000= tensor([9.1994, 8.1764, 5.5503])\n",
      "--------------------------------------------------\n",
      "89000   actions:  tensor([1, 1, 0])\n",
      "loss=  tensor(2.5648, grad_fn=<DivBackward0>)   , return=  16062.75\n",
      "discReturns/1000= tensor([9.1994, 8.1764, 5.5503])\n",
      "--------------------------------------------------\n",
      "90000   actions:  tensor([1, 1, 0])\n",
      "loss=  tensor(2.5648, grad_fn=<DivBackward0>)   , return=  16062.75\n",
      "discReturns/1000= tensor([9.1994, 8.1764, 5.5503])\n",
      "--------------------------------------------------\n",
      "91000   actions:  tensor([1, 1, 0])\n",
      "loss=  tensor(2.5648, grad_fn=<DivBackward0>)   , return=  16062.75\n",
      "discReturns/1000= tensor([9.1994, 8.1764, 5.5503])\n",
      "--------------------------------------------------\n",
      "92000   actions:  tensor([1, 1, 1])\n",
      "loss=  tensor(2.5643, grad_fn=<DivBackward0>)   , return=  16061.75\n",
      "discReturns/1000= tensor([9.1992, 8.1759, 5.5493])\n",
      "--------------------------------------------------\n",
      "93000   actions:  tensor([1, 1, 1])\n",
      "loss=  tensor(2.5643, grad_fn=<DivBackward0>)   , return=  16061.75\n",
      "discReturns/1000= tensor([9.1992, 8.1759, 5.5493])\n",
      "--------------------------------------------------\n",
      "94000   actions:  tensor([1, 1, 0])\n",
      "loss=  tensor(2.5648, grad_fn=<DivBackward0>)   , return=  16062.75\n",
      "discReturns/1000= tensor([9.1994, 8.1764, 5.5503])\n",
      "--------------------------------------------------\n",
      "95000   actions:  tensor([1, 1, 1])\n",
      "loss=  tensor(2.5643, grad_fn=<DivBackward0>)   , return=  16061.75\n",
      "discReturns/1000= tensor([9.1992, 8.1759, 5.5493])\n",
      "--------------------------------------------------\n",
      "96000   actions:  tensor([1, 1, 0])\n",
      "loss=  tensor(2.5648, grad_fn=<DivBackward0>)   , return=  16062.75\n",
      "discReturns/1000= tensor([9.1994, 8.1764, 5.5503])\n",
      "--------------------------------------------------\n",
      "97000   actions:  tensor([1, 1, 0])\n",
      "loss=  tensor(2.5648, grad_fn=<DivBackward0>)   , return=  16062.75\n",
      "discReturns/1000= tensor([9.1994, 8.1764, 5.5503])\n",
      "--------------------------------------------------\n",
      "98000   actions:  tensor([1, 1, 0])\n",
      "loss=  tensor(2.5648, grad_fn=<DivBackward0>)   , return=  16062.75\n",
      "discReturns/1000= tensor([9.1994, 8.1764, 5.5503])\n",
      "--------------------------------------------------\n",
      "99000   actions:  tensor([1, 1, 0])\n",
      "loss=  tensor(2.5648, grad_fn=<DivBackward0>)   , return=  16062.75\n",
      "discReturns/1000= tensor([9.1994, 8.1764, 5.5503])\n"
     ]
    },
    {
     "data": {
      "image/png": "[encoded data removed]",
      "text/plain": [
       "<Figure size 432x288 with 1 Axes>"
      ]
     },
     "metadata": {
      "needs_background": "light"
     },
     "output_type": "display_data"
    }
   ],
   "source": [
    "algorithm.solver()"
   ]
  },
  {
   "cell_type": "code",
   "execution_count": 5,
   "metadata": {},
   "outputs": [],
   "source": [
    "advModeNames=\"\"\n",
    "for i in range(len(adversaryProbs)):\n",
    "    if adversaryProbs[i]!=0:\n",
    "        tmp=\"{:.1f}\".format(adversaryProbs[i])\n",
    "        advModeNames+=f\"{(AdversaryModes(i)).name}-{tmp}-\"\n",
    "    \n",
    "name=f\"ep {algorithm.numberEpisodes}, {advModeNames}, {game.advHistoryNum} hist, {neuralNet.lr} lr\"\n",
    "neuralNet.save(name=name)"
   ]
  },
  {
   "cell_type": "code",
   "execution_count": 6,
   "metadata": {},
   "outputs": [],
   "source": [
    "import pandas as pd\n",
    "profits = pd.DataFrame(game.profit).T\n",
    "prices = pd.DataFrame(game.prices).T\n",
    "demandPotential = pd.DataFrame(game.demandPotential).T\n",
    "learning = pd.DataFrame(algorithm.returns.mean(axis = 0),columns=['entry'])"
   ]
  },
  {
   "cell_type": "code",
   "execution_count": 7,
   "metadata": {},
   "outputs": [
    {
     "data": {
      "text/plain": [
       "<AxesSubplot:>"
      ]
     },
     "execution_count": 7,
     "metadata": {},
     "output_type": "execute_result"
    },
    {
     "data": {
      "image/png": "[encoded data removed]",
      "text/plain": [
       "<Figure size 432x288 with 1 Axes>"
      ]
     },
     "metadata": {
      "needs_background": "light"
     },
     "output_type": "display_data"
    }
   ],
   "source": [
    "loss = pd.DataFrame(algorithm.loss.mean(axis = 0),columns=['entry'])\n",
    "loss.plot()"
   ]
  },
  {
   "cell_type": "code",
   "execution_count": 8,
   "metadata": {},
   "outputs": [
    {
     "data": {
      "text/html": [
       "<div>\n",
       "<style scoped>\n",
       "    .dataframe tbody tr th:only-of-type {\n",
       "        vertical-align: middle;\n",
       "    }\n",
       "\n",
       "    .dataframe tbody tr th {\n",
       "        vertical-align: top;\n",
       "    }\n",
       "\n",
       "    .dataframe thead th {\n",
       "        text-align: right;\n",
       "    }\n",
       "</style>\n",
       "<table border=\"1\" class=\"dataframe\">\n",
       "  <thead>\n",
       "    <tr style=\"text-align: right;\">\n",
       "      <th></th>\n",
       "      <th>0</th>\n",
       "      <th>1</th>\n",
       "    </tr>\n",
       "  </thead>\n",
       "  <tbody>\n",
       "    <tr>\n",
       "      <th>0</th>\n",
       "      <td>200.0</td>\n",
       "      <td>200.0</td>\n",
       "    </tr>\n",
       "    <tr>\n",
       "      <th>1</th>\n",
       "      <td>204.0</td>\n",
       "      <td>196.0</td>\n",
       "    </tr>\n",
       "    <tr>\n",
       "      <th>2</th>\n",
       "      <td>206.0</td>\n",
       "      <td>194.0</td>\n",
       "    </tr>\n",
       "  </tbody>\n",
       "</table>\n",
       "</div>"
      ],
      "text/plain": [
       "       0      1\n",
       "0  200.0  200.0\n",
       "1  204.0  196.0\n",
       "2  206.0  194.0"
      ]
     },
     "execution_count": 8,
     "metadata": {},
     "output_type": "execute_result"
    },
    {
     "data": {
      "image/png": "[encoded data removed]",
      "text/plain": [
       "<Figure size 432x288 with 1 Axes>"
      ]
     },
     "metadata": {
      "needs_background": "light"
     },
     "output_type": "display_data"
    }
   ],
   "source": [
    "demandPotential.plot()\n",
    "demandPotential"
   ]
  },
  {
   "cell_type": "code",
   "execution_count": 9,
   "metadata": {},
   "outputs": [
    {
     "data": {
      "text/plain": [
       "0    16062.75\n",
       "1    11848.75\n",
       "dtype: float64"
      ]
     },
     "execution_count": 9,
     "metadata": {},
     "output_type": "execute_result"
    }
   ],
   "source": [
    "profits.sum(axis=0)"
   ]
  },
  {
   "cell_type": "code",
   "execution_count": 10,
   "metadata": {},
   "outputs": [
    {
     "data": {
      "text/html": [
       "<div>\n",
       "<style scoped>\n",
       "    .dataframe tbody tr th:only-of-type {\n",
       "        vertical-align: middle;\n",
       "    }\n",
       "\n",
       "    .dataframe tbody tr th {\n",
       "        vertical-align: top;\n",
       "    }\n",
       "\n",
       "    .dataframe thead th {\n",
       "        text-align: right;\n",
       "    }\n",
       "</style>\n",
       "<table border=\"1\" class=\"dataframe\">\n",
       "  <thead>\n",
       "    <tr style=\"text-align: right;\">\n",
       "      <th></th>\n",
       "      <th>0</th>\n",
       "      <th>1</th>\n",
       "    </tr>\n",
       "  </thead>\n",
       "  <tbody>\n",
       "    <tr>\n",
       "      <th>0</th>\n",
       "      <td>5111.25</td>\n",
       "      <td>4160.25</td>\n",
       "    </tr>\n",
       "    <tr>\n",
       "      <th>1</th>\n",
       "      <td>5401.25</td>\n",
       "      <td>3906.25</td>\n",
       "    </tr>\n",
       "    <tr>\n",
       "      <th>2</th>\n",
       "      <td>5550.25</td>\n",
       "      <td>3782.25</td>\n",
       "    </tr>\n",
       "  </tbody>\n",
       "</table>\n",
       "</div>"
      ],
      "text/plain": [
       "         0        1\n",
       "0  5111.25  4160.25\n",
       "1  5401.25  3906.25\n",
       "2  5550.25  3782.25"
      ]
     },
     "execution_count": 10,
     "metadata": {},
     "output_type": "execute_result"
    },
    {
     "data": {
      "image/png": "[encoded data removed]",
      "text/plain": [
       "<Figure size 432x288 with 1 Axes>"
      ]
     },
     "metadata": {
      "needs_background": "light"
     },
     "output_type": "display_data"
    }
   ],
   "source": [
    "profits.plot()\n",
    "profits\n"
   ]
  },
  {
   "cell_type": "code",
   "execution_count": 11,
   "metadata": {
    "scrolled": false
   },
   "outputs": [
    {
     "data": {
      "text/html": [
       "<div>\n",
       "<style scoped>\n",
       "    .dataframe tbody tr th:only-of-type {\n",
       "        vertical-align: middle;\n",
       "    }\n",
       "\n",
       "    .dataframe tbody tr th {\n",
       "        vertical-align: top;\n",
       "    }\n",
       "\n",
       "    .dataframe thead th {\n",
       "        text-align: right;\n",
       "    }\n",
       "</style>\n",
       "<table border=\"1\" class=\"dataframe\">\n",
       "  <thead>\n",
       "    <tr style=\"text-align: right;\">\n",
       "      <th></th>\n",
       "      <th>0</th>\n",
       "      <th>1</th>\n",
       "    </tr>\n",
       "  </thead>\n",
       "  <tbody>\n",
       "    <tr>\n",
       "      <th>0</th>\n",
       "      <td>127.5</td>\n",
       "      <td>135.5</td>\n",
       "    </tr>\n",
       "    <tr>\n",
       "      <th>1</th>\n",
       "      <td>129.5</td>\n",
       "      <td>133.5</td>\n",
       "    </tr>\n",
       "    <tr>\n",
       "      <th>2</th>\n",
       "      <td>131.5</td>\n",
       "      <td>132.5</td>\n",
       "    </tr>\n",
       "  </tbody>\n",
       "</table>\n",
       "</div>"
      ],
      "text/plain": [
       "       0      1\n",
       "0  127.5  135.5\n",
       "1  129.5  133.5\n",
       "2  131.5  132.5"
      ]
     },
     "execution_count": 11,
     "metadata": {},
     "output_type": "execute_result"
    },
    {
     "data": {
      "image/png": "[encoded data removed]",
      "text/plain": [
       "<Figure size 432x288 with 1 Axes>"
      ]
     },
     "metadata": {
      "needs_background": "light"
     },
     "output_type": "display_data"
    }
   ],
   "source": [
    "prices.plot()\n",
    "prices"
   ]
  },
  {
   "cell_type": "code",
   "execution_count": 12,
   "metadata": {},
   "outputs": [
    {
     "data": {
      "text/plain": [
       "<AxesSubplot:>"
      ]
     },
     "execution_count": 12,
     "metadata": {},
     "output_type": "execute_result"
    },
    {
     "data": {
      "image/png": "[encoded data removed]",
      "text/plain": [
       "<Figure size 432x288 with 1 Axes>"
      ]
     },
     "metadata": {
      "needs_background": "light"
     },
     "output_type": "display_data"
    }
   ],
   "source": [
    "learning.plot()"
   ]
  },
  {
   "cell_type": "code",
   "execution_count": 13,
   "metadata": {},
   "outputs": [],
   "source": [
    "# pricelearning = pd.DataFrame(game.prices.mean(axis = 0))\n",
    "# pricelearning.plot()"
   ]
  },
  {
   "cell_type": "code",
   "execution_count": 14,
   "metadata": {},
   "outputs": [],
   "source": [
    "import numpy as np\n",
    "import matplotlib.pyplot as plt"
   ]
  },
  {
   "cell_type": "code",
   "execution_count": 16,
   "metadata": {},
   "outputs": [],
   "source": [
    "learning_1 = learning.to_numpy()\n",
    "learning_2 = [0]*len(learning)\n",
    "for i in range(len(learning_1)):\n",
    "    learning_2[i] = learning_1[i][0]"
   ]
  },
  {
   "cell_type": "code",
   "execution_count": 17,
   "metadata": {},
   "outputs": [],
   "source": [
    "avg_learning = np.convolve(learning_2, np.ones(1000)/1000, mode = 'valid')"
   ]
  },
  {
   "cell_type": "code",
   "execution_count": 18,
   "metadata": {},
   "outputs": [
    {
     "data": {
      "image/png": "[encoded data removed]",
      "text/plain": [
       "<Figure size 432x288 with 1 Axes>"
      ]
     },
     "metadata": {
      "needs_background": "light"
     },
     "output_type": "display_data"
    }
   ],
   "source": [
    "plt.plot(avg_learning)\n",
    "plt.show()"
   ]
  },
  {
   "cell_type": "code",
   "execution_count": 19,
   "metadata": {},
   "outputs": [
    {
     "ename": "InvalidIndexError",
     "evalue": "(slice(None, None, None), None)",
     "output_type": "error",
     "traceback": [
      "\u001b[1;31m---------------------------------------------------------------------------\u001b[0m",
      "\u001b[1;31mTypeError\u001b[0m                                 Traceback (most recent call last)",
      "File \u001b[1;32m~\\Documents\\Anaconda\\lib\\site-packages\\pandas\\core\\indexes\\base.py:3621\u001b[0m, in \u001b[0;36mIndex.get_loc\u001b[1;34m(self, key, method, tolerance)\u001b[0m\n\u001b[0;32m   3620\u001b[0m \u001b[38;5;28;01mtry\u001b[39;00m:\n\u001b[1;32m-> 3621\u001b[0m     \u001b[38;5;28;01mreturn\u001b[39;00m \u001b[38;5;28;43mself\u001b[39;49m\u001b[38;5;241;43m.\u001b[39;49m\u001b[43m_engine\u001b[49m\u001b[38;5;241;43m.\u001b[39;49m\u001b[43mget_loc\u001b[49m\u001b[43m(\u001b[49m\u001b[43mcasted_key\u001b[49m\u001b[43m)\u001b[49m\n\u001b[0;32m   3622\u001b[0m \u001b[38;5;28;01mexcept\u001b[39;00m \u001b[38;5;167;01mKeyError\u001b[39;00m \u001b[38;5;28;01mas\u001b[39;00m err:\n",
      "File \u001b[1;32m~\\Documents\\Anaconda\\lib\\site-packages\\pandas\\_libs\\index.pyx:136\u001b[0m, in \u001b[0;36mpandas._libs.index.IndexEngine.get_loc\u001b[1;34m()\u001b[0m\n",
      "File \u001b[1;32m~\\Documents\\Anaconda\\lib\\site-packages\\pandas\\_libs\\index.pyx:142\u001b[0m, in \u001b[0;36mpandas._libs.index.IndexEngine.get_loc\u001b[1;34m()\u001b[0m\n",
      "\u001b[1;31mTypeError\u001b[0m: '(slice(None, None, None), None)' is an invalid key",
      "\nDuring handling of the above exception, another exception occurred:\n",
      "\u001b[1;31mInvalidIndexError\u001b[0m                         Traceback (most recent call last)",
      "Input \u001b[1;32mIn [19]\u001b[0m, in \u001b[0;36m<cell line: 1>\u001b[1;34m()\u001b[0m\n\u001b[1;32m----> 1\u001b[0m \u001b[43mplt\u001b[49m\u001b[38;5;241;43m.\u001b[39;49m\u001b[43mplot\u001b[49m\u001b[43m(\u001b[49m\u001b[43mlearning\u001b[49m\u001b[43m,\u001b[49m\u001b[43mloss\u001b[49m\u001b[43m)\u001b[49m\n",
      "File \u001b[1;32m~\\Documents\\Anaconda\\lib\\site-packages\\matplotlib\\pyplot.py:2757\u001b[0m, in \u001b[0;36mplot\u001b[1;34m(scalex, scaley, data, *args, **kwargs)\u001b[0m\n\u001b[0;32m   2755\u001b[0m \u001b[38;5;129m@_copy_docstring_and_deprecators\u001b[39m(Axes\u001b[38;5;241m.\u001b[39mplot)\n\u001b[0;32m   2756\u001b[0m \u001b[38;5;28;01mdef\u001b[39;00m \u001b[38;5;21mplot\u001b[39m(\u001b[38;5;241m*\u001b[39margs, scalex\u001b[38;5;241m=\u001b[39m\u001b[38;5;28;01mTrue\u001b[39;00m, scaley\u001b[38;5;241m=\u001b[39m\u001b[38;5;28;01mTrue\u001b[39;00m, data\u001b[38;5;241m=\u001b[39m\u001b[38;5;28;01mNone\u001b[39;00m, \u001b[38;5;241m*\u001b[39m\u001b[38;5;241m*\u001b[39mkwargs):\n\u001b[1;32m-> 2757\u001b[0m     \u001b[38;5;28;01mreturn\u001b[39;00m gca()\u001b[38;5;241m.\u001b[39mplot(\n\u001b[0;32m   2758\u001b[0m         \u001b[38;5;241m*\u001b[39margs, scalex\u001b[38;5;241m=\u001b[39mscalex, scaley\u001b[38;5;241m=\u001b[39mscaley,\n\u001b[0;32m   2759\u001b[0m         \u001b[38;5;241m*\u001b[39m\u001b[38;5;241m*\u001b[39m({\u001b[38;5;124m\"\u001b[39m\u001b[38;5;124mdata\u001b[39m\u001b[38;5;124m\"\u001b[39m: data} \u001b[38;5;28;01mif\u001b[39;00m data \u001b[38;5;129;01mis\u001b[39;00m \u001b[38;5;129;01mnot\u001b[39;00m \u001b[38;5;28;01mNone\u001b[39;00m \u001b[38;5;28;01melse\u001b[39;00m {}), \u001b[38;5;241m*\u001b[39m\u001b[38;5;241m*\u001b[39mkwargs)\n",
      "File \u001b[1;32m~\\Documents\\Anaconda\\lib\\site-packages\\matplotlib\\axes\\_axes.py:1632\u001b[0m, in \u001b[0;36mAxes.plot\u001b[1;34m(self, scalex, scaley, data, *args, **kwargs)\u001b[0m\n\u001b[0;32m   1390\u001b[0m \u001b[38;5;124;03m\"\"\"\u001b[39;00m\n\u001b[0;32m   1391\u001b[0m \u001b[38;5;124;03mPlot y versus x as lines and/or markers.\u001b[39;00m\n\u001b[0;32m   1392\u001b[0m \n\u001b[1;32m   (...)\u001b[0m\n\u001b[0;32m   1629\u001b[0m \u001b[38;5;124;03m(``'green'``) or hex strings (``'#008000'``).\u001b[39;00m\n\u001b[0;32m   1630\u001b[0m \u001b[38;5;124;03m\"\"\"\u001b[39;00m\n\u001b[0;32m   1631\u001b[0m kwargs \u001b[38;5;241m=\u001b[39m cbook\u001b[38;5;241m.\u001b[39mnormalize_kwargs(kwargs, mlines\u001b[38;5;241m.\u001b[39mLine2D)\n\u001b[1;32m-> 1632\u001b[0m lines \u001b[38;5;241m=\u001b[39m [\u001b[38;5;241m*\u001b[39m\u001b[38;5;28mself\u001b[39m\u001b[38;5;241m.\u001b[39m_get_lines(\u001b[38;5;241m*\u001b[39margs, data\u001b[38;5;241m=\u001b[39mdata, \u001b[38;5;241m*\u001b[39m\u001b[38;5;241m*\u001b[39mkwargs)]\n\u001b[0;32m   1633\u001b[0m \u001b[38;5;28;01mfor\u001b[39;00m line \u001b[38;5;129;01min\u001b[39;00m lines:\n\u001b[0;32m   1634\u001b[0m     \u001b[38;5;28mself\u001b[39m\u001b[38;5;241m.\u001b[39madd_line(line)\n",
      "File \u001b[1;32m~\\Documents\\Anaconda\\lib\\site-packages\\matplotlib\\axes\\_base.py:312\u001b[0m, in \u001b[0;36m_process_plot_var_args.__call__\u001b[1;34m(self, data, *args, **kwargs)\u001b[0m\n\u001b[0;32m    310\u001b[0m     this \u001b[38;5;241m+\u001b[39m\u001b[38;5;241m=\u001b[39m args[\u001b[38;5;241m0\u001b[39m],\n\u001b[0;32m    311\u001b[0m     args \u001b[38;5;241m=\u001b[39m args[\u001b[38;5;241m1\u001b[39m:]\n\u001b[1;32m--> 312\u001b[0m \u001b[38;5;28;01myield from\u001b[39;00m \u001b[38;5;28;43mself\u001b[39;49m\u001b[38;5;241;43m.\u001b[39;49m\u001b[43m_plot_args\u001b[49m\u001b[43m(\u001b[49m\u001b[43mthis\u001b[49m\u001b[43m,\u001b[49m\u001b[43m \u001b[49m\u001b[43mkwargs\u001b[49m\u001b[43m)\u001b[49m\n",
      "File \u001b[1;32m~\\Documents\\Anaconda\\lib\\site-packages\\matplotlib\\axes\\_base.py:487\u001b[0m, in \u001b[0;36m_process_plot_var_args._plot_args\u001b[1;34m(self, tup, kwargs, return_kwargs)\u001b[0m\n\u001b[0;32m    484\u001b[0m         kw[prop_name] \u001b[38;5;241m=\u001b[39m val\n\u001b[0;32m    486\u001b[0m \u001b[38;5;28;01mif\u001b[39;00m \u001b[38;5;28mlen\u001b[39m(xy) \u001b[38;5;241m==\u001b[39m \u001b[38;5;241m2\u001b[39m:\n\u001b[1;32m--> 487\u001b[0m     x \u001b[38;5;241m=\u001b[39m \u001b[43m_check_1d\u001b[49m\u001b[43m(\u001b[49m\u001b[43mxy\u001b[49m\u001b[43m[\u001b[49m\u001b[38;5;241;43m0\u001b[39;49m\u001b[43m]\u001b[49m\u001b[43m)\u001b[49m\n\u001b[0;32m    488\u001b[0m     y \u001b[38;5;241m=\u001b[39m _check_1d(xy[\u001b[38;5;241m1\u001b[39m])\n\u001b[0;32m    489\u001b[0m \u001b[38;5;28;01melse\u001b[39;00m:\n",
      "File \u001b[1;32m~\\Documents\\Anaconda\\lib\\site-packages\\matplotlib\\cbook\\__init__.py:1327\u001b[0m, in \u001b[0;36m_check_1d\u001b[1;34m(x)\u001b[0m\n\u001b[0;32m   1321\u001b[0m \u001b[38;5;28;01mwith\u001b[39;00m warnings\u001b[38;5;241m.\u001b[39mcatch_warnings(record\u001b[38;5;241m=\u001b[39m\u001b[38;5;28;01mTrue\u001b[39;00m) \u001b[38;5;28;01mas\u001b[39;00m w:\n\u001b[0;32m   1322\u001b[0m     warnings\u001b[38;5;241m.\u001b[39mfilterwarnings(\n\u001b[0;32m   1323\u001b[0m         \u001b[38;5;124m\"\u001b[39m\u001b[38;5;124malways\u001b[39m\u001b[38;5;124m\"\u001b[39m,\n\u001b[0;32m   1324\u001b[0m         category\u001b[38;5;241m=\u001b[39m\u001b[38;5;167;01mWarning\u001b[39;00m,\n\u001b[0;32m   1325\u001b[0m         message\u001b[38;5;241m=\u001b[39m\u001b[38;5;124m'\u001b[39m\u001b[38;5;124mSupport for multi-dimensional indexing\u001b[39m\u001b[38;5;124m'\u001b[39m)\n\u001b[1;32m-> 1327\u001b[0m     ndim \u001b[38;5;241m=\u001b[39m \u001b[43mx\u001b[49m\u001b[43m[\u001b[49m\u001b[43m:\u001b[49m\u001b[43m,\u001b[49m\u001b[43m \u001b[49m\u001b[38;5;28;43;01mNone\u001b[39;49;00m\u001b[43m]\u001b[49m\u001b[38;5;241m.\u001b[39mndim\n\u001b[0;32m   1328\u001b[0m     \u001b[38;5;66;03m# we have definitely hit a pandas index or series object\u001b[39;00m\n\u001b[0;32m   1329\u001b[0m     \u001b[38;5;66;03m# cast to a numpy array.\u001b[39;00m\n\u001b[0;32m   1330\u001b[0m     \u001b[38;5;28;01mif\u001b[39;00m \u001b[38;5;28mlen\u001b[39m(w) \u001b[38;5;241m>\u001b[39m \u001b[38;5;241m0\u001b[39m:\n",
      "File \u001b[1;32m~\\Documents\\Anaconda\\lib\\site-packages\\pandas\\core\\frame.py:3505\u001b[0m, in \u001b[0;36mDataFrame.__getitem__\u001b[1;34m(self, key)\u001b[0m\n\u001b[0;32m   3503\u001b[0m \u001b[38;5;28;01mif\u001b[39;00m \u001b[38;5;28mself\u001b[39m\u001b[38;5;241m.\u001b[39mcolumns\u001b[38;5;241m.\u001b[39mnlevels \u001b[38;5;241m>\u001b[39m \u001b[38;5;241m1\u001b[39m:\n\u001b[0;32m   3504\u001b[0m     \u001b[38;5;28;01mreturn\u001b[39;00m \u001b[38;5;28mself\u001b[39m\u001b[38;5;241m.\u001b[39m_getitem_multilevel(key)\n\u001b[1;32m-> 3505\u001b[0m indexer \u001b[38;5;241m=\u001b[39m \u001b[38;5;28;43mself\u001b[39;49m\u001b[38;5;241;43m.\u001b[39;49m\u001b[43mcolumns\u001b[49m\u001b[38;5;241;43m.\u001b[39;49m\u001b[43mget_loc\u001b[49m\u001b[43m(\u001b[49m\u001b[43mkey\u001b[49m\u001b[43m)\u001b[49m\n\u001b[0;32m   3506\u001b[0m \u001b[38;5;28;01mif\u001b[39;00m is_integer(indexer):\n\u001b[0;32m   3507\u001b[0m     indexer \u001b[38;5;241m=\u001b[39m [indexer]\n",
      "File \u001b[1;32m~\\Documents\\Anaconda\\lib\\site-packages\\pandas\\core\\indexes\\base.py:3628\u001b[0m, in \u001b[0;36mIndex.get_loc\u001b[1;34m(self, key, method, tolerance)\u001b[0m\n\u001b[0;32m   3623\u001b[0m         \u001b[38;5;28;01mraise\u001b[39;00m \u001b[38;5;167;01mKeyError\u001b[39;00m(key) \u001b[38;5;28;01mfrom\u001b[39;00m \u001b[38;5;21;01merr\u001b[39;00m\n\u001b[0;32m   3624\u001b[0m     \u001b[38;5;28;01mexcept\u001b[39;00m \u001b[38;5;167;01mTypeError\u001b[39;00m:\n\u001b[0;32m   3625\u001b[0m         \u001b[38;5;66;03m# If we have a listlike key, _check_indexing_error will raise\u001b[39;00m\n\u001b[0;32m   3626\u001b[0m         \u001b[38;5;66;03m#  InvalidIndexError. Otherwise we fall through and re-raise\u001b[39;00m\n\u001b[0;32m   3627\u001b[0m         \u001b[38;5;66;03m#  the TypeError.\u001b[39;00m\n\u001b[1;32m-> 3628\u001b[0m         \u001b[38;5;28;43mself\u001b[39;49m\u001b[38;5;241;43m.\u001b[39;49m\u001b[43m_check_indexing_error\u001b[49m\u001b[43m(\u001b[49m\u001b[43mkey\u001b[49m\u001b[43m)\u001b[49m\n\u001b[0;32m   3629\u001b[0m         \u001b[38;5;28;01mraise\u001b[39;00m\n\u001b[0;32m   3631\u001b[0m \u001b[38;5;66;03m# GH#42269\u001b[39;00m\n",
      "File \u001b[1;32m~\\Documents\\Anaconda\\lib\\site-packages\\pandas\\core\\indexes\\base.py:5637\u001b[0m, in \u001b[0;36mIndex._check_indexing_error\u001b[1;34m(self, key)\u001b[0m\n\u001b[0;32m   5633\u001b[0m \u001b[38;5;28;01mdef\u001b[39;00m \u001b[38;5;21m_check_indexing_error\u001b[39m(\u001b[38;5;28mself\u001b[39m, key):\n\u001b[0;32m   5634\u001b[0m     \u001b[38;5;28;01mif\u001b[39;00m \u001b[38;5;129;01mnot\u001b[39;00m is_scalar(key):\n\u001b[0;32m   5635\u001b[0m         \u001b[38;5;66;03m# if key is not a scalar, directly raise an error (the code below\u001b[39;00m\n\u001b[0;32m   5636\u001b[0m         \u001b[38;5;66;03m# would convert to numpy arrays and raise later any way) - GH29926\u001b[39;00m\n\u001b[1;32m-> 5637\u001b[0m         \u001b[38;5;28;01mraise\u001b[39;00m InvalidIndexError(key)\n",
      "\u001b[1;31mInvalidIndexError\u001b[0m: (slice(None, None, None), None)"
     ]
    },
    {
     "data": {
      "image/png": "[encoded data removed]",
      "text/plain": [
       "<Figure size 432x288 with 1 Axes>"
      ]
     },
     "metadata": {
      "needs_background": "light"
     },
     "output_type": "display_data"
    }
   ],
   "source": [
    "plt.plot(learning,loss)"
   ]
  },
  {
   "cell_type": "code",
   "execution_count": null,
   "metadata": {},
   "outputs": [],
   "source": []
  }
 ],
 "metadata": {
  "kernelspec": {
   "display_name": "Python 3 (ipykernel)",
   "language": "python",
   "name": "python3"
  },
  "language_info": {
   "codemirror_mode": {
    "name": "ipython",
    "version": 3
   },
   "file_extension": ".py",
   "mimetype": "text/x-python",
   "name": "python",
   "nbconvert_exporter": "python",
   "pygments_lexer": "ipython3",
   "version": "3.9.12"
  }
 },
 "nbformat": 4,
 "nbformat_minor": 4
}
